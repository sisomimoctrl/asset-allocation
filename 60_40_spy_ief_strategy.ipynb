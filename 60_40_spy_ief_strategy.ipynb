{
  "nbformat": 4,
  "nbformat_minor": 0,
  "metadata": {
    "colab": {
      "name": "60_40_spy_ief_strategy.ipynb",
      "provenance": [],
      "collapsed_sections": [],
      "authorship_tag": "ABX9TyNTnz+VUOecqtoRjFSw3KX8",
      "include_colab_link": true
    },
    "kernelspec": {
      "name": "python3",
      "display_name": "Python 3"
    },
    "language_info": {
      "name": "python"
    }
  },
  "cells": [
    {
      "cell_type": "markdown",
      "metadata": {
        "id": "view-in-github",
        "colab_type": "text"
      },
      "source": [
        "<a href=\"https://colab.research.google.com/github/sisomimoctrl/asset-allocation/blob/main/60_40_spy_ief_strategy.ipynb\" target=\"_parent\"><img src=\"https://colab.research.google.com/assets/colab-badge.svg\" alt=\"Open In Colab\"/></a>"
      ]
    },
    {
      "cell_type": "code",
      "source": [
        "!pip install bt yfinance quantstats"
      ],
      "metadata": {
        "id": "YGM3Gbb54kDI",
        "colab": {
          "base_uri": "https://localhost:8080/"
        },
        "outputId": "043500c5-30f8-4887-bbe1-388a431f48ab"
      },
      "execution_count": 1,
      "outputs": [
        {
          "output_type": "stream",
          "name": "stdout",
          "text": [
            "Requirement already satisfied: bt in /usr/local/lib/python3.7/dist-packages (0.2.9)\n",
            "Requirement already satisfied: yfinance in /usr/local/lib/python3.7/dist-packages (0.1.70)\n",
            "Requirement already satisfied: quantstats in /usr/local/lib/python3.7/dist-packages (0.0.56)\n",
            "Requirement already satisfied: ffn>=0.3.5 in /usr/local/lib/python3.7/dist-packages (from bt) (0.3.6)\n",
            "Requirement already satisfied: pyprind>=2.11 in /usr/local/lib/python3.7/dist-packages (from bt) (2.11.3)\n",
            "Requirement already satisfied: matplotlib>=1 in /usr/local/lib/python3.7/dist-packages (from ffn>=0.3.5->bt) (3.2.2)\n",
            "Requirement already satisfied: future>=0.15 in /usr/local/lib/python3.7/dist-packages (from ffn>=0.3.5->bt) (0.16.0)\n",
            "Requirement already satisfied: scikit-learn>=0.15 in /usr/local/lib/python3.7/dist-packages (from ffn>=0.3.5->bt) (1.0.2)\n",
            "Requirement already satisfied: numpy>=1.5 in /usr/local/lib/python3.7/dist-packages (from ffn>=0.3.5->bt) (1.21.6)\n",
            "Requirement already satisfied: tabulate>=0.7.5 in /usr/local/lib/python3.7/dist-packages (from ffn>=0.3.5->bt) (0.8.9)\n",
            "Requirement already satisfied: decorator>=4 in /usr/local/lib/python3.7/dist-packages (from ffn>=0.3.5->bt) (4.4.2)\n",
            "Requirement already satisfied: scipy>=0.15 in /usr/local/lib/python3.7/dist-packages (from ffn>=0.3.5->bt) (1.4.1)\n",
            "Requirement already satisfied: pandas>=0.19 in /usr/local/lib/python3.7/dist-packages (from ffn>=0.3.5->bt) (1.3.5)\n",
            "Requirement already satisfied: pandas-datareader>=0.2 in /usr/local/lib/python3.7/dist-packages (from ffn>=0.3.5->bt) (0.9.0)\n",
            "Requirement already satisfied: kiwisolver>=1.0.1 in /usr/local/lib/python3.7/dist-packages (from matplotlib>=1->ffn>=0.3.5->bt) (1.4.2)\n",
            "Requirement already satisfied: pyparsing!=2.0.4,!=2.1.2,!=2.1.6,>=2.0.1 in /usr/local/lib/python3.7/dist-packages (from matplotlib>=1->ffn>=0.3.5->bt) (3.0.8)\n",
            "Requirement already satisfied: cycler>=0.10 in /usr/local/lib/python3.7/dist-packages (from matplotlib>=1->ffn>=0.3.5->bt) (0.11.0)\n",
            "Requirement already satisfied: python-dateutil>=2.1 in /usr/local/lib/python3.7/dist-packages (from matplotlib>=1->ffn>=0.3.5->bt) (2.8.2)\n",
            "Requirement already satisfied: typing-extensions in /usr/local/lib/python3.7/dist-packages (from kiwisolver>=1.0.1->matplotlib>=1->ffn>=0.3.5->bt) (4.2.0)\n",
            "Requirement already satisfied: pytz>=2017.3 in /usr/local/lib/python3.7/dist-packages (from pandas>=0.19->ffn>=0.3.5->bt) (2022.1)\n",
            "Requirement already satisfied: lxml in /usr/local/lib/python3.7/dist-packages (from pandas-datareader>=0.2->ffn>=0.3.5->bt) (4.8.0)\n",
            "Requirement already satisfied: requests>=2.19.0 in /usr/local/lib/python3.7/dist-packages (from pandas-datareader>=0.2->ffn>=0.3.5->bt) (2.27.1)\n",
            "Requirement already satisfied: six>=1.5 in /usr/local/lib/python3.7/dist-packages (from python-dateutil>=2.1->matplotlib>=1->ffn>=0.3.5->bt) (1.15.0)\n",
            "Requirement already satisfied: urllib3<1.27,>=1.21.1 in /usr/local/lib/python3.7/dist-packages (from requests>=2.19.0->pandas-datareader>=0.2->ffn>=0.3.5->bt) (1.24.3)\n",
            "Requirement already satisfied: idna<4,>=2.5 in /usr/local/lib/python3.7/dist-packages (from requests>=2.19.0->pandas-datareader>=0.2->ffn>=0.3.5->bt) (2.10)\n",
            "Requirement already satisfied: charset-normalizer~=2.0.0 in /usr/local/lib/python3.7/dist-packages (from requests>=2.19.0->pandas-datareader>=0.2->ffn>=0.3.5->bt) (2.0.12)\n",
            "Requirement already satisfied: certifi>=2017.4.17 in /usr/local/lib/python3.7/dist-packages (from requests>=2.19.0->pandas-datareader>=0.2->ffn>=0.3.5->bt) (2021.10.8)\n",
            "Requirement already satisfied: joblib>=0.11 in /usr/local/lib/python3.7/dist-packages (from scikit-learn>=0.15->ffn>=0.3.5->bt) (1.1.0)\n",
            "Requirement already satisfied: threadpoolctl>=2.0.0 in /usr/local/lib/python3.7/dist-packages (from scikit-learn>=0.15->ffn>=0.3.5->bt) (3.1.0)\n",
            "Requirement already satisfied: multitasking>=0.0.7 in /usr/local/lib/python3.7/dist-packages (from yfinance) (0.0.10)\n",
            "Requirement already satisfied: seaborn>=0.9.0 in /usr/local/lib/python3.7/dist-packages (from quantstats) (0.11.2)\n"
          ]
        }
      ]
    },
    {
      "cell_type": "code",
      "source": [
        "import bt\n",
        "import yfinance as yf\n",
        "import pandas as pd\n",
        "import quantstats as qs\n",
        "import numpy as np\n",
        "import matplotlib.pyplot as plt\n",
        "%matplotlib inline"
      ],
      "metadata": {
        "id": "siqC98Aqdee0"
      },
      "execution_count": 2,
      "outputs": []
    },
    {
      "cell_type": "code",
      "source": [
        "tickers = ['spy', 'ief']\n",
        "df = yf.download(tickers, start='2003-1-1', end='2022-4-30')['Adj Close']\n",
        "\n",
        "df.info()"
      ],
      "metadata": {
        "id": "RBCjyEnY5ExD",
        "colab": {
          "base_uri": "https://localhost:8080/"
        },
        "outputId": "5682dfea-c799-424f-97b6-390cf18b5927"
      },
      "execution_count": 3,
      "outputs": [
        {
          "output_type": "stream",
          "name": "stdout",
          "text": [
            "[*********************100%***********************]  2 of 2 completed\n",
            "<class 'pandas.core.frame.DataFrame'>\n",
            "DatetimeIndex: 4867 entries, 2002-12-31 to 2022-04-29\n",
            "Data columns (total 2 columns):\n",
            " #   Column  Non-Null Count  Dtype  \n",
            "---  ------  --------------  -----  \n",
            " 0   IEF     4866 non-null   float64\n",
            " 1   SPY     4866 non-null   float64\n",
            "dtypes: float64(2)\n",
            "memory usage: 114.1 KB\n"
          ]
        }
      ]
    },
    {
      "cell_type": "code",
      "source": [
        "for c in df.columns:\n",
        "    print(c, df[c].first_valid_index(), ',', df[c].last_valid_index())"
      ],
      "metadata": {
        "id": "p41ackisLNjf",
        "colab": {
          "base_uri": "https://localhost:8080/"
        },
        "outputId": "dcda2107-4822-440a-f75d-08a1ac3f51da"
      },
      "execution_count": 4,
      "outputs": [
        {
          "output_type": "stream",
          "name": "stdout",
          "text": [
            "IEF 2003-01-02 00:00:00 , 2022-04-29 00:00:00\n",
            "SPY 2003-01-02 00:00:00 , 2022-04-29 00:00:00\n"
          ]
        }
      ]
    },
    {
      "cell_type": "code",
      "source": [
        "start = '2003-1-1'\n",
        "end = '2022-4-30'\n",
        "\n",
        "data = df[start:].copy()"
      ],
      "metadata": {
        "id": "Rw7xpA_xL0N7"
      },
      "execution_count": 5,
      "outputs": []
    },
    {
      "cell_type": "code",
      "source": [
        "print(data.corr())\n",
        "print(data.resample('M').last().corr())"
      ],
      "metadata": {
        "id": "Jy1_nFG0LjVZ",
        "colab": {
          "base_uri": "https://localhost:8080/"
        },
        "outputId": "9ba3f571-aade-40d5-d660-389091f9feaf"
      },
      "execution_count": 6,
      "outputs": [
        {
          "output_type": "stream",
          "name": "stdout",
          "text": [
            "          IEF       SPY\n",
            "IEF  1.000000  0.837259\n",
            "SPY  0.837259  1.000000\n",
            "          IEF       SPY\n",
            "IEF  1.000000  0.836722\n",
            "SPY  0.836722  1.000000\n"
          ]
        }
      ]
    },
    {
      "cell_type": "code",
      "source": [
        "def long_only_ew(name, data, tickers, initial_capital=100000000.0):\n",
        "    s = bt.Strategy(\n",
        "        name, \n",
        "        [bt.algos.RunOnce(),\n",
        "         bt.algos.SelectThese(tickers),\n",
        "         bt.algos.WeighEqually(),\n",
        "         bt.algos.Rebalance()])\n",
        "    t = bt.Backtest(s, data, initial_capital=initial_capital)\n",
        "    return t \n",
        "\n",
        "def strategy_6040(name, data, tickers, weights, initial_capital=100000000.0):\n",
        "    s = bt.Strategy(        \n",
        "        name, \n",
        "        [bt.algos.RunYearly(\n",
        "            run_on_first_date=True, \n",
        "            run_on_end_of_period=True, \n",
        "            run_on_last_date=False),\n",
        "         bt.algos.SelectThese(tickers),\n",
        "         bt.algos.WeighSpecified(**weights),\n",
        "         bt.algos.PrintDate(),\n",
        "         bt.algos.PrintTempData(),\n",
        "         bt.algos.Rebalance()])\n",
        "    t = bt.Backtest(s, data, initial_capital=initial_capital)\n",
        "    return t\n",
        "\n",
        "bt_spy = long_only_ew('SPY', data, ['SPY'])\n",
        "bt_6040 = strategy_6040('60_40', data, ['SPY', 'IEF'], {'SPY':0.6, 'IEF':0.4})\n",
        "\n",
        "res = bt.run(bt_6040, bt_spy)"
      ],
      "metadata": {
        "id": "mlrcABbleoPT",
        "colab": {
          "base_uri": "https://localhost:8080/"
        },
        "outputId": "4e074c8a-daed-495a-9a5a-a368a3ce2c57"
      },
      "execution_count": 7,
      "outputs": [
        {
          "output_type": "stream",
          "name": "stdout",
          "text": [
            "2003-01-02 00:00:00\n",
            "{'selected': ['SPY', 'IEF'], 'weights': {'SPY': 0.6, 'IEF': 0.4}}\n",
            "2003-12-31 00:00:00\n",
            "{'selected': ['SPY', 'IEF'], 'weights': {'SPY': 0.6, 'IEF': 0.4}}\n",
            "2004-12-31 00:00:00\n",
            "{'selected': ['SPY', 'IEF'], 'weights': {'SPY': 0.6, 'IEF': 0.4}}\n",
            "2005-12-30 00:00:00\n",
            "{'selected': ['SPY', 'IEF'], 'weights': {'SPY': 0.6, 'IEF': 0.4}}\n",
            "2006-12-29 00:00:00\n",
            "{'selected': ['SPY', 'IEF'], 'weights': {'SPY': 0.6, 'IEF': 0.4}}\n",
            "2007-12-31 00:00:00\n",
            "{'selected': ['SPY', 'IEF'], 'weights': {'SPY': 0.6, 'IEF': 0.4}}\n",
            "2008-12-31 00:00:00\n",
            "{'selected': ['SPY', 'IEF'], 'weights': {'SPY': 0.6, 'IEF': 0.4}}\n",
            "2009-12-31 00:00:00\n",
            "{'selected': ['SPY', 'IEF'], 'weights': {'SPY': 0.6, 'IEF': 0.4}}\n",
            "2010-12-31 00:00:00\n",
            "{'selected': ['SPY', 'IEF'], 'weights': {'SPY': 0.6, 'IEF': 0.4}}\n",
            "2011-12-30 00:00:00\n",
            "{'selected': ['SPY', 'IEF'], 'weights': {'SPY': 0.6, 'IEF': 0.4}}\n",
            "2012-12-31 00:00:00\n",
            "{'selected': ['SPY', 'IEF'], 'weights': {'SPY': 0.6, 'IEF': 0.4}}\n",
            "2013-12-31 00:00:00\n",
            "{'selected': ['SPY', 'IEF'], 'weights': {'SPY': 0.6, 'IEF': 0.4}}\n",
            "2014-12-31 00:00:00\n",
            "{'selected': ['SPY', 'IEF'], 'weights': {'SPY': 0.6, 'IEF': 0.4}}\n",
            "2015-12-31 00:00:00\n",
            "{'selected': ['SPY', 'IEF'], 'weights': {'SPY': 0.6, 'IEF': 0.4}}\n",
            "2016-12-30 00:00:00\n",
            "{'selected': ['SPY', 'IEF'], 'weights': {'SPY': 0.6, 'IEF': 0.4}}\n",
            "2017-12-29 00:00:00\n",
            "{'selected': ['SPY', 'IEF'], 'weights': {'SPY': 0.6, 'IEF': 0.4}}\n",
            "2018-12-31 00:00:00\n",
            "{'selected': ['SPY', 'IEF'], 'weights': {'SPY': 0.6, 'IEF': 0.4}}\n",
            "2019-12-31 00:00:00\n",
            "{'selected': ['SPY', 'IEF'], 'weights': {'SPY': 0.6, 'IEF': 0.4}}\n",
            "2020-12-31 00:00:00\n",
            "{'selected': ['SPY', 'IEF'], 'weights': {'SPY': 0.6, 'IEF': 0.4}}\n",
            "2021-12-31 00:00:00\n",
            "{'selected': ['SPY', 'IEF'], 'weights': {'SPY': 0.6, 'IEF': 0.4}}\n"
          ]
        }
      ]
    },
    {
      "cell_type": "code",
      "source": [
        "res.display()"
      ],
      "metadata": {
        "id": "c_UHp0n8ew86",
        "colab": {
          "base_uri": "https://localhost:8080/"
        },
        "outputId": "7191649f-4928-40ae-84b1-07c9e92a758c"
      },
      "execution_count": 8,
      "outputs": [
        {
          "output_type": "stream",
          "name": "stdout",
          "text": [
            "Stat                 60_40       SPY\n",
            "-------------------  ----------  ----------\n",
            "Start                2003-01-01  2003-01-01\n",
            "End                  2022-04-29  2022-04-29\n",
            "Risk-free rate       0.00%       0.00%\n",
            "\n",
            "Total Return         359.51%     555.43%\n",
            "Daily Sharpe         0.85        0.61\n",
            "Daily Sortino        1.33        0.95\n",
            "CAGR                 8.21%       10.22%\n",
            "Max Drawdown         -29.76%     -55.19%\n",
            "Calmar Ratio         0.28        0.19\n",
            "\n",
            "MTD                  -6.98%      -8.78%\n",
            "3m                   -7.27%      -6.49%\n",
            "6m                   -9.56%      -9.69%\n",
            "YTD                  -11.92%     -12.99%\n",
            "1Y                   -3.40%      -0.63%\n",
            "3Y (ann.)            8.63%       13.77%\n",
            "5Y (ann.)            8.70%       13.52%\n",
            "10Y (ann.)           8.92%       13.55%\n",
            "Since Incep. (ann.)  8.21%       10.22%\n",
            "\n",
            "Daily Sharpe         0.85        0.61\n",
            "Daily Sortino        1.33        0.95\n",
            "Daily Mean (ann.)    8.39%       11.52%\n",
            "Daily Vol (ann.)     9.92%       18.87%\n",
            "Daily Skew           -0.23       -0.08\n",
            "Daily Kurt           9.44        15.90\n",
            "Best Day             6.47%       14.52%\n",
            "Worst Day            -5.18%      -10.94%\n",
            "\n",
            "Monthly Sharpe       1.03        0.78\n",
            "Monthly Sortino      1.77        1.30\n",
            "Monthly Mean (ann.)  8.44%       11.13%\n",
            "Monthly Vol (ann.)   8.17%       14.30%\n",
            "Monthly Skew         -0.74       -0.65\n",
            "Monthly Kurt         2.00        1.79\n",
            "Best Month           6.76%       12.70%\n",
            "Worst Month          -9.24%      -16.52%\n",
            "\n",
            "Yearly Sharpe        0.84        0.63\n",
            "Yearly Sortino       1.85        1.20\n",
            "Yearly Mean          7.87%       10.55%\n",
            "Yearly Vol           9.40%       16.67%\n",
            "Yearly Skew          -1.19       -1.25\n",
            "Yearly Kurt          1.30        2.45\n",
            "Best Year            21.95%      32.31%\n",
            "Worst Year           -14.91%     -36.80%\n",
            "\n",
            "Avg. Drawdown        -1.06%      -1.72%\n",
            "Avg. Drawdown Days   16.86       21.05\n",
            "Avg. Up Month        1.86%       3.09%\n",
            "Avg. Down Month      -1.96%      -3.57%\n",
            "Win Year %           84.21%      84.21%\n",
            "Win 12m %            91.40%      86.88%\n"
          ]
        }
      ]
    },
    {
      "cell_type": "code",
      "source": [
        "res.plot()\n",
        "plt.title('60:40 strategy portfolio', fontsize=16)\n",
        "plt.legend(ncol=1)\n",
        "plt.show()"
      ],
      "metadata": {
        "id": "J9EvfhL7erzq",
        "colab": {
          "base_uri": "https://localhost:8080/",
          "height": 313
        },
        "outputId": "bfd871c3-38a6-4818-a5fc-94199b91749c"
      },
      "execution_count": 9,
      "outputs": [
        {
          "output_type": "display_data",
          "data": {
            "text/plain": [
              "<Figure size 1080x360 with 1 Axes>"
            ],
            "image/png": "[encoded data removed]"
          },
          "metadata": {
            "needs_background": "light"
          }
        }
      ]
    },
    {
      "cell_type": "code",
      "source": [
        "res.backtests['60_40'].stats.drawdown[:].plot()\n",
        "plt.title('Drawdowns for 60:40 strategy')\n",
        "plt.show()"
      ],
      "metadata": {
        "id": "I7psd_9ccDkx",
        "colab": {
          "base_uri": "https://localhost:8080/",
          "height": 279
        },
        "outputId": "0aebdfa2-77af-4fbf-8e23-386dab6771fc"
      },
      "execution_count": 10,
      "outputs": [
        {
          "output_type": "display_data",
          "data": {
            "text/plain": [
              "<Figure size 432x288 with 1 Axes>"
            ],
            "image/png": "[encoded data removed]"
          },
          "metadata": {
            "needs_background": "light"
          }
        }
      ]
    },
    {
      "cell_type": "code",
      "source": [
        "res.backtests['60_40'].stats.drawdown_details.sort_values(by='drawdown', ascending=True).head(5)"
      ],
      "metadata": {
        "id": "YvKfhl-GdNeQ",
        "colab": {
          "base_uri": "https://localhost:8080/",
          "height": 206
        },
        "outputId": "a027b845-cb60-48e9-95a6-4f6cb2efe46a"
      },
      "execution_count": 11,
      "outputs": [
        {
          "output_type": "execute_result",
          "data": {
            "text/plain": [
              "                   Start                  End Length  drawdown\n",
              "88   2007-10-10 00:00:00  2010-04-13 00:00:00    916 -0.297621\n",
              "305  2020-02-20 00:00:00  2020-06-08 00:00:00    109 -0.178684\n",
              "348  2021-12-28 00:00:00  2022-04-29 00:00:00    122 -0.122994\n",
              "272  2018-09-21 00:00:00  2019-03-13 00:00:00    173 -0.109875\n",
              "109  2011-07-25 00:00:00  2011-11-08 00:00:00    106 -0.082682"
            ],
            "text/html": [
              "\n",
              "  <div id=\"df-7142feaf-c15b-43c5-9247-a5e3c9918c68\">\n",
              "    <div class=\"colab-df-container\">\n",
              "      <div>\n",
              "<style scoped>\n",
              "    .dataframe tbody tr th:only-of-type {\n",
              "        vertical-align: middle;\n",
              "    }\n",
              "\n",
              "    .dataframe tbody tr th {\n",
              "        vertical-align: top;\n",
              "    }\n",
              "\n",
              "    .dataframe thead th {\n",
              "        text-align: right;\n",
              "    }\n",
              "</style>\n",
              "<table border=\"1\" class=\"dataframe\">\n",
              "  <thead>\n",
              "    <tr style=\"text-align: right;\">\n",
              "      <th></th>\n",
              "      <th>Start</th>\n",
              "      <th>End</th>\n",
              "      <th>Length</th>\n",
              "      <th>drawdown</th>\n",
              "    </tr>\n",
              "  </thead>\n",
              "  <tbody>\n",
              "    <tr>\n",
              "      <th>88</th>\n",
              "      <td>2007-10-10 00:00:00</td>\n",
              "      <td>2010-04-13 00:00:00</td>\n",
              "      <td>916</td>\n",
              "      <td>-0.297621</td>\n",
              "    </tr>\n",
              "    <tr>\n",
              "      <th>305</th>\n",
              "      <td>2020-02-20 00:00:00</td>\n",
              "      <td>2020-06-08 00:00:00</td>\n",
              "      <td>109</td>\n",
              "      <td>-0.178684</td>\n",
              "    </tr>\n",
              "    <tr>\n",
              "      <th>348</th>\n",
              "      <td>2021-12-28 00:00:00</td>\n",
              "      <td>2022-04-29 00:00:00</td>\n",
              "      <td>122</td>\n",
              "      <td>-0.122994</td>\n",
              "    </tr>\n",
              "    <tr>\n",
              "      <th>272</th>\n",
              "      <td>2018-09-21 00:00:00</td>\n",
              "      <td>2019-03-13 00:00:00</td>\n",
              "      <td>173</td>\n",
              "      <td>-0.109875</td>\n",
              "    </tr>\n",
              "    <tr>\n",
              "      <th>109</th>\n",
              "      <td>2011-07-25 00:00:00</td>\n",
              "      <td>2011-11-08 00:00:00</td>\n",
              "      <td>106</td>\n",
              "      <td>-0.082682</td>\n",
              "    </tr>\n",
              "  </tbody>\n",
              "</table>\n",
              "</div>\n",
              "      <button class=\"colab-df-convert\" onclick=\"convertToInteractive('df-7142feaf-c15b-43c5-9247-a5e3c9918c68')\"\n",
              "              title=\"Convert this dataframe to an interactive table.\"\n",
              "              style=\"display:none;\">\n",
              "        \n",
              "  <svg xmlns=\"http://www.w3.org/2000/svg\" height=\"24px\"viewBox=\"0 0 24 24\"\n",
              "       width=\"24px\">\n",
              "    <path d=\"M0 0h24v24H0V0z\" fill=\"none\"/>\n",
              "    <path d=\"M18.56 5.44l.94 2.06.94-2.06 2.06-.94-2.06-.94-.94-2.06-.94 2.06-2.06.94zm-11 1L8.5 8.5l.94-2.06 2.06-.94-2.06-.94L8.5 2.5l-.94 2.06-2.06.94zm10 10l.94 2.06.94-2.06 2.06-.94-2.06-.94-.94-2.06-.94 2.06-2.06.94z\"/><path d=\"M17.41 7.96l-1.37-1.37c-.4-.4-.92-.59-1.43-.59-.52 0-1.04.2-1.43.59L10.3 9.45l-7.72 7.72c-.78.78-.78 2.05 0 2.83L4 21.41c.39.39.9.59 1.41.59.51 0 1.02-.2 1.41-.59l7.78-7.78 2.81-2.81c.8-.78.8-2.07 0-2.86zM5.41 20L4 18.59l7.72-7.72 1.47 1.35L5.41 20z\"/>\n",
              "  </svg>\n",
              "      </button>\n",
              "      \n",
              "  <style>\n",
              "    .colab-df-container {\n",
              "      display:flex;\n",
              "      flex-wrap:wrap;\n",
              "      gap: 12px;\n",
              "    }\n",
              "\n",
              "    .colab-df-convert {\n",
              "      background-color: #E8F0FE;\n",
              "      border: none;\n",
              "      border-radius: 50%;\n",
              "      cursor: pointer;\n",
              "      display: none;\n",
              "      fill: #1967D2;\n",
              "      height: 32px;\n",
              "      padding: 0 0 0 0;\n",
              "      width: 32px;\n",
              "    }\n",
              "\n",
              "    .colab-df-convert:hover {\n",
              "      background-color: #E2EBFA;\n",
              "      box-shadow: 0px 1px 2px rgba(60, 64, 67, 0.3), 0px 1px 3px 1px rgba(60, 64, 67, 0.15);\n",
              "      fill: #174EA6;\n",
              "    }\n",
              "\n",
              "    [theme=dark] .colab-df-convert {\n",
              "      background-color: #3B4455;\n",
              "      fill: #D2E3FC;\n",
              "    }\n",
              "\n",
              "    [theme=dark] .colab-df-convert:hover {\n",
              "      background-color: #434B5C;\n",
              "      box-shadow: 0px 1px 3px 1px rgba(0, 0, 0, 0.15);\n",
              "      filter: drop-shadow(0px 1px 2px rgba(0, 0, 0, 0.3));\n",
              "      fill: #FFFFFF;\n",
              "    }\n",
              "  </style>\n",
              "\n",
              "      <script>\n",
              "        const buttonEl =\n",
              "          document.querySelector('#df-7142feaf-c15b-43c5-9247-a5e3c9918c68 button.colab-df-convert');\n",
              "        buttonEl.style.display =\n",
              "          google.colab.kernel.accessAllowed ? 'block' : 'none';\n",
              "\n",
              "        async function convertToInteractive(key) {\n",
              "          const element = document.querySelector('#df-7142feaf-c15b-43c5-9247-a5e3c9918c68');\n",
              "          const dataTable =\n",
              "            await google.colab.kernel.invokeFunction('convertToInteractive',\n",
              "                                                     [key], {});\n",
              "          if (!dataTable) return;\n",
              "\n",
              "          const docLinkHtml = 'Like what you see? Visit the ' +\n",
              "            '<a target=\"_blank\" href=https://colab.research.google.com/notebooks/data_table.ipynb>data table notebook</a>'\n",
              "            + ' to learn more about interactive tables.';\n",
              "          element.innerHTML = '';\n",
              "          dataTable['output_type'] = 'display_data';\n",
              "          await google.colab.output.renderOutput(dataTable, element);\n",
              "          const docLink = document.createElement('div');\n",
              "          docLink.innerHTML = docLinkHtml;\n",
              "          element.appendChild(docLink);\n",
              "        }\n",
              "      </script>\n",
              "    </div>\n",
              "  </div>\n",
              "  "
            ]
          },
          "metadata": {},
          "execution_count": 11
        }
      ]
    },
    {
      "cell_type": "code",
      "source": [
        "res.backtests['60_40'].stats.drawdown_details.sort_values(by='Length', ascending=False).head(5)"
      ],
      "metadata": {
        "id": "wJ7WChL7dfAx",
        "colab": {
          "base_uri": "https://localhost:8080/",
          "height": 206
        },
        "outputId": "0f60eb20-d6ee-4d7d-ee7a-f0bb2ed2b324"
      },
      "execution_count": 12,
      "outputs": [
        {
          "output_type": "execute_result",
          "data": {
            "text/plain": [
              "                   Start                  End Length  drawdown\n",
              "88   2007-10-10 00:00:00  2010-04-13 00:00:00    916 -0.297621\n",
              "32   2004-03-08 00:00:00  2004-11-03 00:00:00    240 -0.060459\n",
              "213  2015-04-27 00:00:00  2015-12-01 00:00:00    218 -0.069307\n",
              "268  2018-01-29 00:00:00  2018-08-17 00:00:00    200 -0.067131\n",
              "272  2018-09-21 00:00:00  2019-03-13 00:00:00    173 -0.109875"
            ],
            "text/html": [
              "\n",
              "  <div id=\"df-a30852b9-e37d-4319-b4f5-74893a2000bf\">\n",
              "    <div class=\"colab-df-container\">\n",
              "      <div>\n",
              "<style scoped>\n",
              "    .dataframe tbody tr th:only-of-type {\n",
              "        vertical-align: middle;\n",
              "    }\n",
              "\n",
              "    .dataframe tbody tr th {\n",
              "        vertical-align: top;\n",
              "    }\n",
              "\n",
              "    .dataframe thead th {\n",
              "        text-align: right;\n",
              "    }\n",
              "</style>\n",
              "<table border=\"1\" class=\"dataframe\">\n",
              "  <thead>\n",
              "    <tr style=\"text-align: right;\">\n",
              "      <th></th>\n",
              "      <th>Start</th>\n",
              "      <th>End</th>\n",
              "      <th>Length</th>\n",
              "      <th>drawdown</th>\n",
              "    </tr>\n",
              "  </thead>\n",
              "  <tbody>\n",
              "    <tr>\n",
              "      <th>88</th>\n",
              "      <td>2007-10-10 00:00:00</td>\n",
              "      <td>2010-04-13 00:00:00</td>\n",
              "      <td>916</td>\n",
              "      <td>-0.297621</td>\n",
              "    </tr>\n",
              "    <tr>\n",
              "      <th>32</th>\n",
              "      <td>2004-03-08 00:00:00</td>\n",
              "      <td>2004-11-03 00:00:00</td>\n",
              "      <td>240</td>\n",
              "      <td>-0.060459</td>\n",
              "    </tr>\n",
              "    <tr>\n",
              "      <th>213</th>\n",
              "      <td>2015-04-27 00:00:00</td>\n",
              "      <td>2015-12-01 00:00:00</td>\n",
              "      <td>218</td>\n",
              "      <td>-0.069307</td>\n",
              "    </tr>\n",
              "    <tr>\n",
              "      <th>268</th>\n",
              "      <td>2018-01-29 00:00:00</td>\n",
              "      <td>2018-08-17 00:00:00</td>\n",
              "      <td>200</td>\n",
              "      <td>-0.067131</td>\n",
              "    </tr>\n",
              "    <tr>\n",
              "      <th>272</th>\n",
              "      <td>2018-09-21 00:00:00</td>\n",
              "      <td>2019-03-13 00:00:00</td>\n",
              "      <td>173</td>\n",
              "      <td>-0.109875</td>\n",
              "    </tr>\n",
              "  </tbody>\n",
              "</table>\n",
              "</div>\n",
              "      <button class=\"colab-df-convert\" onclick=\"convertToInteractive('df-a30852b9-e37d-4319-b4f5-74893a2000bf')\"\n",
              "              title=\"Convert this dataframe to an interactive table.\"\n",
              "              style=\"display:none;\">\n",
              "        \n",
              "  <svg xmlns=\"http://www.w3.org/2000/svg\" height=\"24px\"viewBox=\"0 0 24 24\"\n",
              "       width=\"24px\">\n",
              "    <path d=\"M0 0h24v24H0V0z\" fill=\"none\"/>\n",
              "    <path d=\"M18.56 5.44l.94 2.06.94-2.06 2.06-.94-2.06-.94-.94-2.06-.94 2.06-2.06.94zm-11 1L8.5 8.5l.94-2.06 2.06-.94-2.06-.94L8.5 2.5l-.94 2.06-2.06.94zm10 10l.94 2.06.94-2.06 2.06-.94-2.06-.94-.94-2.06-.94 2.06-2.06.94z\"/><path d=\"M17.41 7.96l-1.37-1.37c-.4-.4-.92-.59-1.43-.59-.52 0-1.04.2-1.43.59L10.3 9.45l-7.72 7.72c-.78.78-.78 2.05 0 2.83L4 21.41c.39.39.9.59 1.41.59.51 0 1.02-.2 1.41-.59l7.78-7.78 2.81-2.81c.8-.78.8-2.07 0-2.86zM5.41 20L4 18.59l7.72-7.72 1.47 1.35L5.41 20z\"/>\n",
              "  </svg>\n",
              "      </button>\n",
              "      \n",
              "  <style>\n",
              "    .colab-df-container {\n",
              "      display:flex;\n",
              "      flex-wrap:wrap;\n",
              "      gap: 12px;\n",
              "    }\n",
              "\n",
              "    .colab-df-convert {\n",
              "      background-color: #E8F0FE;\n",
              "      border: none;\n",
              "      border-radius: 50%;\n",
              "      cursor: pointer;\n",
              "      display: none;\n",
              "      fill: #1967D2;\n",
              "      height: 32px;\n",
              "      padding: 0 0 0 0;\n",
              "      width: 32px;\n",
              "    }\n",
              "\n",
              "    .colab-df-convert:hover {\n",
              "      background-color: #E2EBFA;\n",
              "      box-shadow: 0px 1px 2px rgba(60, 64, 67, 0.3), 0px 1px 3px 1px rgba(60, 64, 67, 0.15);\n",
              "      fill: #174EA6;\n",
              "    }\n",
              "\n",
              "    [theme=dark] .colab-df-convert {\n",
              "      background-color: #3B4455;\n",
              "      fill: #D2E3FC;\n",
              "    }\n",
              "\n",
              "    [theme=dark] .colab-df-convert:hover {\n",
              "      background-color: #434B5C;\n",
              "      box-shadow: 0px 1px 3px 1px rgba(0, 0, 0, 0.15);\n",
              "      filter: drop-shadow(0px 1px 2px rgba(0, 0, 0, 0.3));\n",
              "      fill: #FFFFFF;\n",
              "    }\n",
              "  </style>\n",
              "\n",
              "      <script>\n",
              "        const buttonEl =\n",
              "          document.querySelector('#df-a30852b9-e37d-4319-b4f5-74893a2000bf button.colab-df-convert');\n",
              "        buttonEl.style.display =\n",
              "          google.colab.kernel.accessAllowed ? 'block' : 'none';\n",
              "\n",
              "        async function convertToInteractive(key) {\n",
              "          const element = document.querySelector('#df-a30852b9-e37d-4319-b4f5-74893a2000bf');\n",
              "          const dataTable =\n",
              "            await google.colab.kernel.invokeFunction('convertToInteractive',\n",
              "                                                     [key], {});\n",
              "          if (!dataTable) return;\n",
              "\n",
              "          const docLinkHtml = 'Like what you see? Visit the ' +\n",
              "            '<a target=\"_blank\" href=https://colab.research.google.com/notebooks/data_table.ipynb>data table notebook</a>'\n",
              "            + ' to learn more about interactive tables.';\n",
              "          element.innerHTML = '';\n",
              "          dataTable['output_type'] = 'display_data';\n",
              "          await google.colab.output.renderOutput(dataTable, element);\n",
              "          const docLink = document.createElement('div');\n",
              "          docLink.innerHTML = docLinkHtml;\n",
              "          element.appendChild(docLink);\n",
              "        }\n",
              "      </script>\n",
              "    </div>\n",
              "  </div>\n",
              "  "
            ]
          },
          "metadata": {},
          "execution_count": 12
        }
      ]
    },
    {
      "cell_type": "code",
      "source": [
        "res.display_monthly_returns()"
      ],
      "metadata": {
        "id": "3-1Q7vPYeuYC",
        "colab": {
          "base_uri": "https://localhost:8080/"
        },
        "outputId": "464efd74-d2f1-4d78-be63-ede2b1f4aacd"
      },
      "execution_count": 13,
      "outputs": [
        {
          "output_type": "stream",
          "name": "stdout",
          "text": [
            "  Year    Jan    Feb    Mar    Apr    May    Jun    Jul    Aug    Sep    Oct    Nov    Dec     YTD\n",
            "------  -----  -----  -----  -----  -----  -----  -----  -----  -----  -----  -----  -----  ------\n",
            "  2003  -2.97   0.13  -0.04   4.94   4.8    0.36  -0.89   1.55   1.19   2.69   0.69   3.92   17.31\n",
            "  2004   1.59   1.46  -0.28  -2.89   0.82   1.38  -1.49   1.28   0.73   1.17   1.85   2.29    8.07\n",
            "  2005  -1      0.68  -1.26  -0.11   2.65   0.29   1.36   0.23  -0.23  -1.92   2.89   0.42    3.95\n",
            "  2006   1.16   0.31   0.47   0.54  -1.91   0.25   0.92   2.02   2.12   2.15   1.73   0.35   10.51\n",
            "  2007   0.74  -0.37   0.63   2.89   1.51  -1.08  -1.06   1.67   2.36   1.25  -0.79  -0.64    7.24\n",
            "  2008  -2.29  -0.97   0.07   1.62   0.13  -4.44  -0.19   1.54  -5.33  -9.24   0.51   3.25  -14.91\n",
            "  2009  -6.48  -6.63   6.14   4.54   2.71  -0.25   4.97   2.64   2.69  -1.3    4.7   -0.26   13.17\n",
            "  2010  -1.23   1.96   3.17   1.59  -3.69  -1.73   4.23  -1.16   4.98   2.2   -0.37   2.52   12.78\n",
            "  2011   1.39   2.02  -0.05   2.49   0.27  -1.22   0.04  -1.37  -2.98   5.37   0.01   1.45    7.4\n",
            "  2012   3.13   2.21   1.4    0.5   -2.68   2.29   1.27   1.49   1.44  -1.29   0.72   0.2    11.06\n",
            "  2013   2.55   1.22   2.45   1.77   0.31  -1.77   3.18  -2.45   2.7    3.29   1.66   1.04   16.95\n",
            "  2014  -0.89   2.81   0.26   0.72   2.12   1.15  -0.9    3.12  -1.25   2.03   2.17  -0.1    11.71\n",
            "  2015  -0.06   2.24  -0.6    0.33   0.6   -1.87   1.96  -3.65  -0.86   4.66   0.05  -1.22    1.34\n",
            "  2016  -1.65   0.58   3.85   0.17   0.97   1.45   2.26  -0.33   0.1   -1.64   0.52   1.21    7.6\n",
            "  2017   1.16   2.66   0.11   1.04   1.18   0.19   1.41   0.74   0.69   1.4    1.82   0.84   14.04\n",
            "  2018   2.52  -2.6   -1.23  -0.2    1.86   0.43   2.06   2.37  -0.08  -4.47   1.65  -4.34   -2.35\n",
            "  2019   5.06   1.8    2.13   2.35  -2.93   4.73   0.96   0.42   0.74   1.45   2.01   1.51   21.95\n",
            "  2020   1.36  -3.47  -5.43   6.76   2.77   1.02   3.71   3.63  -2.1   -2.03   6.49   2.16   15\n",
            "  2021  -1.05   0.72   1.86   3.7    0.57   1.8    2.28   1.77  -3.59   4.35  -0.16   2.85   15.91\n",
            "  2022  -4.01  -1.87   0.52  -6.98   0      0      0      0      0      0      0      0     -11.92\n"
          ]
        }
      ]
    }
  ]
}
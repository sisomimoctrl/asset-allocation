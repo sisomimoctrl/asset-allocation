{
  "nbformat": 4,
  "nbformat_minor": 0,
  "metadata": {
    "colab": {
      "name": "all-weather_kr_strategy.ipynb",
      "provenance": [],
      "collapsed_sections": [],
      "authorship_tag": "ABX9TyPaqJlBqo3z7vu+QPTsTPpa",
      "include_colab_link": true
    },
    "kernelspec": {
      "name": "python3",
      "display_name": "Python 3"
    },
    "language_info": {
      "name": "python"
    }
  },
  "cells": [
    {
      "cell_type": "markdown",
      "metadata": {
        "id": "view-in-github",
        "colab_type": "text"
      },
      "source": [
        "<a href=\"https://colab.research.google.com/github/sisomimoctrl/asset-allocation/blob/main/all_weather_kr_strategy.ipynb\" target=\"_parent\"><img src=\"https://colab.research.google.com/assets/colab-badge.svg\" alt=\"Open In Colab\"/></a>"
      ]
    },
    {
      "cell_type": "code",
      "source": [
        "!pip install bt yfinance quantstats"
      ],
      "metadata": {
        "id": "YGM3Gbb54kDI",
        "colab": {
          "base_uri": "https://localhost:8080/"
        },
        "outputId": "8e914c66-11bc-44b3-a888-435d204c155e"
      },
      "execution_count": 1,
      "outputs": [
        {
          "output_type": "stream",
          "name": "stdout",
          "text": [
            "Requirement already satisfied: bt in /usr/local/lib/python3.7/dist-packages (0.2.9)\n",
            "Requirement already satisfied: yfinance in /usr/local/lib/python3.7/dist-packages (0.1.70)\n",
            "Requirement already satisfied: quantstats in /usr/local/lib/python3.7/dist-packages (0.0.56)\n",
            "Requirement already satisfied: pyprind>=2.11 in /usr/local/lib/python3.7/dist-packages (from bt) (2.11.3)\n",
            "Requirement already satisfied: ffn>=0.3.5 in /usr/local/lib/python3.7/dist-packages (from bt) (0.3.6)\n",
            "Requirement already satisfied: tabulate>=0.7.5 in /usr/local/lib/python3.7/dist-packages (from ffn>=0.3.5->bt) (0.8.9)\n",
            "Requirement already satisfied: pandas-datareader>=0.2 in /usr/local/lib/python3.7/dist-packages (from ffn>=0.3.5->bt) (0.9.0)\n",
            "Requirement already satisfied: scipy>=0.15 in /usr/local/lib/python3.7/dist-packages (from ffn>=0.3.5->bt) (1.4.1)\n",
            "Requirement already satisfied: scikit-learn>=0.15 in /usr/local/lib/python3.7/dist-packages (from ffn>=0.3.5->bt) (1.0.2)\n",
            "Requirement already satisfied: matplotlib>=1 in /usr/local/lib/python3.7/dist-packages (from ffn>=0.3.5->bt) (3.2.2)\n",
            "Requirement already satisfied: decorator>=4 in /usr/local/lib/python3.7/dist-packages (from ffn>=0.3.5->bt) (4.4.2)\n",
            "Requirement already satisfied: future>=0.15 in /usr/local/lib/python3.7/dist-packages (from ffn>=0.3.5->bt) (0.16.0)\n",
            "Requirement already satisfied: numpy>=1.5 in /usr/local/lib/python3.7/dist-packages (from ffn>=0.3.5->bt) (1.21.6)\n",
            "Requirement already satisfied: pandas>=0.19 in /usr/local/lib/python3.7/dist-packages (from ffn>=0.3.5->bt) (1.3.5)\n",
            "Requirement already satisfied: pyparsing!=2.0.4,!=2.1.2,!=2.1.6,>=2.0.1 in /usr/local/lib/python3.7/dist-packages (from matplotlib>=1->ffn>=0.3.5->bt) (3.0.8)\n",
            "Requirement already satisfied: kiwisolver>=1.0.1 in /usr/local/lib/python3.7/dist-packages (from matplotlib>=1->ffn>=0.3.5->bt) (1.4.2)\n",
            "Requirement already satisfied: python-dateutil>=2.1 in /usr/local/lib/python3.7/dist-packages (from matplotlib>=1->ffn>=0.3.5->bt) (2.8.2)\n",
            "Requirement already satisfied: cycler>=0.10 in /usr/local/lib/python3.7/dist-packages (from matplotlib>=1->ffn>=0.3.5->bt) (0.11.0)\n",
            "Requirement already satisfied: typing-extensions in /usr/local/lib/python3.7/dist-packages (from kiwisolver>=1.0.1->matplotlib>=1->ffn>=0.3.5->bt) (4.2.0)\n",
            "Requirement already satisfied: pytz>=2017.3 in /usr/local/lib/python3.7/dist-packages (from pandas>=0.19->ffn>=0.3.5->bt) (2022.1)\n",
            "Requirement already satisfied: lxml in /usr/local/lib/python3.7/dist-packages (from pandas-datareader>=0.2->ffn>=0.3.5->bt) (4.8.0)\n",
            "Requirement already satisfied: requests>=2.19.0 in /usr/local/lib/python3.7/dist-packages (from pandas-datareader>=0.2->ffn>=0.3.5->bt) (2.27.1)\n",
            "Requirement already satisfied: six>=1.5 in /usr/local/lib/python3.7/dist-packages (from python-dateutil>=2.1->matplotlib>=1->ffn>=0.3.5->bt) (1.15.0)\n",
            "Requirement already satisfied: urllib3<1.27,>=1.21.1 in /usr/local/lib/python3.7/dist-packages (from requests>=2.19.0->pandas-datareader>=0.2->ffn>=0.3.5->bt) (1.24.3)\n",
            "Requirement already satisfied: idna<4,>=2.5 in /usr/local/lib/python3.7/dist-packages (from requests>=2.19.0->pandas-datareader>=0.2->ffn>=0.3.5->bt) (2.10)\n",
            "Requirement already satisfied: certifi>=2017.4.17 in /usr/local/lib/python3.7/dist-packages (from requests>=2.19.0->pandas-datareader>=0.2->ffn>=0.3.5->bt) (2021.10.8)\n",
            "Requirement already satisfied: charset-normalizer~=2.0.0 in /usr/local/lib/python3.7/dist-packages (from requests>=2.19.0->pandas-datareader>=0.2->ffn>=0.3.5->bt) (2.0.12)\n",
            "Requirement already satisfied: threadpoolctl>=2.0.0 in /usr/local/lib/python3.7/dist-packages (from scikit-learn>=0.15->ffn>=0.3.5->bt) (3.1.0)\n",
            "Requirement already satisfied: joblib>=0.11 in /usr/local/lib/python3.7/dist-packages (from scikit-learn>=0.15->ffn>=0.3.5->bt) (1.1.0)\n",
            "Requirement already satisfied: multitasking>=0.0.7 in /usr/local/lib/python3.7/dist-packages (from yfinance) (0.0.10)\n",
            "Requirement already satisfied: seaborn>=0.9.0 in /usr/local/lib/python3.7/dist-packages (from quantstats) (0.11.2)\n"
          ]
        }
      ]
    },
    {
      "cell_type": "code",
      "source": [
        "import bt\n",
        "import yfinance as yf\n",
        "import pandas as pd\n",
        "import quantstats as qs\n",
        "import numpy as np\n",
        "import matplotlib.pyplot as plt\n",
        "import seaborn as sns\n",
        "%matplotlib inline"
      ],
      "metadata": {
        "id": "siqC98Aqdee0"
      },
      "execution_count": 2,
      "outputs": []
    },
    {
      "cell_type": "code",
      "source": [
        "tickers = ['spy', 'efa', 'eem', 'dbc', 'gld', 'edv', 'ltpz', 'lqd', 'emlc']\n",
        "df = yf.download(tickers, end='2022-4-30')['Adj Close']\n",
        "\n",
        "df.info()"
      ],
      "metadata": {
        "id": "RBCjyEnY5ExD",
        "colab": {
          "base_uri": "https://localhost:8080/"
        },
        "outputId": "0bfd0b7c-8e13-4c13-a6f0-1dfc809ad2e1"
      },
      "execution_count": 3,
      "outputs": [
        {
          "output_type": "stream",
          "name": "stdout",
          "text": [
            "[*********************100%***********************]  9 of 9 completed\n",
            "<class 'pandas.core.frame.DataFrame'>\n",
            "DatetimeIndex: 7367 entries, 1993-01-29 to 2022-04-29\n",
            "Data columns (total 9 columns):\n",
            " #   Column  Non-Null Count  Dtype  \n",
            "---  ------  --------------  -----  \n",
            " 0   DBC     4087 non-null   float64\n",
            " 1   EDV     3590 non-null   float64\n",
            " 2   EEM     4796 non-null   float64\n",
            " 3   EFA     5202 non-null   float64\n",
            " 4   EMLC    2964 non-null   float64\n",
            " 5   GLD     4392 non-null   float64\n",
            " 6   LQD     4974 non-null   float64\n",
            " 7   LTPZ    3184 non-null   float64\n",
            " 8   SPY     7367 non-null   float64\n",
            "dtypes: float64(9)\n",
            "memory usage: 575.5 KB\n"
          ]
        }
      ]
    },
    {
      "cell_type": "code",
      "source": [
        "for c in df.columns:\n",
        "    print(c, df[c].first_valid_index(), ',', df[c].last_valid_index())"
      ],
      "metadata": {
        "id": "p41ackisLNjf",
        "colab": {
          "base_uri": "https://localhost:8080/"
        },
        "outputId": "7f37fa55-3ab5-401a-fb05-83c7e6c7e62b"
      },
      "execution_count": 4,
      "outputs": [
        {
          "output_type": "stream",
          "name": "stdout",
          "text": [
            "DBC 2006-02-06 00:00:00 , 2022-04-29 00:00:00\n",
            "EDV 2008-01-29 00:00:00 , 2022-04-29 00:00:00\n",
            "EEM 2003-04-14 00:00:00 , 2022-04-29 00:00:00\n",
            "EFA 2001-08-27 00:00:00 , 2022-04-29 00:00:00\n",
            "EMLC 2010-07-23 00:00:00 , 2022-04-29 00:00:00\n",
            "GLD 2004-11-18 00:00:00 , 2022-04-29 00:00:00\n",
            "LQD 2002-07-30 00:00:00 , 2022-04-29 00:00:00\n",
            "LTPZ 2009-09-08 00:00:00 , 2022-04-29 00:00:00\n",
            "SPY 1993-01-29 00:00:00 , 2022-04-29 00:00:00\n"
          ]
        }
      ]
    },
    {
      "cell_type": "code",
      "source": [
        "start = '2011-1-1'\n",
        "end = '2022-4-30'\n",
        "\n",
        "data = df[start:].copy()"
      ],
      "metadata": {
        "id": "Rw7xpA_xL0N7"
      },
      "execution_count": 5,
      "outputs": []
    },
    {
      "cell_type": "code",
      "source": [
        "print(data.corr())\n",
        "print(data.resample('M').last().corr())"
      ],
      "metadata": {
        "id": "Jy1_nFG0LjVZ",
        "colab": {
          "base_uri": "https://localhost:8080/"
        },
        "outputId": "ced07d4d-53c7-4f51-8479-3c79e38c7618"
      },
      "execution_count": 6,
      "outputs": [
        {
          "output_type": "stream",
          "name": "stdout",
          "text": [
            "           DBC       EDV       EEM       EFA      EMLC       GLD       LQD  \\\n",
            "DBC   1.000000 -0.674257 -0.128316 -0.431060  0.587093  0.332777 -0.612388   \n",
            "EDV  -0.674257  1.000000  0.556888  0.698202 -0.226710  0.386050  0.948696   \n",
            "EEM  -0.128316  0.556888  1.000000  0.869767  0.303763  0.485851  0.740488   \n",
            "EFA  -0.431060  0.698202  0.869767  1.000000 -0.051480  0.198919  0.872189   \n",
            "EMLC  0.587093 -0.226710  0.303763 -0.051480  1.000000  0.410737 -0.132923   \n",
            "GLD   0.332777  0.386050  0.485851  0.198919  0.410737  1.000000  0.366568   \n",
            "LQD  -0.612388  0.948696  0.740488  0.872189 -0.132923  0.366568  1.000000   \n",
            "LTPZ -0.391763  0.920753  0.741121  0.786740 -0.027100  0.600797  0.940808   \n",
            "SPY  -0.467965  0.824259  0.823833  0.952240 -0.162007  0.352026  0.940939   \n",
            "\n",
            "          LTPZ       SPY  \n",
            "DBC  -0.391763 -0.467965  \n",
            "EDV   0.920753  0.824259  \n",
            "EEM   0.741121  0.823833  \n",
            "EFA   0.786740  0.952240  \n",
            "EMLC -0.027100 -0.162007  \n",
            "GLD   0.600797  0.352026  \n",
            "LQD   0.940808  0.940939  \n",
            "LTPZ  1.000000  0.902700  \n",
            "SPY   0.902700  1.000000  \n",
            "           DBC       EDV       EEM       EFA      EMLC       GLD       LQD  \\\n",
            "DBC   1.000000 -0.675722 -0.116869 -0.426322  0.580643  0.334414 -0.616243   \n",
            "EDV  -0.675722  1.000000  0.545012  0.692539 -0.239176  0.380886  0.950288   \n",
            "EEM  -0.116869  0.545012  1.000000  0.864813  0.287982  0.486830  0.728862   \n",
            "EFA  -0.426322  0.692539  0.864813  1.000000 -0.081637  0.193132  0.865315   \n",
            "EMLC  0.580643 -0.239176  0.287982 -0.081637  1.000000  0.408589 -0.154865   \n",
            "GLD   0.334414  0.380886  0.486830  0.193132  0.408589  1.000000  0.363792   \n",
            "LQD  -0.616243  0.950288  0.728862  0.865315 -0.154865  0.363792  1.000000   \n",
            "LTPZ -0.395472  0.920140  0.735811  0.785761 -0.051254  0.594996  0.942193   \n",
            "SPY  -0.463801  0.821637  0.818010  0.950487 -0.191525  0.352187  0.937437   \n",
            "\n",
            "          LTPZ       SPY  \n",
            "DBC  -0.395472 -0.463801  \n",
            "EDV   0.920140  0.821637  \n",
            "EEM   0.735811  0.818010  \n",
            "EFA   0.785761  0.950487  \n",
            "EMLC -0.051254 -0.191525  \n",
            "GLD   0.594996  0.352187  \n",
            "LQD   0.942193  0.937437  \n",
            "LTPZ  1.000000  0.905621  \n",
            "SPY   0.905621  1.000000  \n"
          ]
        }
      ]
    },
    {
      "cell_type": "code",
      "source": [
        "sns.heatmap(data=data.corr(), annot=True, vmin=-1, vmax=1, cmap=plt.cm.PuBu)"
      ],
      "metadata": {
        "colab": {
          "base_uri": "https://localhost:8080/",
          "height": 294
        },
        "id": "7KLUWtkKn_Ej",
        "outputId": "ed2bcfee-8885-4e38-c87b-bbef8d76dd14"
      },
      "execution_count": 7,
      "outputs": [
        {
          "output_type": "execute_result",
          "data": {
            "text/plain": [
              "<matplotlib.axes._subplots.AxesSubplot at 0x7f90da6f7550>"
            ]
          },
          "metadata": {},
          "execution_count": 7
        },
        {
          "output_type": "display_data",
          "data": {
            "text/plain": [
              "<Figure size 432x288 with 2 Axes>"
            ],
            "image/png": "[encoded data removed]"
          },
          "metadata": {
            "needs_background": "light"
          }
        }
      ]
    },
    {
      "cell_type": "code",
      "source": [
        "def long_only_ew(name, data, tickers, initial_capital=100000000.0):\n",
        "    s = bt.Strategy(\n",
        "        name, \n",
        "        [bt.algos.RunOnce(),\n",
        "         bt.algos.SelectThese(tickers),\n",
        "         bt.algos.WeighEqually(),\n",
        "         bt.algos.Rebalance()])\n",
        "    t = bt.Backtest(s, data, initial_capital=initial_capital)\n",
        "    return t \n",
        "\n",
        "def strategy_all_weather(name, data, tickers, weights, initial_capital=100000000.0):\n",
        "    s = bt.Strategy(        \n",
        "        name, \n",
        "        [bt.algos.RunYearly(\n",
        "            run_on_first_date=True, \n",
        "            run_on_end_of_period=True, \n",
        "            run_on_last_date=False),\n",
        "         bt.algos.SelectThese(tickers),\n",
        "         bt.algos.WeighSpecified(**weights),\n",
        "         bt.algos.PrintDate(),\n",
        "         bt.algos.PrintTempData(),\n",
        "         bt.algos.Rebalance()])\n",
        "    t = bt.Backtest(s, data, initial_capital=initial_capital)\n",
        "    return t\n",
        "\n",
        "weights = { 'SPY':0.12, 'EFA':0.12, 'EEM':0.12, 'DBC':0.07, 'GLD':0.07,\n",
        "           'EDV':0.18, 'LTPZ':0.18, 'LQD':0.07, 'EMLC':0.07 }\n",
        "bt_spy = long_only_ew('SPY', data, ['SPY'])\n",
        "bt_all_weather_kr = strategy_all_weather('All-Weather-KR', \n",
        "    data = data, \n",
        "    tickers = ['SPY', 'EFA', 'EEM', 'DBC', 'GLD',\n",
        "               'EDV', 'LTPZ', 'LQD', 'EMLC'], \n",
        "    weights=weights)\n",
        "\n",
        "res = bt.run(bt_all_weather_kr, bt_spy)"
      ],
      "metadata": {
        "id": "mlrcABbleoPT",
        "colab": {
          "base_uri": "https://localhost:8080/"
        },
        "outputId": "51788024-9220-43c9-b473-b4508ea08d37"
      },
      "execution_count": 8,
      "outputs": [
        {
          "output_type": "stream",
          "name": "stdout",
          "text": [
            "2011-01-03 00:00:00\n",
            "{'selected': ['SPY', 'EFA', 'EEM', 'DBC', 'GLD', 'EDV', 'LTPZ', 'LQD', 'EMLC'], 'weights': {'SPY': 0.12, 'EFA': 0.12, 'EEM': 0.12, 'DBC': 0.07, 'GLD': 0.07, 'EDV': 0.18, 'LTPZ': 0.18, 'LQD': 0.07, 'EMLC': 0.07}}\n",
            "2011-12-30 00:00:00\n",
            "{'selected': ['SPY', 'EFA', 'EEM', 'DBC', 'GLD', 'EDV', 'LTPZ', 'LQD', 'EMLC'], 'weights': {'SPY': 0.12, 'EFA': 0.12, 'EEM': 0.12, 'DBC': 0.07, 'GLD': 0.07, 'EDV': 0.18, 'LTPZ': 0.18, 'LQD': 0.07, 'EMLC': 0.07}}\n",
            "2012-12-31 00:00:00\n",
            "{'selected': ['SPY', 'EFA', 'EEM', 'DBC', 'GLD', 'EDV', 'LTPZ', 'LQD', 'EMLC'], 'weights': {'SPY': 0.12, 'EFA': 0.12, 'EEM': 0.12, 'DBC': 0.07, 'GLD': 0.07, 'EDV': 0.18, 'LTPZ': 0.18, 'LQD': 0.07, 'EMLC': 0.07}}\n",
            "2013-12-31 00:00:00\n",
            "{'selected': ['SPY', 'EFA', 'EEM', 'DBC', 'GLD', 'EDV', 'LTPZ', 'LQD', 'EMLC'], 'weights': {'SPY': 0.12, 'EFA': 0.12, 'EEM': 0.12, 'DBC': 0.07, 'GLD': 0.07, 'EDV': 0.18, 'LTPZ': 0.18, 'LQD': 0.07, 'EMLC': 0.07}}\n",
            "2014-12-31 00:00:00\n",
            "{'selected': ['SPY', 'EFA', 'EEM', 'DBC', 'GLD', 'EDV', 'LTPZ', 'LQD', 'EMLC'], 'weights': {'SPY': 0.12, 'EFA': 0.12, 'EEM': 0.12, 'DBC': 0.07, 'GLD': 0.07, 'EDV': 0.18, 'LTPZ': 0.18, 'LQD': 0.07, 'EMLC': 0.07}}\n",
            "2015-12-31 00:00:00\n",
            "{'selected': ['SPY', 'EFA', 'EEM', 'DBC', 'GLD', 'EDV', 'LTPZ', 'LQD', 'EMLC'], 'weights': {'SPY': 0.12, 'EFA': 0.12, 'EEM': 0.12, 'DBC': 0.07, 'GLD': 0.07, 'EDV': 0.18, 'LTPZ': 0.18, 'LQD': 0.07, 'EMLC': 0.07}}\n",
            "2016-12-30 00:00:00\n",
            "{'selected': ['SPY', 'EFA', 'EEM', 'DBC', 'GLD', 'EDV', 'LTPZ', 'LQD', 'EMLC'], 'weights': {'SPY': 0.12, 'EFA': 0.12, 'EEM': 0.12, 'DBC': 0.07, 'GLD': 0.07, 'EDV': 0.18, 'LTPZ': 0.18, 'LQD': 0.07, 'EMLC': 0.07}}\n",
            "2017-12-29 00:00:00\n",
            "{'selected': ['SPY', 'EFA', 'EEM', 'DBC', 'GLD', 'EDV', 'LTPZ', 'LQD', 'EMLC'], 'weights': {'SPY': 0.12, 'EFA': 0.12, 'EEM': 0.12, 'DBC': 0.07, 'GLD': 0.07, 'EDV': 0.18, 'LTPZ': 0.18, 'LQD': 0.07, 'EMLC': 0.07}}\n",
            "2018-12-31 00:00:00\n",
            "{'selected': ['SPY', 'EFA', 'EEM', 'DBC', 'GLD', 'EDV', 'LTPZ', 'LQD', 'EMLC'], 'weights': {'SPY': 0.12, 'EFA': 0.12, 'EEM': 0.12, 'DBC': 0.07, 'GLD': 0.07, 'EDV': 0.18, 'LTPZ': 0.18, 'LQD': 0.07, 'EMLC': 0.07}}\n",
            "2019-12-31 00:00:00\n",
            "{'selected': ['SPY', 'EFA', 'EEM', 'DBC', 'GLD', 'EDV', 'LTPZ', 'LQD', 'EMLC'], 'weights': {'SPY': 0.12, 'EFA': 0.12, 'EEM': 0.12, 'DBC': 0.07, 'GLD': 0.07, 'EDV': 0.18, 'LTPZ': 0.18, 'LQD': 0.07, 'EMLC': 0.07}}\n",
            "2020-12-31 00:00:00\n",
            "{'selected': ['SPY', 'EFA', 'EEM', 'DBC', 'GLD', 'EDV', 'LTPZ', 'LQD', 'EMLC'], 'weights': {'SPY': 0.12, 'EFA': 0.12, 'EEM': 0.12, 'DBC': 0.07, 'GLD': 0.07, 'EDV': 0.18, 'LTPZ': 0.18, 'LQD': 0.07, 'EMLC': 0.07}}\n",
            "2021-12-31 00:00:00\n",
            "{'selected': ['SPY', 'EFA', 'EEM', 'DBC', 'GLD', 'EDV', 'LTPZ', 'LQD', 'EMLC'], 'weights': {'SPY': 0.12, 'EFA': 0.12, 'EEM': 0.12, 'DBC': 0.07, 'GLD': 0.07, 'EDV': 0.18, 'LTPZ': 0.18, 'LQD': 0.07, 'EMLC': 0.07}}\n"
          ]
        }
      ]
    },
    {
      "cell_type": "code",
      "source": [
        "res.display()"
      ],
      "metadata": {
        "id": "c_UHp0n8ew86",
        "colab": {
          "base_uri": "https://localhost:8080/"
        },
        "outputId": "22dde25e-3d75-4a4c-e08a-7b8dc46ed0f9"
      },
      "execution_count": 9,
      "outputs": [
        {
          "output_type": "stream",
          "name": "stdout",
          "text": [
            "Stat                 All-Weather-KR    SPY\n",
            "-------------------  ----------------  ----------\n",
            "Start                2011-01-02        2011-01-02\n",
            "End                  2022-04-29        2022-04-29\n",
            "Risk-free rate       0.00%             0.00%\n",
            "\n",
            "Total Return         83.87%            302.22%\n",
            "Daily Sharpe         0.67              0.81\n",
            "Daily Sortino        1.06              1.23\n",
            "CAGR                 5.53%             13.08%\n",
            "Max Drawdown         -18.96%           -33.72%\n",
            "Calmar Ratio         0.29              0.39\n",
            "\n",
            "MTD                  -6.44%            -8.78%\n",
            "3m                   -7.77%            -6.49%\n",
            "6m                   -10.39%           -9.69%\n",
            "YTD                  -11.09%           -12.99%\n",
            "1Y                   -5.27%            -0.63%\n",
            "3Y (ann.)            6.52%             13.77%\n",
            "5Y (ann.)            5.95%             13.52%\n",
            "10Y (ann.)           4.52%             13.55%\n",
            "Since Incep. (ann.)  5.53%             13.08%\n",
            "\n",
            "Daily Sharpe         0.67              0.81\n",
            "Daily Sortino        1.06              1.23\n",
            "Daily Mean (ann.)    5.75%             13.76%\n",
            "Daily Vol (ann.)     8.54%             17.04%\n",
            "Daily Skew           -0.67             -0.64\n",
            "Daily Kurt           10.37             13.57\n",
            "Best Day             3.80%             9.06%\n",
            "Worst Day            -5.63%            -10.94%\n",
            "\n",
            "Monthly Sharpe       0.73              0.97\n",
            "Monthly Sortino      1.30              1.72\n",
            "Monthly Mean (ann.)  5.91%             13.25%\n",
            "Monthly Vol (ann.)   8.08%             13.70%\n",
            "Monthly Skew         -0.37             -0.39\n",
            "Monthly Kurt         0.49              1.29\n",
            "Best Month           5.95%             12.70%\n",
            "Worst Month          -6.44%            -12.49%\n",
            "\n",
            "Yearly Sharpe        0.46              0.97\n",
            "Yearly Sortino       1.21              3.56\n",
            "Yearly Mean          5.12%             14.31%\n",
            "Yearly Vol           11.03%            14.73%\n",
            "Yearly Skew          -0.31             -0.58\n",
            "Yearly Kurt          -1.59             -0.49\n",
            "Best Year            19.06%            32.31%\n",
            "Worst Year           -11.09%           -12.99%\n",
            "\n",
            "Avg. Drawdown        -1.51%            -1.59%\n",
            "Avg. Drawdown Days   28.19             15.18\n",
            "Avg. Up Month        1.98%             3.09%\n",
            "Avg. Down Month      -1.68%            -3.44%\n",
            "Win Year %           63.64%            81.82%\n",
            "Win 12m %            78.40%            93.60%\n"
          ]
        }
      ]
    },
    {
      "cell_type": "code",
      "source": [
        "res.plot()\n",
        "plt.title('All-Weather-KR strategy portfolio', fontsize=16)\n",
        "plt.legend(ncol=1)\n",
        "plt.show()"
      ],
      "metadata": {
        "id": "J9EvfhL7erzq",
        "colab": {
          "base_uri": "https://localhost:8080/",
          "height": 330
        },
        "outputId": "8a049f8c-0378-4e40-cc6f-58595298738e"
      },
      "execution_count": 10,
      "outputs": [
        {
          "output_type": "display_data",
          "data": {
            "text/plain": [
              "<Figure size 1080x360 with 1 Axes>"
            ],
            "image/png": "[encoded data removed]"
          },
          "metadata": {
            "needs_background": "light"
          }
        }
      ]
    },
    {
      "cell_type": "code",
      "source": [
        "res.backtests['All-Weather-KR'].stats.drawdown[:].plot()\n",
        "plt.title('Drawdowns for All-Weather-KR strategy')\n",
        "plt.show()"
      ],
      "metadata": {
        "id": "I7psd_9ccDkx",
        "colab": {
          "base_uri": "https://localhost:8080/",
          "height": 279
        },
        "outputId": "545c89ec-4f1f-4024-bf37-16c6a2909352"
      },
      "execution_count": 11,
      "outputs": [
        {
          "output_type": "display_data",
          "data": {
            "text/plain": [
              "<Figure size 432x288 with 1 Axes>"
            ],
            "image/png": "[encoded data removed]"
          },
          "metadata": {
            "needs_background": "light"
          }
        }
      ]
    },
    {
      "cell_type": "code",
      "source": [
        "res.backtests['All-Weather-KR'].stats.drawdown_details.sort_values(by='drawdown', ascending=True).head(5)"
      ],
      "metadata": {
        "id": "YvKfhl-GdNeQ",
        "colab": {
          "base_uri": "https://localhost:8080/",
          "height": 206
        },
        "outputId": "19028bed-0500-49a1-e55d-915b90f3b252"
      },
      "execution_count": 12,
      "outputs": [
        {
          "output_type": "execute_result",
          "data": {
            "text/plain": [
              "                   Start                  End Length  drawdown\n",
              "102  2020-03-09 00:00:00  2020-07-02 00:00:00    115 -0.189563\n",
              "57   2015-02-03 00:00:00  2016-07-08 00:00:00    521 -0.148264\n",
              "131  2021-11-10 00:00:00  2022-04-29 00:00:00    170  -0.12471\n",
              "39   2013-05-03 00:00:00  2014-05-02 00:00:00    364 -0.117862\n",
              "81   2018-01-29 00:00:00  2019-06-20 00:00:00    507 -0.116051"
            ],
            "text/html": [
              "\n",
              "  <div id=\"df-6adf65fd-0892-42f8-81e2-fd7902319232\">\n",
              "    <div class=\"colab-df-container\">\n",
              "      <div>\n",
              "<style scoped>\n",
              "    .dataframe tbody tr th:only-of-type {\n",
              "        vertical-align: middle;\n",
              "    }\n",
              "\n",
              "    .dataframe tbody tr th {\n",
              "        vertical-align: top;\n",
              "    }\n",
              "\n",
              "    .dataframe thead th {\n",
              "        text-align: right;\n",
              "    }\n",
              "</style>\n",
              "<table border=\"1\" class=\"dataframe\">\n",
              "  <thead>\n",
              "    <tr style=\"text-align: right;\">\n",
              "      <th></th>\n",
              "      <th>Start</th>\n",
              "      <th>End</th>\n",
              "      <th>Length</th>\n",
              "      <th>drawdown</th>\n",
              "    </tr>\n",
              "  </thead>\n",
              "  <tbody>\n",
              "    <tr>\n",
              "      <th>102</th>\n",
              "      <td>2020-03-09 00:00:00</td>\n",
              "      <td>2020-07-02 00:00:00</td>\n",
              "      <td>115</td>\n",
              "      <td>-0.189563</td>\n",
              "    </tr>\n",
              "    <tr>\n",
              "      <th>57</th>\n",
              "      <td>2015-02-03 00:00:00</td>\n",
              "      <td>2016-07-08 00:00:00</td>\n",
              "      <td>521</td>\n",
              "      <td>-0.148264</td>\n",
              "    </tr>\n",
              "    <tr>\n",
              "      <th>131</th>\n",
              "      <td>2021-11-10 00:00:00</td>\n",
              "      <td>2022-04-29 00:00:00</td>\n",
              "      <td>170</td>\n",
              "      <td>-0.12471</td>\n",
              "    </tr>\n",
              "    <tr>\n",
              "      <th>39</th>\n",
              "      <td>2013-05-03 00:00:00</td>\n",
              "      <td>2014-05-02 00:00:00</td>\n",
              "      <td>364</td>\n",
              "      <td>-0.117862</td>\n",
              "    </tr>\n",
              "    <tr>\n",
              "      <th>81</th>\n",
              "      <td>2018-01-29 00:00:00</td>\n",
              "      <td>2019-06-20 00:00:00</td>\n",
              "      <td>507</td>\n",
              "      <td>-0.116051</td>\n",
              "    </tr>\n",
              "  </tbody>\n",
              "</table>\n",
              "</div>\n",
              "      <button class=\"colab-df-convert\" onclick=\"convertToInteractive('df-6adf65fd-0892-42f8-81e2-fd7902319232')\"\n",
              "              title=\"Convert this dataframe to an interactive table.\"\n",
              "              style=\"display:none;\">\n",
              "        \n",
              "  <svg xmlns=\"http://www.w3.org/2000/svg\" height=\"24px\"viewBox=\"0 0 24 24\"\n",
              "       width=\"24px\">\n",
              "    <path d=\"M0 0h24v24H0V0z\" fill=\"none\"/>\n",
              "    <path d=\"M18.56 5.44l.94 2.06.94-2.06 2.06-.94-2.06-.94-.94-2.06-.94 2.06-2.06.94zm-11 1L8.5 8.5l.94-2.06 2.06-.94-2.06-.94L8.5 2.5l-.94 2.06-2.06.94zm10 10l.94 2.06.94-2.06 2.06-.94-2.06-.94-.94-2.06-.94 2.06-2.06.94z\"/><path d=\"M17.41 7.96l-1.37-1.37c-.4-.4-.92-.59-1.43-.59-.52 0-1.04.2-1.43.59L10.3 9.45l-7.72 7.72c-.78.78-.78 2.05 0 2.83L4 21.41c.39.39.9.59 1.41.59.51 0 1.02-.2 1.41-.59l7.78-7.78 2.81-2.81c.8-.78.8-2.07 0-2.86zM5.41 20L4 18.59l7.72-7.72 1.47 1.35L5.41 20z\"/>\n",
              "  </svg>\n",
              "      </button>\n",
              "      \n",
              "  <style>\n",
              "    .colab-df-container {\n",
              "      display:flex;\n",
              "      flex-wrap:wrap;\n",
              "      gap: 12px;\n",
              "    }\n",
              "\n",
              "    .colab-df-convert {\n",
              "      background-color: #E8F0FE;\n",
              "      border: none;\n",
              "      border-radius: 50%;\n",
              "      cursor: pointer;\n",
              "      display: none;\n",
              "      fill: #1967D2;\n",
              "      height: 32px;\n",
              "      padding: 0 0 0 0;\n",
              "      width: 32px;\n",
              "    }\n",
              "\n",
              "    .colab-df-convert:hover {\n",
              "      background-color: #E2EBFA;\n",
              "      box-shadow: 0px 1px 2px rgba(60, 64, 67, 0.3), 0px 1px 3px 1px rgba(60, 64, 67, 0.15);\n",
              "      fill: #174EA6;\n",
              "    }\n",
              "\n",
              "    [theme=dark] .colab-df-convert {\n",
              "      background-color: #3B4455;\n",
              "      fill: #D2E3FC;\n",
              "    }\n",
              "\n",
              "    [theme=dark] .colab-df-convert:hover {\n",
              "      background-color: #434B5C;\n",
              "      box-shadow: 0px 1px 3px 1px rgba(0, 0, 0, 0.15);\n",
              "      filter: drop-shadow(0px 1px 2px rgba(0, 0, 0, 0.3));\n",
              "      fill: #FFFFFF;\n",
              "    }\n",
              "  </style>\n",
              "\n",
              "      <script>\n",
              "        const buttonEl =\n",
              "          document.querySelector('#df-6adf65fd-0892-42f8-81e2-fd7902319232 button.colab-df-convert');\n",
              "        buttonEl.style.display =\n",
              "          google.colab.kernel.accessAllowed ? 'block' : 'none';\n",
              "\n",
              "        async function convertToInteractive(key) {\n",
              "          const element = document.querySelector('#df-6adf65fd-0892-42f8-81e2-fd7902319232');\n",
              "          const dataTable =\n",
              "            await google.colab.kernel.invokeFunction('convertToInteractive',\n",
              "                                                     [key], {});\n",
              "          if (!dataTable) return;\n",
              "\n",
              "          const docLinkHtml = 'Like what you see? Visit the ' +\n",
              "            '<a target=\"_blank\" href=https://colab.research.google.com/notebooks/data_table.ipynb>data table notebook</a>'\n",
              "            + ' to learn more about interactive tables.';\n",
              "          element.innerHTML = '';\n",
              "          dataTable['output_type'] = 'display_data';\n",
              "          await google.colab.output.renderOutput(dataTable, element);\n",
              "          const docLink = document.createElement('div');\n",
              "          docLink.innerHTML = docLinkHtml;\n",
              "          element.appendChild(docLink);\n",
              "        }\n",
              "      </script>\n",
              "    </div>\n",
              "  </div>\n",
              "  "
            ]
          },
          "metadata": {},
          "execution_count": 12
        }
      ]
    },
    {
      "cell_type": "code",
      "source": [
        "res.backtests['All-Weather-KR'].stats.drawdown_details.sort_values(by='Length', ascending=False).head(5)"
      ],
      "metadata": {
        "id": "wJ7WChL7dfAx",
        "colab": {
          "base_uri": "https://localhost:8080/",
          "height": 206
        },
        "outputId": "f7a0d2c0-047d-4032-85a4-9797d9c0f735"
      },
      "execution_count": 13,
      "outputs": [
        {
          "output_type": "execute_result",
          "data": {
            "text/plain": [
              "                   Start                  End Length  drawdown\n",
              "57   2015-02-03 00:00:00  2016-07-08 00:00:00    521 -0.148264\n",
              "81   2018-01-29 00:00:00  2019-06-20 00:00:00    507 -0.116051\n",
              "39   2013-05-03 00:00:00  2014-05-02 00:00:00    364 -0.117862\n",
              "63   2016-09-08 00:00:00  2017-06-01 00:00:00    266 -0.090714\n",
              "131  2021-11-10 00:00:00  2022-04-29 00:00:00    170  -0.12471"
            ],
            "text/html": [
              "\n",
              "  <div id=\"df-c2517259-81f0-49ea-9e3c-d1c57f0231f1\">\n",
              "    <div class=\"colab-df-container\">\n",
              "      <div>\n",
              "<style scoped>\n",
              "    .dataframe tbody tr th:only-of-type {\n",
              "        vertical-align: middle;\n",
              "    }\n",
              "\n",
              "    .dataframe tbody tr th {\n",
              "        vertical-align: top;\n",
              "    }\n",
              "\n",
              "    .dataframe thead th {\n",
              "        text-align: right;\n",
              "    }\n",
              "</style>\n",
              "<table border=\"1\" class=\"dataframe\">\n",
              "  <thead>\n",
              "    <tr style=\"text-align: right;\">\n",
              "      <th></th>\n",
              "      <th>Start</th>\n",
              "      <th>End</th>\n",
              "      <th>Length</th>\n",
              "      <th>drawdown</th>\n",
              "    </tr>\n",
              "  </thead>\n",
              "  <tbody>\n",
              "    <tr>\n",
              "      <th>57</th>\n",
              "      <td>2015-02-03 00:00:00</td>\n",
              "      <td>2016-07-08 00:00:00</td>\n",
              "      <td>521</td>\n",
              "      <td>-0.148264</td>\n",
              "    </tr>\n",
              "    <tr>\n",
              "      <th>81</th>\n",
              "      <td>2018-01-29 00:00:00</td>\n",
              "      <td>2019-06-20 00:00:00</td>\n",
              "      <td>507</td>\n",
              "      <td>-0.116051</td>\n",
              "    </tr>\n",
              "    <tr>\n",
              "      <th>39</th>\n",
              "      <td>2013-05-03 00:00:00</td>\n",
              "      <td>2014-05-02 00:00:00</td>\n",
              "      <td>364</td>\n",
              "      <td>-0.117862</td>\n",
              "    </tr>\n",
              "    <tr>\n",
              "      <th>63</th>\n",
              "      <td>2016-09-08 00:00:00</td>\n",
              "      <td>2017-06-01 00:00:00</td>\n",
              "      <td>266</td>\n",
              "      <td>-0.090714</td>\n",
              "    </tr>\n",
              "    <tr>\n",
              "      <th>131</th>\n",
              "      <td>2021-11-10 00:00:00</td>\n",
              "      <td>2022-04-29 00:00:00</td>\n",
              "      <td>170</td>\n",
              "      <td>-0.12471</td>\n",
              "    </tr>\n",
              "  </tbody>\n",
              "</table>\n",
              "</div>\n",
              "      <button class=\"colab-df-convert\" onclick=\"convertToInteractive('df-c2517259-81f0-49ea-9e3c-d1c57f0231f1')\"\n",
              "              title=\"Convert this dataframe to an interactive table.\"\n",
              "              style=\"display:none;\">\n",
              "        \n",
              "  <svg xmlns=\"http://www.w3.org/2000/svg\" height=\"24px\"viewBox=\"0 0 24 24\"\n",
              "       width=\"24px\">\n",
              "    <path d=\"M0 0h24v24H0V0z\" fill=\"none\"/>\n",
              "    <path d=\"M18.56 5.44l.94 2.06.94-2.06 2.06-.94-2.06-.94-.94-2.06-.94 2.06-2.06.94zm-11 1L8.5 8.5l.94-2.06 2.06-.94-2.06-.94L8.5 2.5l-.94 2.06-2.06.94zm10 10l.94 2.06.94-2.06 2.06-.94-2.06-.94-.94-2.06-.94 2.06-2.06.94z\"/><path d=\"M17.41 7.96l-1.37-1.37c-.4-.4-.92-.59-1.43-.59-.52 0-1.04.2-1.43.59L10.3 9.45l-7.72 7.72c-.78.78-.78 2.05 0 2.83L4 21.41c.39.39.9.59 1.41.59.51 0 1.02-.2 1.41-.59l7.78-7.78 2.81-2.81c.8-.78.8-2.07 0-2.86zM5.41 20L4 18.59l7.72-7.72 1.47 1.35L5.41 20z\"/>\n",
              "  </svg>\n",
              "      </button>\n",
              "      \n",
              "  <style>\n",
              "    .colab-df-container {\n",
              "      display:flex;\n",
              "      flex-wrap:wrap;\n",
              "      gap: 12px;\n",
              "    }\n",
              "\n",
              "    .colab-df-convert {\n",
              "      background-color: #E8F0FE;\n",
              "      border: none;\n",
              "      border-radius: 50%;\n",
              "      cursor: pointer;\n",
              "      display: none;\n",
              "      fill: #1967D2;\n",
              "      height: 32px;\n",
              "      padding: 0 0 0 0;\n",
              "      width: 32px;\n",
              "    }\n",
              "\n",
              "    .colab-df-convert:hover {\n",
              "      background-color: #E2EBFA;\n",
              "      box-shadow: 0px 1px 2px rgba(60, 64, 67, 0.3), 0px 1px 3px 1px rgba(60, 64, 67, 0.15);\n",
              "      fill: #174EA6;\n",
              "    }\n",
              "\n",
              "    [theme=dark] .colab-df-convert {\n",
              "      background-color: #3B4455;\n",
              "      fill: #D2E3FC;\n",
              "    }\n",
              "\n",
              "    [theme=dark] .colab-df-convert:hover {\n",
              "      background-color: #434B5C;\n",
              "      box-shadow: 0px 1px 3px 1px rgba(0, 0, 0, 0.15);\n",
              "      filter: drop-shadow(0px 1px 2px rgba(0, 0, 0, 0.3));\n",
              "      fill: #FFFFFF;\n",
              "    }\n",
              "  </style>\n",
              "\n",
              "      <script>\n",
              "        const buttonEl =\n",
              "          document.querySelector('#df-c2517259-81f0-49ea-9e3c-d1c57f0231f1 button.colab-df-convert');\n",
              "        buttonEl.style.display =\n",
              "          google.colab.kernel.accessAllowed ? 'block' : 'none';\n",
              "\n",
              "        async function convertToInteractive(key) {\n",
              "          const element = document.querySelector('#df-c2517259-81f0-49ea-9e3c-d1c57f0231f1');\n",
              "          const dataTable =\n",
              "            await google.colab.kernel.invokeFunction('convertToInteractive',\n",
              "                                                     [key], {});\n",
              "          if (!dataTable) return;\n",
              "\n",
              "          const docLinkHtml = 'Like what you see? Visit the ' +\n",
              "            '<a target=\"_blank\" href=https://colab.research.google.com/notebooks/data_table.ipynb>data table notebook</a>'\n",
              "            + ' to learn more about interactive tables.';\n",
              "          element.innerHTML = '';\n",
              "          dataTable['output_type'] = 'display_data';\n",
              "          await google.colab.output.renderOutput(dataTable, element);\n",
              "          const docLink = document.createElement('div');\n",
              "          docLink.innerHTML = docLinkHtml;\n",
              "          element.appendChild(docLink);\n",
              "        }\n",
              "      </script>\n",
              "    </div>\n",
              "  </div>\n",
              "  "
            ]
          },
          "metadata": {},
          "execution_count": 13
        }
      ]
    },
    {
      "cell_type": "code",
      "source": [
        "res.display_monthly_returns()"
      ],
      "metadata": {
        "id": "3-1Q7vPYeuYC",
        "colab": {
          "base_uri": "https://localhost:8080/"
        },
        "outputId": "b2dc2e87-5282-48ac-c722-dbb284980bb1"
      },
      "execution_count": 14,
      "outputs": [
        {
          "output_type": "stream",
          "name": "stdout",
          "text": [
            "  Year    Jan    Feb    Mar    Apr    May    Jun    Jul    Aug    Sep    Oct    Nov    Dec     YTD\n",
            "------  -----  -----  -----  -----  -----  -----  -----  -----  -----  -----  -----  -----  ------\n",
            "  2011  -1.79   2.61   1.09   4     -0.23  -1.54   2.97   1.9   -1.06   3.65   0.21   0.11   12.36\n",
            "  2012   4.55   1.44  -1.97   1.2   -2.04   1.97   2.84   0.67   1.08  -0.15   1.11   0.49   11.57\n",
            "  2013  -0.17  -0.65   0.37   2.45  -5.16  -4.58   1.81  -1.47   2.42   2.34  -1.31  -0.12   -4.36\n",
            "  2014   0.51   2.74   0.88   1.76   2.39   1.3   -0.42   2.87  -4.46   1.54   0.83  -0.33    9.8\n",
            "  2015   3.95  -1.08  -1.14   0.82  -2.14  -2.9   -0.13  -3.45  -1.87   3.36  -1.61  -2.04   -8.19\n",
            "  2016   0.2    1.82   4.64   1.46  -1.16   4.75   2.53  -0.33   0.44  -2.57  -4.5    0.63    7.77\n",
            "  2017   2.36   1.88   0.47   1.28   1.65   0.05   1.76   2.15  -0.47   1.08   1.07   2.5    16.93\n",
            "  2018   1.86  -3.75   1.04  -0.72  -0.12  -0.77   0.56  -0.44  -0.76  -5.2    0.85  -0.16   -7.57\n",
            "  2019   4.81   0.1    2.56   0.67  -0.05   3.79  -0.07   3.69  -0.73   1.1    0.47   1.41   19.06\n",
            "  2020   1.85  -0.69  -5.48   5.46   1.6    2.14   5.95  -0.05  -1.26  -2.12   5.56   2.67   16.05\n",
            "  2021  -1.11  -1.79  -0.98   3.11   2.2    1.59   1.49   0.56  -2.56   3.04  -0.88   1.68    6.33\n",
            "  2022  -2.82  -1.21  -1.01  -6.44   0      0      0      0      0      0      0      0     -11.09\n"
          ]
        }
      ]
    }
  ]
}
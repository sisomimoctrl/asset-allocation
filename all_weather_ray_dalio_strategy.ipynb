{
  "nbformat": 4,
  "nbformat_minor": 0,
  "metadata": {
    "colab": {
      "name": "all-weather_ray_dalio_strategy.ipynb",
      "provenance": [],
      "collapsed_sections": [],
      "authorship_tag": "ABX9TyO3fmj11EC3mZRTYS6gWos8",
      "include_colab_link": true
    },
    "kernelspec": {
      "name": "python3",
      "display_name": "Python 3"
    },
    "language_info": {
      "name": "python"
    }
  },
  "cells": [
    {
      "cell_type": "markdown",
      "metadata": {
        "id": "view-in-github",
        "colab_type": "text"
      },
      "source": [
        "<a href=\"https://colab.research.google.com/github/sisomimoctrl/asset-allocation/blob/main/all_weather_ray_dalio_strategy.ipynb\" target=\"_parent\"><img src=\"https://colab.research.google.com/assets/colab-badge.svg\" alt=\"Open In Colab\"/></a>"
      ]
    },
    {
      "cell_type": "code",
      "source": [
        "!pip install bt yfinance quantstats"
      ],
      "metadata": {
        "id": "YGM3Gbb54kDI",
        "colab": {
          "base_uri": "https://localhost:8080/"
        },
        "outputId": "cd2fa35b-82fd-42fb-aa43-4eadb30fc108"
      },
      "execution_count": 1,
      "outputs": [
        {
          "output_type": "stream",
          "name": "stdout",
          "text": [
            "Requirement already satisfied: bt in /usr/local/lib/python3.7/dist-packages (0.2.9)\n",
            "Requirement already satisfied: yfinance in /usr/local/lib/python3.7/dist-packages (0.1.70)\n",
            "Requirement already satisfied: quantstats in /usr/local/lib/python3.7/dist-packages (0.0.56)\n",
            "Requirement already satisfied: ffn>=0.3.5 in /usr/local/lib/python3.7/dist-packages (from bt) (0.3.6)\n",
            "Requirement already satisfied: pyprind>=2.11 in /usr/local/lib/python3.7/dist-packages (from bt) (2.11.3)\n",
            "Requirement already satisfied: pandas-datareader>=0.2 in /usr/local/lib/python3.7/dist-packages (from ffn>=0.3.5->bt) (0.9.0)\n",
            "Requirement already satisfied: decorator>=4 in /usr/local/lib/python3.7/dist-packages (from ffn>=0.3.5->bt) (4.4.2)\n",
            "Requirement already satisfied: matplotlib>=1 in /usr/local/lib/python3.7/dist-packages (from ffn>=0.3.5->bt) (3.2.2)\n",
            "Requirement already satisfied: pandas>=0.19 in /usr/local/lib/python3.7/dist-packages (from ffn>=0.3.5->bt) (1.3.5)\n",
            "Requirement already satisfied: tabulate>=0.7.5 in /usr/local/lib/python3.7/dist-packages (from ffn>=0.3.5->bt) (0.8.9)\n",
            "Requirement already satisfied: scipy>=0.15 in /usr/local/lib/python3.7/dist-packages (from ffn>=0.3.5->bt) (1.4.1)\n",
            "Requirement already satisfied: scikit-learn>=0.15 in /usr/local/lib/python3.7/dist-packages (from ffn>=0.3.5->bt) (1.0.2)\n",
            "Requirement already satisfied: future>=0.15 in /usr/local/lib/python3.7/dist-packages (from ffn>=0.3.5->bt) (0.16.0)\n",
            "Requirement already satisfied: numpy>=1.5 in /usr/local/lib/python3.7/dist-packages (from ffn>=0.3.5->bt) (1.21.6)\n",
            "Requirement already satisfied: kiwisolver>=1.0.1 in /usr/local/lib/python3.7/dist-packages (from matplotlib>=1->ffn>=0.3.5->bt) (1.4.2)\n",
            "Requirement already satisfied: cycler>=0.10 in /usr/local/lib/python3.7/dist-packages (from matplotlib>=1->ffn>=0.3.5->bt) (0.11.0)\n",
            "Requirement already satisfied: python-dateutil>=2.1 in /usr/local/lib/python3.7/dist-packages (from matplotlib>=1->ffn>=0.3.5->bt) (2.8.2)\n",
            "Requirement already satisfied: pyparsing!=2.0.4,!=2.1.2,!=2.1.6,>=2.0.1 in /usr/local/lib/python3.7/dist-packages (from matplotlib>=1->ffn>=0.3.5->bt) (3.0.8)\n",
            "Requirement already satisfied: typing-extensions in /usr/local/lib/python3.7/dist-packages (from kiwisolver>=1.0.1->matplotlib>=1->ffn>=0.3.5->bt) (4.2.0)\n",
            "Requirement already satisfied: pytz>=2017.3 in /usr/local/lib/python3.7/dist-packages (from pandas>=0.19->ffn>=0.3.5->bt) (2022.1)\n",
            "Requirement already satisfied: lxml in /usr/local/lib/python3.7/dist-packages (from pandas-datareader>=0.2->ffn>=0.3.5->bt) (4.8.0)\n",
            "Requirement already satisfied: requests>=2.19.0 in /usr/local/lib/python3.7/dist-packages (from pandas-datareader>=0.2->ffn>=0.3.5->bt) (2.27.1)\n",
            "Requirement already satisfied: six>=1.5 in /usr/local/lib/python3.7/dist-packages (from python-dateutil>=2.1->matplotlib>=1->ffn>=0.3.5->bt) (1.15.0)\n",
            "Requirement already satisfied: idna<4,>=2.5 in /usr/local/lib/python3.7/dist-packages (from requests>=2.19.0->pandas-datareader>=0.2->ffn>=0.3.5->bt) (2.10)\n",
            "Requirement already satisfied: charset-normalizer~=2.0.0 in /usr/local/lib/python3.7/dist-packages (from requests>=2.19.0->pandas-datareader>=0.2->ffn>=0.3.5->bt) (2.0.12)\n",
            "Requirement already satisfied: certifi>=2017.4.17 in /usr/local/lib/python3.7/dist-packages (from requests>=2.19.0->pandas-datareader>=0.2->ffn>=0.3.5->bt) (2021.10.8)\n",
            "Requirement already satisfied: urllib3<1.27,>=1.21.1 in /usr/local/lib/python3.7/dist-packages (from requests>=2.19.0->pandas-datareader>=0.2->ffn>=0.3.5->bt) (1.24.3)\n",
            "Requirement already satisfied: joblib>=0.11 in /usr/local/lib/python3.7/dist-packages (from scikit-learn>=0.15->ffn>=0.3.5->bt) (1.1.0)\n",
            "Requirement already satisfied: threadpoolctl>=2.0.0 in /usr/local/lib/python3.7/dist-packages (from scikit-learn>=0.15->ffn>=0.3.5->bt) (3.1.0)\n",
            "Requirement already satisfied: multitasking>=0.0.7 in /usr/local/lib/python3.7/dist-packages (from yfinance) (0.0.10)\n",
            "Requirement already satisfied: seaborn>=0.9.0 in /usr/local/lib/python3.7/dist-packages (from quantstats) (0.11.2)\n"
          ]
        }
      ]
    },
    {
      "cell_type": "code",
      "source": [
        "import bt\n",
        "import yfinance as yf\n",
        "import pandas as pd\n",
        "import quantstats as qs\n",
        "import numpy as np\n",
        "import matplotlib.pyplot as plt\n",
        "import seaborn as sns\n",
        "%matplotlib inline"
      ],
      "metadata": {
        "id": "siqC98Aqdee0"
      },
      "execution_count": 2,
      "outputs": []
    },
    {
      "cell_type": "code",
      "source": [
        "tickers = ['spy', 'ief', 'tlt', 'gld', 'dbc']\n",
        "df = yf.download(tickers, end='2022-4-30')['Adj Close']\n",
        "\n",
        "df.info()"
      ],
      "metadata": {
        "id": "RBCjyEnY5ExD",
        "colab": {
          "base_uri": "https://localhost:8080/"
        },
        "outputId": "ad133610-ef7f-4467-b8c8-d68579421494"
      },
      "execution_count": 3,
      "outputs": [
        {
          "output_type": "stream",
          "name": "stdout",
          "text": [
            "[*********************100%***********************]  5 of 5 completed\n",
            "<class 'pandas.core.frame.DataFrame'>\n",
            "DatetimeIndex: 7367 entries, 1993-01-29 to 2022-04-29\n",
            "Data columns (total 5 columns):\n",
            " #   Column  Non-Null Count  Dtype  \n",
            "---  ------  --------------  -----  \n",
            " 0   DBC     4087 non-null   float64\n",
            " 1   GLD     4392 non-null   float64\n",
            " 2   IEF     4974 non-null   float64\n",
            " 3   SPY     7367 non-null   float64\n",
            " 4   TLT     4974 non-null   float64\n",
            "dtypes: float64(5)\n",
            "memory usage: 345.3 KB\n"
          ]
        }
      ]
    },
    {
      "cell_type": "code",
      "source": [
        "for c in df.columns:\n",
        "    print(c, df[c].first_valid_index(), ',', df[c].last_valid_index())"
      ],
      "metadata": {
        "id": "p41ackisLNjf",
        "colab": {
          "base_uri": "https://localhost:8080/"
        },
        "outputId": "aa6a23dc-2020-44f7-aa65-d69e5927fbcd"
      },
      "execution_count": 4,
      "outputs": [
        {
          "output_type": "stream",
          "name": "stdout",
          "text": [
            "DBC 2006-02-06 00:00:00 , 2022-04-29 00:00:00\n",
            "GLD 2004-11-18 00:00:00 , 2022-04-29 00:00:00\n",
            "IEF 2002-07-30 00:00:00 , 2022-04-29 00:00:00\n",
            "SPY 1993-01-29 00:00:00 , 2022-04-29 00:00:00\n",
            "TLT 2002-07-30 00:00:00 , 2022-04-29 00:00:00\n"
          ]
        }
      ]
    },
    {
      "cell_type": "code",
      "source": [
        "start = '2007-1-1'\n",
        "end = '2022-4-30'\n",
        "\n",
        "data = df[start:].copy()"
      ],
      "metadata": {
        "id": "Rw7xpA_xL0N7"
      },
      "execution_count": 5,
      "outputs": []
    },
    {
      "cell_type": "code",
      "source": [
        "print(data.corr())\n",
        "print(data.resample('M').last().corr())"
      ],
      "metadata": {
        "id": "Jy1_nFG0LjVZ",
        "colab": {
          "base_uri": "https://localhost:8080/"
        },
        "outputId": "6b1c0e19-6e30-40b1-ee9d-9ea933509285"
      },
      "execution_count": 6,
      "outputs": [
        {
          "output_type": "stream",
          "name": "stdout",
          "text": [
            "          DBC       GLD       IEF       SPY       TLT\n",
            "DBC  1.000000 -0.139647 -0.660146 -0.519423 -0.684015\n",
            "GLD -0.139647  1.000000  0.741807  0.561228  0.684978\n",
            "IEF -0.660146  0.741807  1.000000  0.838390  0.981958\n",
            "SPY -0.519423  0.561228  0.838390  1.000000  0.869100\n",
            "TLT -0.684015  0.684978  0.981958  0.869100  1.000000\n",
            "          DBC       GLD       IEF       SPY       TLT\n",
            "DBC  1.000000 -0.138064 -0.666834 -0.519527 -0.688930\n",
            "GLD -0.138064  1.000000  0.736096  0.559014  0.680854\n",
            "IEF -0.666834  0.736096  1.000000  0.838361  0.982397\n",
            "SPY -0.519527  0.559014  0.838361  1.000000  0.868699\n",
            "TLT -0.688930  0.680854  0.982397  0.868699  1.000000\n"
          ]
        }
      ]
    },
    {
      "cell_type": "code",
      "source": [
        "sns.heatmap(data=data.corr(), annot=True, vmin=-1, vmax=1, cmap=plt.cm.PuBu)"
      ],
      "metadata": {
        "colab": {
          "base_uri": "https://localhost:8080/",
          "height": 294
        },
        "id": "7KLUWtkKn_Ej",
        "outputId": "565b99de-ca22-400e-faef-e23c7e90d37e"
      },
      "execution_count": 7,
      "outputs": [
        {
          "output_type": "execute_result",
          "data": {
            "text/plain": [
              "<matplotlib.axes._subplots.AxesSubplot at 0x7f60fb7595d0>"
            ]
          },
          "metadata": {},
          "execution_count": 7
        },
        {
          "output_type": "display_data",
          "data": {
            "text/plain": [
              "<Figure size 432x288 with 2 Axes>"
            ],
            "image/png": "[encoded data removed]"
          },
          "metadata": {
            "needs_background": "light"
          }
        }
      ]
    },
    {
      "cell_type": "code",
      "source": [
        "def long_only_ew(name, data, tickers, initial_capital=100000000.0):\n",
        "    s = bt.Strategy(\n",
        "        name, \n",
        "        [bt.algos.RunOnce(),\n",
        "         bt.algos.SelectThese(tickers),\n",
        "         bt.algos.WeighEqually(),\n",
        "         bt.algos.Rebalance()])\n",
        "    t = bt.Backtest(s, data, initial_capital=initial_capital)\n",
        "    return t \n",
        "\n",
        "def strategy_all_weather(name, data, tickers, weights, initial_capital=100000000.0):\n",
        "    s = bt.Strategy(        \n",
        "        name, \n",
        "        [bt.algos.RunYearly(\n",
        "            run_on_first_date=True, \n",
        "            run_on_end_of_period=True, \n",
        "            run_on_last_date=False),\n",
        "         bt.algos.SelectThese(tickers),\n",
        "         bt.algos.WeighSpecified(**weights),\n",
        "         bt.algos.PrintDate(),\n",
        "         bt.algos.PrintTempData(),\n",
        "         bt.algos.Rebalance()])\n",
        "    t = bt.Backtest(s, data, initial_capital=initial_capital)\n",
        "    return t\n",
        "\n",
        "weights = { 'SPY':0.3, 'IEF':0.15, 'TLT':0.4, 'GLD':0.075, 'DBC':0.075 }\n",
        "bt_spy = long_only_ew('SPY', data, ['SPY'])\n",
        "bt_all_weather = strategy_all_weather('All-weather', data, ['SPY', 'IEF', 'TLT','GLD','DBC'], weights=weights)\n",
        "\n",
        "res = bt.run(bt_all_weather, bt_spy)"
      ],
      "metadata": {
        "id": "mlrcABbleoPT",
        "colab": {
          "base_uri": "https://localhost:8080/"
        },
        "outputId": "f473f67e-c72f-4cad-9eaf-a604a0bbddb3"
      },
      "execution_count": 8,
      "outputs": [
        {
          "output_type": "stream",
          "name": "stdout",
          "text": [
            "2007-01-03 00:00:00\n",
            "{'selected': ['SPY', 'IEF', 'TLT', 'GLD', 'DBC'], 'weights': {'SPY': 0.3, 'IEF': 0.15, 'TLT': 0.4, 'GLD': 0.075, 'DBC': 0.075}}\n",
            "2007-12-31 00:00:00\n",
            "{'selected': ['SPY', 'IEF', 'TLT', 'GLD', 'DBC'], 'weights': {'SPY': 0.3, 'IEF': 0.15, 'TLT': 0.4, 'GLD': 0.075, 'DBC': 0.075}}\n",
            "2008-12-31 00:00:00\n",
            "{'selected': ['SPY', 'IEF', 'TLT', 'GLD', 'DBC'], 'weights': {'SPY': 0.3, 'IEF': 0.15, 'TLT': 0.4, 'GLD': 0.075, 'DBC': 0.075}}\n",
            "2009-12-31 00:00:00\n",
            "{'selected': ['SPY', 'IEF', 'TLT', 'GLD', 'DBC'], 'weights': {'SPY': 0.3, 'IEF': 0.15, 'TLT': 0.4, 'GLD': 0.075, 'DBC': 0.075}}\n",
            "2010-12-31 00:00:00\n",
            "{'selected': ['SPY', 'IEF', 'TLT', 'GLD', 'DBC'], 'weights': {'SPY': 0.3, 'IEF': 0.15, 'TLT': 0.4, 'GLD': 0.075, 'DBC': 0.075}}\n",
            "2011-12-30 00:00:00\n",
            "{'selected': ['SPY', 'IEF', 'TLT', 'GLD', 'DBC'], 'weights': {'SPY': 0.3, 'IEF': 0.15, 'TLT': 0.4, 'GLD': 0.075, 'DBC': 0.075}}\n",
            "2012-12-31 00:00:00\n",
            "{'selected': ['SPY', 'IEF', 'TLT', 'GLD', 'DBC'], 'weights': {'SPY': 0.3, 'IEF': 0.15, 'TLT': 0.4, 'GLD': 0.075, 'DBC': 0.075}}\n",
            "2013-12-31 00:00:00\n",
            "{'selected': ['SPY', 'IEF', 'TLT', 'GLD', 'DBC'], 'weights': {'SPY': 0.3, 'IEF': 0.15, 'TLT': 0.4, 'GLD': 0.075, 'DBC': 0.075}}\n",
            "2014-12-31 00:00:00\n",
            "{'selected': ['SPY', 'IEF', 'TLT', 'GLD', 'DBC'], 'weights': {'SPY': 0.3, 'IEF': 0.15, 'TLT': 0.4, 'GLD': 0.075, 'DBC': 0.075}}\n",
            "2015-12-31 00:00:00\n",
            "{'selected': ['SPY', 'IEF', 'TLT', 'GLD', 'DBC'], 'weights': {'SPY': 0.3, 'IEF': 0.15, 'TLT': 0.4, 'GLD': 0.075, 'DBC': 0.075}}\n",
            "2016-12-30 00:00:00\n",
            "{'selected': ['SPY', 'IEF', 'TLT', 'GLD', 'DBC'], 'weights': {'SPY': 0.3, 'IEF': 0.15, 'TLT': 0.4, 'GLD': 0.075, 'DBC': 0.075}}\n",
            "2017-12-29 00:00:00\n",
            "{'selected': ['SPY', 'IEF', 'TLT', 'GLD', 'DBC'], 'weights': {'SPY': 0.3, 'IEF': 0.15, 'TLT': 0.4, 'GLD': 0.075, 'DBC': 0.075}}\n",
            "2018-12-31 00:00:00\n",
            "{'selected': ['SPY', 'IEF', 'TLT', 'GLD', 'DBC'], 'weights': {'SPY': 0.3, 'IEF': 0.15, 'TLT': 0.4, 'GLD': 0.075, 'DBC': 0.075}}\n",
            "2019-12-31 00:00:00\n",
            "{'selected': ['SPY', 'IEF', 'TLT', 'GLD', 'DBC'], 'weights': {'SPY': 0.3, 'IEF': 0.15, 'TLT': 0.4, 'GLD': 0.075, 'DBC': 0.075}}\n",
            "2020-12-31 00:00:00\n",
            "{'selected': ['SPY', 'IEF', 'TLT', 'GLD', 'DBC'], 'weights': {'SPY': 0.3, 'IEF': 0.15, 'TLT': 0.4, 'GLD': 0.075, 'DBC': 0.075}}\n",
            "2021-12-31 00:00:00\n",
            "{'selected': ['SPY', 'IEF', 'TLT', 'GLD', 'DBC'], 'weights': {'SPY': 0.3, 'IEF': 0.15, 'TLT': 0.4, 'GLD': 0.075, 'DBC': 0.075}}\n"
          ]
        }
      ]
    },
    {
      "cell_type": "code",
      "source": [
        "res.display()"
      ],
      "metadata": {
        "id": "c_UHp0n8ew86",
        "colab": {
          "base_uri": "https://localhost:8080/"
        },
        "outputId": "02c1ad82-e3e1-4c1f-90e3-65336b661c33"
      },
      "execution_count": 9,
      "outputs": [
        {
          "output_type": "stream",
          "name": "stdout",
          "text": [
            "Stat                 All-weather    SPY\n",
            "-------------------  -------------  ----------\n",
            "Start                2007-01-02     2007-01-02\n",
            "End                  2022-04-29     2022-04-29\n",
            "Risk-free rate       0.00%          0.00%\n",
            "\n",
            "Total Return         184.22%        293.31%\n",
            "Daily Sharpe         0.94           0.54\n",
            "Daily Sortino        1.52           0.84\n",
            "CAGR                 7.06%          9.35%\n",
            "Max Drawdown         -14.28%        -55.19%\n",
            "Calmar Ratio         0.49           0.17\n",
            "\n",
            "MTD                  -6.38%         -8.78%\n",
            "3m                   -7.24%         -6.49%\n",
            "6m                   -9.00%         -9.69%\n",
            "YTD                  -10.37%        -12.99%\n",
            "1Y                   -1.74%         -0.63%\n",
            "3Y (ann.)            7.64%          13.77%\n",
            "5Y (ann.)            7.01%          13.52%\n",
            "10Y (ann.)           5.93%          13.55%\n",
            "Since Incep. (ann.)  7.06%          9.35%\n",
            "\n",
            "Daily Sharpe         0.94           0.54\n",
            "Daily Sortino        1.52           0.84\n",
            "Daily Mean (ann.)    7.11%          11.00%\n",
            "Daily Vol (ann.)     7.55%          20.25%\n",
            "Daily Skew           -0.38          -0.07\n",
            "Daily Kurt           5.48           14.81\n",
            "Best Day             3.04%          14.52%\n",
            "Worst Day            -4.40%         -10.94%\n",
            "\n",
            "Monthly Sharpe       0.94           0.65\n",
            "Monthly Sortino      1.64           1.07\n",
            "Monthly Mean (ann.)  7.15%          10.11%\n",
            "Monthly Vol (ann.)   7.60%          15.50%\n",
            "Monthly Skew         -0.57          -0.63\n",
            "Monthly Kurt         3.04           1.28\n",
            "Best Month           8.27%          12.70%\n",
            "Worst Month          -8.37%         -16.52%\n",
            "\n",
            "Yearly Sharpe        0.80           0.58\n",
            "Yearly Sortino       2.43           1.11\n",
            "Yearly Mean          6.72%          10.93%\n",
            "Yearly Vol           8.45%          18.73%\n",
            "Yearly Skew          -0.42          -1.24\n",
            "Yearly Kurt          -0.62          1.72\n",
            "Best Year            18.45%         32.31%\n",
            "Worst Year           -10.37%        -36.80%\n",
            "\n",
            "Avg. Drawdown        -1.21%         -1.76%\n",
            "Avg. Drawdown Days   25.56          21.86\n",
            "Avg. Up Month        1.75%          3.34%\n",
            "Avg. Down Month      -1.60%         -3.91%\n",
            "Win Year %           80.00%         80.00%\n",
            "Win 12m %            85.55%         83.24%\n"
          ]
        }
      ]
    },
    {
      "cell_type": "code",
      "source": [
        "res.plot()\n",
        "plt.title('All-weather strategy portfolio', fontsize=16)\n",
        "plt.legend(ncol=1)\n",
        "plt.show()"
      ],
      "metadata": {
        "id": "J9EvfhL7erzq",
        "colab": {
          "base_uri": "https://localhost:8080/",
          "height": 330
        },
        "outputId": "1350973c-1e99-4693-c765-a9da74da327c"
      },
      "execution_count": 10,
      "outputs": [
        {
          "output_type": "display_data",
          "data": {
            "text/plain": [
              "<Figure size 1080x360 with 1 Axes>"
            ],
            "image/png": "[encoded data removed]"
          },
          "metadata": {
            "needs_background": "light"
          }
        }
      ]
    },
    {
      "cell_type": "code",
      "source": [
        "res.backtests['All-weather'].stats.drawdown[:].plot()\n",
        "plt.title('Drawdowns for All-weather strategy')\n",
        "plt.show()"
      ],
      "metadata": {
        "id": "I7psd_9ccDkx",
        "colab": {
          "base_uri": "https://localhost:8080/",
          "height": 279
        },
        "outputId": "6fae5675-f8ad-4a06-a642-5464e835f118"
      },
      "execution_count": 11,
      "outputs": [
        {
          "output_type": "display_data",
          "data": {
            "text/plain": [
              "<Figure size 432x288 with 1 Axes>"
            ],
            "image/png": "[encoded data removed]"
          },
          "metadata": {
            "needs_background": "light"
          }
        }
      ]
    },
    {
      "cell_type": "code",
      "source": [
        "res.backtests['All-weather'].stats.drawdown_details.sort_values(by='drawdown', ascending=True).head(5)"
      ],
      "metadata": {
        "id": "YvKfhl-GdNeQ",
        "colab": {
          "base_uri": "https://localhost:8080/",
          "height": 206
        },
        "outputId": "0340d000-32be-42a6-b5f8-8efe47bfe72c"
      },
      "execution_count": 12,
      "outputs": [
        {
          "output_type": "execute_result",
          "data": {
            "text/plain": [
              "                   Start                  End Length  drawdown\n",
              "26   2008-05-21 00:00:00  2008-12-18 00:00:00    211  -0.14282\n",
              "28   2008-12-31 00:00:00  2009-10-07 00:00:00    280 -0.141016\n",
              "171  2020-03-09 00:00:00  2020-06-10 00:00:00     93 -0.135967\n",
              "192  2021-12-28 00:00:00  2022-04-29 00:00:00    122 -0.107084\n",
              "123  2015-02-03 00:00:00  2016-05-11 00:00:00    463 -0.080797"
            ],
            "text/html": [
              "\n",
              "  <div id=\"df-d22ee148-34bf-4bf4-986b-707b9410bf3b\">\n",
              "    <div class=\"colab-df-container\">\n",
              "      <div>\n",
              "<style scoped>\n",
              "    .dataframe tbody tr th:only-of-type {\n",
              "        vertical-align: middle;\n",
              "    }\n",
              "\n",
              "    .dataframe tbody tr th {\n",
              "        vertical-align: top;\n",
              "    }\n",
              "\n",
              "    .dataframe thead th {\n",
              "        text-align: right;\n",
              "    }\n",
              "</style>\n",
              "<table border=\"1\" class=\"dataframe\">\n",
              "  <thead>\n",
              "    <tr style=\"text-align: right;\">\n",
              "      <th></th>\n",
              "      <th>Start</th>\n",
              "      <th>End</th>\n",
              "      <th>Length</th>\n",
              "      <th>drawdown</th>\n",
              "    </tr>\n",
              "  </thead>\n",
              "  <tbody>\n",
              "    <tr>\n",
              "      <th>26</th>\n",
              "      <td>2008-05-21 00:00:00</td>\n",
              "      <td>2008-12-18 00:00:00</td>\n",
              "      <td>211</td>\n",
              "      <td>-0.14282</td>\n",
              "    </tr>\n",
              "    <tr>\n",
              "      <th>28</th>\n",
              "      <td>2008-12-31 00:00:00</td>\n",
              "      <td>2009-10-07 00:00:00</td>\n",
              "      <td>280</td>\n",
              "      <td>-0.141016</td>\n",
              "    </tr>\n",
              "    <tr>\n",
              "      <th>171</th>\n",
              "      <td>2020-03-09 00:00:00</td>\n",
              "      <td>2020-06-10 00:00:00</td>\n",
              "      <td>93</td>\n",
              "      <td>-0.135967</td>\n",
              "    </tr>\n",
              "    <tr>\n",
              "      <th>192</th>\n",
              "      <td>2021-12-28 00:00:00</td>\n",
              "      <td>2022-04-29 00:00:00</td>\n",
              "      <td>122</td>\n",
              "      <td>-0.107084</td>\n",
              "    </tr>\n",
              "    <tr>\n",
              "      <th>123</th>\n",
              "      <td>2015-02-03 00:00:00</td>\n",
              "      <td>2016-05-11 00:00:00</td>\n",
              "      <td>463</td>\n",
              "      <td>-0.080797</td>\n",
              "    </tr>\n",
              "  </tbody>\n",
              "</table>\n",
              "</div>\n",
              "      <button class=\"colab-df-convert\" onclick=\"convertToInteractive('df-d22ee148-34bf-4bf4-986b-707b9410bf3b')\"\n",
              "              title=\"Convert this dataframe to an interactive table.\"\n",
              "              style=\"display:none;\">\n",
              "        \n",
              "  <svg xmlns=\"http://www.w3.org/2000/svg\" height=\"24px\"viewBox=\"0 0 24 24\"\n",
              "       width=\"24px\">\n",
              "    <path d=\"M0 0h24v24H0V0z\" fill=\"none\"/>\n",
              "    <path d=\"M18.56 5.44l.94 2.06.94-2.06 2.06-.94-2.06-.94-.94-2.06-.94 2.06-2.06.94zm-11 1L8.5 8.5l.94-2.06 2.06-.94-2.06-.94L8.5 2.5l-.94 2.06-2.06.94zm10 10l.94 2.06.94-2.06 2.06-.94-2.06-.94-.94-2.06-.94 2.06-2.06.94z\"/><path d=\"M17.41 7.96l-1.37-1.37c-.4-.4-.92-.59-1.43-.59-.52 0-1.04.2-1.43.59L10.3 9.45l-7.72 7.72c-.78.78-.78 2.05 0 2.83L4 21.41c.39.39.9.59 1.41.59.51 0 1.02-.2 1.41-.59l7.78-7.78 2.81-2.81c.8-.78.8-2.07 0-2.86zM5.41 20L4 18.59l7.72-7.72 1.47 1.35L5.41 20z\"/>\n",
              "  </svg>\n",
              "      </button>\n",
              "      \n",
              "  <style>\n",
              "    .colab-df-container {\n",
              "      display:flex;\n",
              "      flex-wrap:wrap;\n",
              "      gap: 12px;\n",
              "    }\n",
              "\n",
              "    .colab-df-convert {\n",
              "      background-color: #E8F0FE;\n",
              "      border: none;\n",
              "      border-radius: 50%;\n",
              "      cursor: pointer;\n",
              "      display: none;\n",
              "      fill: #1967D2;\n",
              "      height: 32px;\n",
              "      padding: 0 0 0 0;\n",
              "      width: 32px;\n",
              "    }\n",
              "\n",
              "    .colab-df-convert:hover {\n",
              "      background-color: #E2EBFA;\n",
              "      box-shadow: 0px 1px 2px rgba(60, 64, 67, 0.3), 0px 1px 3px 1px rgba(60, 64, 67, 0.15);\n",
              "      fill: #174EA6;\n",
              "    }\n",
              "\n",
              "    [theme=dark] .colab-df-convert {\n",
              "      background-color: #3B4455;\n",
              "      fill: #D2E3FC;\n",
              "    }\n",
              "\n",
              "    [theme=dark] .colab-df-convert:hover {\n",
              "      background-color: #434B5C;\n",
              "      box-shadow: 0px 1px 3px 1px rgba(0, 0, 0, 0.15);\n",
              "      filter: drop-shadow(0px 1px 2px rgba(0, 0, 0, 0.3));\n",
              "      fill: #FFFFFF;\n",
              "    }\n",
              "  </style>\n",
              "\n",
              "      <script>\n",
              "        const buttonEl =\n",
              "          document.querySelector('#df-d22ee148-34bf-4bf4-986b-707b9410bf3b button.colab-df-convert');\n",
              "        buttonEl.style.display =\n",
              "          google.colab.kernel.accessAllowed ? 'block' : 'none';\n",
              "\n",
              "        async function convertToInteractive(key) {\n",
              "          const element = document.querySelector('#df-d22ee148-34bf-4bf4-986b-707b9410bf3b');\n",
              "          const dataTable =\n",
              "            await google.colab.kernel.invokeFunction('convertToInteractive',\n",
              "                                                     [key], {});\n",
              "          if (!dataTable) return;\n",
              "\n",
              "          const docLinkHtml = 'Like what you see? Visit the ' +\n",
              "            '<a target=\"_blank\" href=https://colab.research.google.com/notebooks/data_table.ipynb>data table notebook</a>'\n",
              "            + ' to learn more about interactive tables.';\n",
              "          element.innerHTML = '';\n",
              "          dataTable['output_type'] = 'display_data';\n",
              "          await google.colab.output.renderOutput(dataTable, element);\n",
              "          const docLink = document.createElement('div');\n",
              "          docLink.innerHTML = docLinkHtml;\n",
              "          element.appendChild(docLink);\n",
              "        }\n",
              "      </script>\n",
              "    </div>\n",
              "  </div>\n",
              "  "
            ]
          },
          "metadata": {},
          "execution_count": 12
        }
      ]
    },
    {
      "cell_type": "code",
      "source": [
        "res.backtests['All-weather'].stats.drawdown_details.sort_values(by='Length', ascending=False).head(5)"
      ],
      "metadata": {
        "id": "wJ7WChL7dfAx",
        "colab": {
          "base_uri": "https://localhost:8080/",
          "height": 206
        },
        "outputId": "a4761be6-7316-4628-9058-2a0f98087a3d"
      },
      "execution_count": 13,
      "outputs": [
        {
          "output_type": "execute_result",
          "data": {
            "text/plain": [
              "                   Start                  End Length  drawdown\n",
              "123  2015-02-03 00:00:00  2016-05-11 00:00:00    463 -0.080797\n",
              "129  2016-07-11 00:00:00  2017-08-23 00:00:00    408 -0.079188\n",
              "143  2018-01-29 00:00:00  2019-02-15 00:00:00    382 -0.063491\n",
              "94   2013-05-03 00:00:00  2014-02-18 00:00:00    291 -0.071625\n",
              "28   2008-12-31 00:00:00  2009-10-07 00:00:00    280 -0.141016"
            ],
            "text/html": [
              "\n",
              "  <div id=\"df-51e4a810-ac81-4355-b6cd-59e8138c66d0\">\n",
              "    <div class=\"colab-df-container\">\n",
              "      <div>\n",
              "<style scoped>\n",
              "    .dataframe tbody tr th:only-of-type {\n",
              "        vertical-align: middle;\n",
              "    }\n",
              "\n",
              "    .dataframe tbody tr th {\n",
              "        vertical-align: top;\n",
              "    }\n",
              "\n",
              "    .dataframe thead th {\n",
              "        text-align: right;\n",
              "    }\n",
              "</style>\n",
              "<table border=\"1\" class=\"dataframe\">\n",
              "  <thead>\n",
              "    <tr style=\"text-align: right;\">\n",
              "      <th></th>\n",
              "      <th>Start</th>\n",
              "      <th>End</th>\n",
              "      <th>Length</th>\n",
              "      <th>drawdown</th>\n",
              "    </tr>\n",
              "  </thead>\n",
              "  <tbody>\n",
              "    <tr>\n",
              "      <th>123</th>\n",
              "      <td>2015-02-03 00:00:00</td>\n",
              "      <td>2016-05-11 00:00:00</td>\n",
              "      <td>463</td>\n",
              "      <td>-0.080797</td>\n",
              "    </tr>\n",
              "    <tr>\n",
              "      <th>129</th>\n",
              "      <td>2016-07-11 00:00:00</td>\n",
              "      <td>2017-08-23 00:00:00</td>\n",
              "      <td>408</td>\n",
              "      <td>-0.079188</td>\n",
              "    </tr>\n",
              "    <tr>\n",
              "      <th>143</th>\n",
              "      <td>2018-01-29 00:00:00</td>\n",
              "      <td>2019-02-15 00:00:00</td>\n",
              "      <td>382</td>\n",
              "      <td>-0.063491</td>\n",
              "    </tr>\n",
              "    <tr>\n",
              "      <th>94</th>\n",
              "      <td>2013-05-03 00:00:00</td>\n",
              "      <td>2014-02-18 00:00:00</td>\n",
              "      <td>291</td>\n",
              "      <td>-0.071625</td>\n",
              "    </tr>\n",
              "    <tr>\n",
              "      <th>28</th>\n",
              "      <td>2008-12-31 00:00:00</td>\n",
              "      <td>2009-10-07 00:00:00</td>\n",
              "      <td>280</td>\n",
              "      <td>-0.141016</td>\n",
              "    </tr>\n",
              "  </tbody>\n",
              "</table>\n",
              "</div>\n",
              "      <button class=\"colab-df-convert\" onclick=\"convertToInteractive('df-51e4a810-ac81-4355-b6cd-59e8138c66d0')\"\n",
              "              title=\"Convert this dataframe to an interactive table.\"\n",
              "              style=\"display:none;\">\n",
              "        \n",
              "  <svg xmlns=\"http://www.w3.org/2000/svg\" height=\"24px\"viewBox=\"0 0 24 24\"\n",
              "       width=\"24px\">\n",
              "    <path d=\"M0 0h24v24H0V0z\" fill=\"none\"/>\n",
              "    <path d=\"M18.56 5.44l.94 2.06.94-2.06 2.06-.94-2.06-.94-.94-2.06-.94 2.06-2.06.94zm-11 1L8.5 8.5l.94-2.06 2.06-.94-2.06-.94L8.5 2.5l-.94 2.06-2.06.94zm10 10l.94 2.06.94-2.06 2.06-.94-2.06-.94-.94-2.06-.94 2.06-2.06.94z\"/><path d=\"M17.41 7.96l-1.37-1.37c-.4-.4-.92-.59-1.43-.59-.52 0-1.04.2-1.43.59L10.3 9.45l-7.72 7.72c-.78.78-.78 2.05 0 2.83L4 21.41c.39.39.9.59 1.41.59.51 0 1.02-.2 1.41-.59l7.78-7.78 2.81-2.81c.8-.78.8-2.07 0-2.86zM5.41 20L4 18.59l7.72-7.72 1.47 1.35L5.41 20z\"/>\n",
              "  </svg>\n",
              "      </button>\n",
              "      \n",
              "  <style>\n",
              "    .colab-df-container {\n",
              "      display:flex;\n",
              "      flex-wrap:wrap;\n",
              "      gap: 12px;\n",
              "    }\n",
              "\n",
              "    .colab-df-convert {\n",
              "      background-color: #E8F0FE;\n",
              "      border: none;\n",
              "      border-radius: 50%;\n",
              "      cursor: pointer;\n",
              "      display: none;\n",
              "      fill: #1967D2;\n",
              "      height: 32px;\n",
              "      padding: 0 0 0 0;\n",
              "      width: 32px;\n",
              "    }\n",
              "\n",
              "    .colab-df-convert:hover {\n",
              "      background-color: #E2EBFA;\n",
              "      box-shadow: 0px 1px 2px rgba(60, 64, 67, 0.3), 0px 1px 3px 1px rgba(60, 64, 67, 0.15);\n",
              "      fill: #174EA6;\n",
              "    }\n",
              "\n",
              "    [theme=dark] .colab-df-convert {\n",
              "      background-color: #3B4455;\n",
              "      fill: #D2E3FC;\n",
              "    }\n",
              "\n",
              "    [theme=dark] .colab-df-convert:hover {\n",
              "      background-color: #434B5C;\n",
              "      box-shadow: 0px 1px 3px 1px rgba(0, 0, 0, 0.15);\n",
              "      filter: drop-shadow(0px 1px 2px rgba(0, 0, 0, 0.3));\n",
              "      fill: #FFFFFF;\n",
              "    }\n",
              "  </style>\n",
              "\n",
              "      <script>\n",
              "        const buttonEl =\n",
              "          document.querySelector('#df-51e4a810-ac81-4355-b6cd-59e8138c66d0 button.colab-df-convert');\n",
              "        buttonEl.style.display =\n",
              "          google.colab.kernel.accessAllowed ? 'block' : 'none';\n",
              "\n",
              "        async function convertToInteractive(key) {\n",
              "          const element = document.querySelector('#df-51e4a810-ac81-4355-b6cd-59e8138c66d0');\n",
              "          const dataTable =\n",
              "            await google.colab.kernel.invokeFunction('convertToInteractive',\n",
              "                                                     [key], {});\n",
              "          if (!dataTable) return;\n",
              "\n",
              "          const docLinkHtml = 'Like what you see? Visit the ' +\n",
              "            '<a target=\"_blank\" href=https://colab.research.google.com/notebooks/data_table.ipynb>data table notebook</a>'\n",
              "            + ' to learn more about interactive tables.';\n",
              "          element.innerHTML = '';\n",
              "          dataTable['output_type'] = 'display_data';\n",
              "          await google.colab.output.renderOutput(dataTable, element);\n",
              "          const docLink = document.createElement('div');\n",
              "          docLink.innerHTML = docLinkHtml;\n",
              "          element.appendChild(docLink);\n",
              "        }\n",
              "      </script>\n",
              "    </div>\n",
              "  </div>\n",
              "  "
            ]
          },
          "metadata": {},
          "execution_count": 13
        }
      ]
    },
    {
      "cell_type": "code",
      "source": [
        "res.display_monthly_returns()"
      ],
      "metadata": {
        "id": "3-1Q7vPYeuYC",
        "colab": {
          "base_uri": "https://localhost:8080/"
        },
        "outputId": "c005a732-af1f-4fa2-f063-3d73e437331c"
      },
      "execution_count": 14,
      "outputs": [
        {
          "output_type": "stream",
          "name": "stdout",
          "text": [
            "  Year    Jan    Feb    Mar    Apr    May    Jun    Jul    Aug    Sep    Oct    Nov    Dec     YTD\n",
            "------  -----  -----  -----  -----  -----  -----  -----  -----  -----  -----  -----  -----  ------\n",
            "  2007   0.09   1.62  -0.39   1.99  -0.27  -1.01   0.94   1.36   2.81   2.54   1.25   0.57   12.04\n",
            "  2008   0.56   0.57   0.23   0.05  -0.23   0.16  -1.42   0.36  -2.53  -8.37   6.46   8.27    3.21\n",
            "  2009  -8.19  -4.23   4.57  -0.55   2.31  -0.55   3.17   1.81   2.71  -0.73   4.38  -2.68    1.21\n",
            "  2010  -0.34   1.35   0.74   2.75  -0.47   1.5    1.51   3.07   2.08  -0.28  -0.68   0.8    12.61\n",
            "  2011  -0.75   2.44   0.32   3.11   0.76  -2.02   2.58   3.91   2.02   1.58   0.97   1.07   17.04\n",
            "  2012   2.52   0.32  -1.05   1.79   0.52   0.79   2.56   0.98   0.07  -1.34   0.88  -1.08    7.07\n",
            "  2013   0.22   0.31   1.2    1.84  -2.86  -2.95   1.54  -1.27   1.08   2.29  -0.38  -0.13    0.73\n",
            "  2014   1.95   2.4    0.21   1.3    1.83   1.07  -0.77   3.36  -2.37   1.67   1.76   0.94   14.05\n",
            "  2015   3.91  -1.55  -0.5   -0.73  -0.81  -2.47   1.24  -1.93  -0.08   2.41  -1.2   -1.11   -2.99\n",
            "  2016   1.32   2.33   2.02   0.89   0.34   4.43   1.56  -0.75  -0.23  -2.79  -3.43   0.62    6.21\n",
            "  2017   1.26   2.16  -0.48   1.04   1.2    0.21   0.87   2.01  -0.66   0.92   1.33   1.48   11.89\n",
            "  2018   0.53  -2.84   0.64  -0.66   1.79   0.03   0.15   1.58  -0.86  -3.74   0.71  -0.11   -2.89\n",
            "  2019   3.4    0.58   2.94   0.49   0.6    3.55   0.5    4.62  -0.87   0.57   0.63   0.19   18.45\n",
            "  2020   3.28   0.42  -1.01   4      1.04   1.08   4.82  -0.29  -1.26  -2.59   3.93   1.42   15.53\n",
            "  2021  -1.91  -1.43  -1.04   3.75   1.18   2.25   2.73   0.66  -2.6    3.85  -0.09   1.62    9.07\n",
            "  2022  -3     -0.55  -0.75  -6.38   0      0      0      0      0      0      0      0     -10.37\n"
          ]
        }
      ]
    }
  ]
}
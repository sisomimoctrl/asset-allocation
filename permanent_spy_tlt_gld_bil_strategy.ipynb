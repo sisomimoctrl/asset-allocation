{
  "nbformat": 4,
  "nbformat_minor": 0,
  "metadata": {
    "colab": {
      "name": "permanent_spy_tlt_gld_bil_strategy.ipynb",
      "provenance": [],
      "collapsed_sections": [],
      "authorship_tag": "ABX9TyMn9bqSqm4o9azPHhCa2f4K",
      "include_colab_link": true
    },
    "kernelspec": {
      "name": "python3",
      "display_name": "Python 3"
    },
    "language_info": {
      "name": "python"
    }
  },
  "cells": [
    {
      "cell_type": "markdown",
      "metadata": {
        "id": "view-in-github",
        "colab_type": "text"
      },
      "source": [
        "<a href=\"https://colab.research.google.com/github/sisomimoctrl/asset-allocation/blob/main/permanent_spy_tlt_gld_bil_strategy.ipynb\" target=\"_parent\"><img src=\"https://colab.research.google.com/assets/colab-badge.svg\" alt=\"Open In Colab\"/></a>"
      ]
    },
    {
      "cell_type": "code",
      "source": [
        "!pip install bt yfinance quantstats"
      ],
      "metadata": {
        "id": "YGM3Gbb54kDI",
        "colab": {
          "base_uri": "https://localhost:8080/"
        },
        "outputId": "d61d7235-7adf-4f0d-e942-d176a60d39c1"
      },
      "execution_count": 1,
      "outputs": [
        {
          "output_type": "stream",
          "name": "stdout",
          "text": [
            "Collecting bt\n",
            "  Downloading bt-0.2.9.tar.gz (2.7 MB)\n",
            "\u001b[K     |████████████████████████████████| 2.7 MB 5.2 MB/s \n",
            "\u001b[?25h  Installing build dependencies ... \u001b[?25l\u001b[?25hdone\n",
            "  Getting requirements to build wheel ... \u001b[?25l\u001b[?25hdone\n",
            "    Preparing wheel metadata ... \u001b[?25l\u001b[?25hdone\n",
            "Collecting yfinance\n",
            "  Downloading yfinance-0.1.70-py2.py3-none-any.whl (26 kB)\n",
            "Collecting quantstats\n",
            "  Downloading QuantStats-0.0.56-py2.py3-none-any.whl (41 kB)\n",
            "\u001b[K     |████████████████████████████████| 41 kB 250 kB/s \n",
            "\u001b[?25hCollecting pyprind>=2.11\n",
            "  Downloading PyPrind-2.11.3-py2.py3-none-any.whl (8.4 kB)\n",
            "Collecting ffn>=0.3.5\n",
            "  Downloading ffn-0.3.6-py2.py3-none-any.whl (25 kB)\n",
            "Requirement already satisfied: future>=0.15 in /usr/local/lib/python3.7/dist-packages (from ffn>=0.3.5->bt) (0.16.0)\n",
            "Requirement already satisfied: decorator>=4 in /usr/local/lib/python3.7/dist-packages (from ffn>=0.3.5->bt) (4.4.2)\n",
            "Requirement already satisfied: scipy>=0.15 in /usr/local/lib/python3.7/dist-packages (from ffn>=0.3.5->bt) (1.4.1)\n",
            "Requirement already satisfied: numpy>=1.5 in /usr/local/lib/python3.7/dist-packages (from ffn>=0.3.5->bt) (1.21.6)\n",
            "Requirement already satisfied: pandas>=0.19 in /usr/local/lib/python3.7/dist-packages (from ffn>=0.3.5->bt) (1.3.5)\n",
            "Requirement already satisfied: pandas-datareader>=0.2 in /usr/local/lib/python3.7/dist-packages (from ffn>=0.3.5->bt) (0.9.0)\n",
            "Requirement already satisfied: tabulate>=0.7.5 in /usr/local/lib/python3.7/dist-packages (from ffn>=0.3.5->bt) (0.8.9)\n",
            "Requirement already satisfied: matplotlib>=1 in /usr/local/lib/python3.7/dist-packages (from ffn>=0.3.5->bt) (3.2.2)\n",
            "Requirement already satisfied: scikit-learn>=0.15 in /usr/local/lib/python3.7/dist-packages (from ffn>=0.3.5->bt) (1.0.2)\n",
            "Requirement already satisfied: pyparsing!=2.0.4,!=2.1.2,!=2.1.6,>=2.0.1 in /usr/local/lib/python3.7/dist-packages (from matplotlib>=1->ffn>=0.3.5->bt) (3.0.8)\n",
            "Requirement already satisfied: kiwisolver>=1.0.1 in /usr/local/lib/python3.7/dist-packages (from matplotlib>=1->ffn>=0.3.5->bt) (1.4.2)\n",
            "Requirement already satisfied: python-dateutil>=2.1 in /usr/local/lib/python3.7/dist-packages (from matplotlib>=1->ffn>=0.3.5->bt) (2.8.2)\n",
            "Requirement already satisfied: cycler>=0.10 in /usr/local/lib/python3.7/dist-packages (from matplotlib>=1->ffn>=0.3.5->bt) (0.11.0)\n",
            "Requirement already satisfied: typing-extensions in /usr/local/lib/python3.7/dist-packages (from kiwisolver>=1.0.1->matplotlib>=1->ffn>=0.3.5->bt) (4.2.0)\n",
            "Requirement already satisfied: pytz>=2017.3 in /usr/local/lib/python3.7/dist-packages (from pandas>=0.19->ffn>=0.3.5->bt) (2022.1)\n",
            "Requirement already satisfied: lxml in /usr/local/lib/python3.7/dist-packages (from pandas-datareader>=0.2->ffn>=0.3.5->bt) (4.2.6)\n",
            "Requirement already satisfied: requests>=2.19.0 in /usr/local/lib/python3.7/dist-packages (from pandas-datareader>=0.2->ffn>=0.3.5->bt) (2.23.0)\n",
            "Requirement already satisfied: six>=1.5 in /usr/local/lib/python3.7/dist-packages (from python-dateutil>=2.1->matplotlib>=1->ffn>=0.3.5->bt) (1.15.0)\n",
            "Requirement already satisfied: chardet<4,>=3.0.2 in /usr/local/lib/python3.7/dist-packages (from requests>=2.19.0->pandas-datareader>=0.2->ffn>=0.3.5->bt) (3.0.4)\n",
            "Requirement already satisfied: urllib3!=1.25.0,!=1.25.1,<1.26,>=1.21.1 in /usr/local/lib/python3.7/dist-packages (from requests>=2.19.0->pandas-datareader>=0.2->ffn>=0.3.5->bt) (1.24.3)\n",
            "Requirement already satisfied: idna<3,>=2.5 in /usr/local/lib/python3.7/dist-packages (from requests>=2.19.0->pandas-datareader>=0.2->ffn>=0.3.5->bt) (2.10)\n",
            "Requirement already satisfied: certifi>=2017.4.17 in /usr/local/lib/python3.7/dist-packages (from requests>=2.19.0->pandas-datareader>=0.2->ffn>=0.3.5->bt) (2021.10.8)\n",
            "Requirement already satisfied: joblib>=0.11 in /usr/local/lib/python3.7/dist-packages (from scikit-learn>=0.15->ffn>=0.3.5->bt) (1.1.0)\n",
            "Requirement already satisfied: threadpoolctl>=2.0.0 in /usr/local/lib/python3.7/dist-packages (from scikit-learn>=0.15->ffn>=0.3.5->bt) (3.1.0)\n",
            "Collecting requests>=2.19.0\n",
            "  Downloading requests-2.27.1-py2.py3-none-any.whl (63 kB)\n",
            "\u001b[K     |████████████████████████████████| 63 kB 1.5 MB/s \n",
            "\u001b[?25hRequirement already satisfied: multitasking>=0.0.7 in /usr/local/lib/python3.7/dist-packages (from yfinance) (0.0.10)\n",
            "Collecting lxml\n",
            "  Downloading lxml-4.8.0-cp37-cp37m-manylinux_2_17_x86_64.manylinux2014_x86_64.manylinux_2_24_x86_64.whl (6.4 MB)\n",
            "\u001b[K     |████████████████████████████████| 6.4 MB 8.9 MB/s \n",
            "\u001b[?25hRequirement already satisfied: charset-normalizer~=2.0.0 in /usr/local/lib/python3.7/dist-packages (from requests>=2.19.0->pandas-datareader>=0.2->ffn>=0.3.5->bt) (2.0.12)\n",
            "Requirement already satisfied: seaborn>=0.9.0 in /usr/local/lib/python3.7/dist-packages (from quantstats) (0.11.2)\n",
            "Building wheels for collected packages: bt\n",
            "  Building wheel for bt (PEP 517) ... \u001b[?25l\u001b[?25hdone\n",
            "  Created wheel for bt: filename=bt-0.2.9-cp37-cp37m-linux_x86_64.whl size=765300 sha256=81b500061d5a2892d19cb02c679b5299b8ba9032c51a816eca81c130d74a48c7\n",
            "  Stored in directory: /root/.cache/pip/wheels/c5/1a/3f/b56e6064b766c107f25e200969161c09ca6868cbfe0eaa31e4\n",
            "Successfully built bt\n",
            "Installing collected packages: requests, lxml, yfinance, pyprind, ffn, quantstats, bt\n",
            "  Attempting uninstall: requests\n",
            "    Found existing installation: requests 2.23.0\n",
            "    Uninstalling requests-2.23.0:\n",
            "      Successfully uninstalled requests-2.23.0\n",
            "  Attempting uninstall: lxml\n",
            "    Found existing installation: lxml 4.2.6\n",
            "    Uninstalling lxml-4.2.6:\n",
            "      Successfully uninstalled lxml-4.2.6\n",
            "\u001b[31mERROR: pip's dependency resolver does not currently take into account all the packages that are installed. This behaviour is the source of the following dependency conflicts.\n",
            "google-colab 1.0.0 requires requests~=2.23.0, but you have requests 2.27.1 which is incompatible.\n",
            "datascience 0.10.6 requires folium==0.2.1, but you have folium 0.8.3 which is incompatible.\u001b[0m\n",
            "Successfully installed bt-0.2.9 ffn-0.3.6 lxml-4.8.0 pyprind-2.11.3 quantstats-0.0.56 requests-2.27.1 yfinance-0.1.70\n"
          ]
        }
      ]
    },
    {
      "cell_type": "code",
      "source": [
        "import bt\n",
        "import yfinance as yf\n",
        "import pandas as pd\n",
        "import quantstats as qs\n",
        "import numpy as np\n",
        "import matplotlib.pyplot as plt\n",
        "import seaborn as sns\n",
        "%matplotlib inline"
      ],
      "metadata": {
        "id": "siqC98Aqdee0"
      },
      "execution_count": 2,
      "outputs": []
    },
    {
      "cell_type": "code",
      "source": [
        "tickers = ['spy', 'tlt', 'gld', 'bil']\n",
        "df = yf.download(tickers, end='2022-4-30')['Adj Close']\n",
        "\n",
        "df.info()"
      ],
      "metadata": {
        "id": "RBCjyEnY5ExD",
        "colab": {
          "base_uri": "https://localhost:8080/"
        },
        "outputId": "66dd2b91-2a6f-40e5-f6d7-ac942e414dec"
      },
      "execution_count": 3,
      "outputs": [
        {
          "output_type": "stream",
          "name": "stdout",
          "text": [
            "[*********************100%***********************]  4 of 4 completed\n",
            "<class 'pandas.core.frame.DataFrame'>\n",
            "DatetimeIndex: 7367 entries, 1993-01-29 to 2022-04-29\n",
            "Data columns (total 4 columns):\n",
            " #   Column  Non-Null Count  Dtype  \n",
            "---  ------  --------------  -----  \n",
            " 0   BIL     3758 non-null   float64\n",
            " 1   GLD     4392 non-null   float64\n",
            " 2   SPY     7367 non-null   float64\n",
            " 3   TLT     4974 non-null   float64\n",
            "dtypes: float64(4)\n",
            "memory usage: 287.8 KB\n"
          ]
        }
      ]
    },
    {
      "cell_type": "code",
      "source": [
        "for c in df.columns:\n",
        "    print(c, df[c].first_valid_index(), ',', df[c].last_valid_index())"
      ],
      "metadata": {
        "id": "p41ackisLNjf",
        "colab": {
          "base_uri": "https://localhost:8080/"
        },
        "outputId": "81461fb3-0918-43db-b23a-13a1cfdb6cea"
      },
      "execution_count": 4,
      "outputs": [
        {
          "output_type": "stream",
          "name": "stdout",
          "text": [
            "BIL 2007-05-30 00:00:00 , 2022-04-29 00:00:00\n",
            "GLD 2004-11-18 00:00:00 , 2022-04-29 00:00:00\n",
            "SPY 1993-01-29 00:00:00 , 2022-04-29 00:00:00\n",
            "TLT 2002-07-30 00:00:00 , 2022-04-29 00:00:00\n"
          ]
        }
      ]
    },
    {
      "cell_type": "code",
      "source": [
        "start = '2008-1-1'\n",
        "end = '2022-4-30'\n",
        "\n",
        "data = df[start:].copy()"
      ],
      "metadata": {
        "id": "Rw7xpA_xL0N7"
      },
      "execution_count": 5,
      "outputs": []
    },
    {
      "cell_type": "code",
      "source": [
        "print(data.corr())\n",
        "print(data.resample('M').last().corr())"
      ],
      "metadata": {
        "id": "Jy1_nFG0LjVZ",
        "colab": {
          "base_uri": "https://localhost:8080/"
        },
        "outputId": "d5da3dab-799e-406e-aec1-e7855112c4f4"
      },
      "execution_count": 6,
      "outputs": [
        {
          "output_type": "stream",
          "name": "stdout",
          "text": [
            "          BIL       GLD       SPY       TLT\n",
            "BIL  1.000000  0.620040  0.861229  0.807208\n",
            "GLD  0.620040  1.000000  0.543568  0.611458\n",
            "SPY  0.861229  0.543568  1.000000  0.877599\n",
            "TLT  0.807208  0.611458  0.877599  1.000000\n",
            "          BIL       GLD       SPY       TLT\n",
            "BIL  1.000000  0.617269  0.862483  0.806711\n",
            "GLD  0.617269  1.000000  0.540311  0.605798\n",
            "SPY  0.862483  0.540311  1.000000  0.877117\n",
            "TLT  0.806711  0.605798  0.877117  1.000000\n"
          ]
        }
      ]
    },
    {
      "cell_type": "code",
      "source": [
        "sns.heatmap(data=data.corr(), annot=True, fmt='.2f', linewidths=.5, cmap=plt.cm.PuBu)"
      ],
      "metadata": {
        "colab": {
          "base_uri": "https://localhost:8080/",
          "height": 294
        },
        "id": "7KLUWtkKn_Ej",
        "outputId": "43fda2e6-abcb-4b3b-cb73-7b89def8547c"
      },
      "execution_count": 7,
      "outputs": [
        {
          "output_type": "execute_result",
          "data": {
            "text/plain": [
              "<matplotlib.axes._subplots.AxesSubplot at 0x7f26e7b5e810>"
            ]
          },
          "metadata": {},
          "execution_count": 7
        },
        {
          "output_type": "display_data",
          "data": {
            "text/plain": [
              "<Figure size 432x288 with 2 Axes>"
            ],
            "image/png": "[encoded data removed]"
          },
          "metadata": {
            "needs_background": "light"
          }
        }
      ]
    },
    {
      "cell_type": "code",
      "source": [
        "def long_only_ew(name, data, tickers, initial_capital=100000000.0):\n",
        "    s = bt.Strategy(\n",
        "        name, \n",
        "        [bt.algos.RunOnce(),\n",
        "         bt.algos.SelectThese(tickers),\n",
        "         bt.algos.WeighEqually(),\n",
        "         bt.algos.Rebalance()])\n",
        "    t = bt.Backtest(s, data, initial_capital=initial_capital)\n",
        "    return t \n",
        "\n",
        "def strategy_permanent(name, data, tickers, initial_capital=100000000.0):\n",
        "    s = bt.Strategy(        \n",
        "        name, \n",
        "        [bt.algos.RunYearly(\n",
        "            run_on_first_date=True, \n",
        "            run_on_end_of_period=True, \n",
        "            run_on_last_date=False),\n",
        "         bt.algos.SelectThese(tickers),\n",
        "         bt.algos.WeighEqually(),\n",
        "         bt.algos.PrintDate(),\n",
        "         bt.algos.PrintTempData(),\n",
        "         bt.algos.Rebalance()])\n",
        "    t = bt.Backtest(s, data, initial_capital=initial_capital)\n",
        "    return t\n",
        "\n",
        "bt_spy = long_only_ew('SPY', data, ['SPY'])\n",
        "bt_permanent = strategy_permanent('Permanent', data, ['SPY', 'TLT','GLD','BIL'])\n",
        "\n",
        "res = bt.run(bt_permanent, bt_spy)"
      ],
      "metadata": {
        "id": "mlrcABbleoPT",
        "colab": {
          "base_uri": "https://localhost:8080/"
        },
        "outputId": "84806562-ad5a-4518-9479-5ddbc6cfa01b"
      },
      "execution_count": 8,
      "outputs": [
        {
          "output_type": "stream",
          "name": "stdout",
          "text": [
            "2008-01-02 00:00:00\n",
            "{'selected': ['SPY', 'TLT', 'GLD', 'BIL'], 'weights': {'SPY': 0.25, 'TLT': 0.25, 'GLD': 0.25, 'BIL': 0.25}}\n",
            "2008-12-31 00:00:00\n",
            "{'selected': ['SPY', 'TLT', 'GLD', 'BIL'], 'weights': {'SPY': 0.25, 'TLT': 0.25, 'GLD': 0.25, 'BIL': 0.25}}\n",
            "2009-12-31 00:00:00\n",
            "{'selected': ['SPY', 'TLT', 'GLD', 'BIL'], 'weights': {'SPY': 0.25, 'TLT': 0.25, 'GLD': 0.25, 'BIL': 0.25}}\n",
            "2010-12-31 00:00:00\n",
            "{'selected': ['SPY', 'TLT', 'GLD', 'BIL'], 'weights': {'SPY': 0.25, 'TLT': 0.25, 'GLD': 0.25, 'BIL': 0.25}}\n",
            "2011-12-30 00:00:00\n",
            "{'selected': ['SPY', 'TLT', 'GLD', 'BIL'], 'weights': {'SPY': 0.25, 'TLT': 0.25, 'GLD': 0.25, 'BIL': 0.25}}\n",
            "2012-12-31 00:00:00\n",
            "{'selected': ['SPY', 'TLT', 'GLD', 'BIL'], 'weights': {'SPY': 0.25, 'TLT': 0.25, 'GLD': 0.25, 'BIL': 0.25}}\n",
            "2013-12-31 00:00:00\n",
            "{'selected': ['SPY', 'TLT', 'GLD', 'BIL'], 'weights': {'SPY': 0.25, 'TLT': 0.25, 'GLD': 0.25, 'BIL': 0.25}}\n",
            "2014-12-31 00:00:00\n",
            "{'selected': ['SPY', 'TLT', 'GLD', 'BIL'], 'weights': {'SPY': 0.25, 'TLT': 0.25, 'GLD': 0.25, 'BIL': 0.25}}\n",
            "2015-12-31 00:00:00\n",
            "{'selected': ['SPY', 'TLT', 'GLD', 'BIL'], 'weights': {'SPY': 0.25, 'TLT': 0.25, 'GLD': 0.25, 'BIL': 0.25}}\n",
            "2016-12-30 00:00:00\n",
            "{'selected': ['SPY', 'TLT', 'GLD', 'BIL'], 'weights': {'SPY': 0.25, 'TLT': 0.25, 'GLD': 0.25, 'BIL': 0.25}}\n",
            "2017-12-29 00:00:00\n",
            "{'selected': ['SPY', 'TLT', 'GLD', 'BIL'], 'weights': {'SPY': 0.25, 'TLT': 0.25, 'GLD': 0.25, 'BIL': 0.25}}\n",
            "2018-12-31 00:00:00\n",
            "{'selected': ['SPY', 'TLT', 'GLD', 'BIL'], 'weights': {'SPY': 0.25, 'TLT': 0.25, 'GLD': 0.25, 'BIL': 0.25}}\n",
            "2019-12-31 00:00:00\n",
            "{'selected': ['SPY', 'TLT', 'GLD', 'BIL'], 'weights': {'SPY': 0.25, 'TLT': 0.25, 'GLD': 0.25, 'BIL': 0.25}}\n",
            "2020-12-31 00:00:00\n",
            "{'selected': ['SPY', 'TLT', 'GLD', 'BIL'], 'weights': {'SPY': 0.25, 'TLT': 0.25, 'GLD': 0.25, 'BIL': 0.25}}\n",
            "2021-12-31 00:00:00\n",
            "{'selected': ['SPY', 'TLT', 'GLD', 'BIL'], 'weights': {'SPY': 0.25, 'TLT': 0.25, 'GLD': 0.25, 'BIL': 0.25}}\n"
          ]
        }
      ]
    },
    {
      "cell_type": "code",
      "source": [
        "res.display()"
      ],
      "metadata": {
        "id": "c_UHp0n8ew86",
        "colab": {
          "base_uri": "https://localhost:8080/"
        },
        "outputId": "e97d92b9-6f1a-47d9-a3ae-bbfd6545a4d7"
      },
      "execution_count": 9,
      "outputs": [
        {
          "output_type": "stream",
          "name": "stdout",
          "text": [
            "Stat                 Permanent    SPY\n",
            "-------------------  -----------  ----------\n",
            "Start                2008-01-01   2008-01-01\n",
            "End                  2022-04-29   2022-04-29\n",
            "Risk-free rate       0.00%        0.00%\n",
            "\n",
            "Total Return         124.81%      276.70%\n",
            "Daily Sharpe         0.85         0.55\n",
            "Daily Sortino        1.37         0.85\n",
            "CAGR                 5.82%        9.70%\n",
            "Max Drawdown         -14.44%      -51.87%\n",
            "Calmar Ratio         0.40         0.19\n",
            "\n",
            "MTD                  -4.86%       -8.78%\n",
            "3m                   -4.10%       -6.49%\n",
            "6m                   -5.39%       -9.69%\n",
            "YTD                  -7.14%       -12.99%\n",
            "1Y                   -1.01%       -0.63%\n",
            "3Y (ann.)            7.58%        13.77%\n",
            "5Y (ann.)            6.44%        13.52%\n",
            "10Y (ann.)           4.82%        13.55%\n",
            "Since Incep. (ann.)  5.82%        9.70%\n",
            "\n",
            "Daily Sharpe         0.85         0.55\n",
            "Daily Sortino        1.37         0.85\n",
            "Daily Mean (ann.)    5.90%        11.37%\n",
            "Daily Vol (ann.)     6.92%        20.52%\n",
            "Daily Skew           -0.31        -0.06\n",
            "Daily Kurt           4.49         14.95\n",
            "Best Day             2.65%        14.52%\n",
            "Worst Day            -3.14%       -10.94%\n",
            "\n",
            "Monthly Sharpe       0.83         0.70\n",
            "Monthly Sortino      1.59         1.15\n",
            "Monthly Mean (ann.)  5.89%        10.97%\n",
            "Monthly Vol (ann.)   7.12%        15.74%\n",
            "Monthly Skew         -0.13        -0.66\n",
            "Monthly Kurt         1.71         1.30\n",
            "Best Month           6.35%        12.70%\n",
            "Worst Month          -8.21%       -16.52%\n",
            "\n",
            "Yearly Sharpe        0.85         1.04\n",
            "Yearly Sortino       3.07         3.99\n",
            "Yearly Mean          6.21%        14.34%\n",
            "Yearly Vol           7.32%        13.78%\n",
            "Yearly Skew          -0.40        -0.53\n",
            "Yearly Kurt          -0.90        -0.48\n",
            "Best Year            16.31%       32.31%\n",
            "Worst Year           -7.14%       -12.99%\n",
            "\n",
            "Avg. Drawdown        -1.19%       -1.84%\n",
            "Avg. Drawdown Days   31.64        20.96\n",
            "Avg. Up Month        1.77%        3.38%\n",
            "Avg. Down Month      -1.31%       -4.02%\n",
            "Win Year %           71.43%       85.71%\n",
            "Win 12m %            84.47%       88.82%\n"
          ]
        }
      ]
    },
    {
      "cell_type": "code",
      "source": [
        "res.plot()\n",
        "plt.title('Permanent strategy portfolio', fontsize=16)\n",
        "plt.legend(ncol=1)\n",
        "plt.show()"
      ],
      "metadata": {
        "id": "J9EvfhL7erzq",
        "colab": {
          "base_uri": "https://localhost:8080/",
          "height": 330
        },
        "outputId": "25bace99-94b8-4ea5-b04c-2ec873a4320d"
      },
      "execution_count": 10,
      "outputs": [
        {
          "output_type": "display_data",
          "data": {
            "text/plain": [
              "<Figure size 1080x360 with 1 Axes>"
            ],
            "image/png": "[encoded data removed]"
          },
          "metadata": {
            "needs_background": "light"
          }
        }
      ]
    },
    {
      "cell_type": "code",
      "source": [
        "res.backtests['Permanent'].stats.drawdown[:].plot()\n",
        "plt.title('Drawdowns for Permanent strategy')\n",
        "plt.show()"
      ],
      "metadata": {
        "id": "I7psd_9ccDkx",
        "colab": {
          "base_uri": "https://localhost:8080/",
          "height": 279
        },
        "outputId": "759d020d-b5af-4b25-cb53-86807b1dbe84"
      },
      "execution_count": 11,
      "outputs": [
        {
          "output_type": "display_data",
          "data": {
            "text/plain": [
              "<Figure size 432x288 with 1 Axes>"
            ],
            "image/png": "[encoded data removed]"
          },
          "metadata": {
            "needs_background": "light"
          }
        }
      ]
    },
    {
      "cell_type": "code",
      "source": [
        "res.backtests['Permanent'].stats.drawdown_details.sort_values(by='drawdown', ascending=True).head(5)"
      ],
      "metadata": {
        "id": "YvKfhl-GdNeQ",
        "colab": {
          "base_uri": "https://localhost:8080/",
          "height": 206
        },
        "outputId": "1aa6421e-63b6-4e40-e0f2-e3a82fcd2e16"
      },
      "execution_count": 12,
      "outputs": [
        {
          "output_type": "execute_result",
          "data": {
            "text/plain": [
              "                   Start                  End Length  drawdown\n",
              "5    2008-03-19 00:00:00  2009-09-04 00:00:00    534 -0.144415\n",
              "127  2020-03-09 00:00:00  2020-04-16 00:00:00     38 -0.108168\n",
              "63   2012-10-05 00:00:00  2014-03-12 00:00:00    523 -0.080292\n",
              "94   2016-07-11 00:00:00  2017-08-28 00:00:00    413 -0.079724\n",
              "148  2021-12-28 00:00:00  2022-04-29 00:00:00    122 -0.071749"
            ],
            "text/html": [
              "\n",
              "  <div id=\"df-7381ed90-9314-4ff4-b252-acc923f19513\">\n",
              "    <div class=\"colab-df-container\">\n",
              "      <div>\n",
              "<style scoped>\n",
              "    .dataframe tbody tr th:only-of-type {\n",
              "        vertical-align: middle;\n",
              "    }\n",
              "\n",
              "    .dataframe tbody tr th {\n",
              "        vertical-align: top;\n",
              "    }\n",
              "\n",
              "    .dataframe thead th {\n",
              "        text-align: right;\n",
              "    }\n",
              "</style>\n",
              "<table border=\"1\" class=\"dataframe\">\n",
              "  <thead>\n",
              "    <tr style=\"text-align: right;\">\n",
              "      <th></th>\n",
              "      <th>Start</th>\n",
              "      <th>End</th>\n",
              "      <th>Length</th>\n",
              "      <th>drawdown</th>\n",
              "    </tr>\n",
              "  </thead>\n",
              "  <tbody>\n",
              "    <tr>\n",
              "      <th>5</th>\n",
              "      <td>2008-03-19 00:00:00</td>\n",
              "      <td>2009-09-04 00:00:00</td>\n",
              "      <td>534</td>\n",
              "      <td>-0.144415</td>\n",
              "    </tr>\n",
              "    <tr>\n",
              "      <th>127</th>\n",
              "      <td>2020-03-09 00:00:00</td>\n",
              "      <td>2020-04-16 00:00:00</td>\n",
              "      <td>38</td>\n",
              "      <td>-0.108168</td>\n",
              "    </tr>\n",
              "    <tr>\n",
              "      <th>63</th>\n",
              "      <td>2012-10-05 00:00:00</td>\n",
              "      <td>2014-03-12 00:00:00</td>\n",
              "      <td>523</td>\n",
              "      <td>-0.080292</td>\n",
              "    </tr>\n",
              "    <tr>\n",
              "      <th>94</th>\n",
              "      <td>2016-07-11 00:00:00</td>\n",
              "      <td>2017-08-28 00:00:00</td>\n",
              "      <td>413</td>\n",
              "      <td>-0.079724</td>\n",
              "    </tr>\n",
              "    <tr>\n",
              "      <th>148</th>\n",
              "      <td>2021-12-28 00:00:00</td>\n",
              "      <td>2022-04-29 00:00:00</td>\n",
              "      <td>122</td>\n",
              "      <td>-0.071749</td>\n",
              "    </tr>\n",
              "  </tbody>\n",
              "</table>\n",
              "</div>\n",
              "      <button class=\"colab-df-convert\" onclick=\"convertToInteractive('df-7381ed90-9314-4ff4-b252-acc923f19513')\"\n",
              "              title=\"Convert this dataframe to an interactive table.\"\n",
              "              style=\"display:none;\">\n",
              "        \n",
              "  <svg xmlns=\"http://www.w3.org/2000/svg\" height=\"24px\"viewBox=\"0 0 24 24\"\n",
              "       width=\"24px\">\n",
              "    <path d=\"M0 0h24v24H0V0z\" fill=\"none\"/>\n",
              "    <path d=\"M18.56 5.44l.94 2.06.94-2.06 2.06-.94-2.06-.94-.94-2.06-.94 2.06-2.06.94zm-11 1L8.5 8.5l.94-2.06 2.06-.94-2.06-.94L8.5 2.5l-.94 2.06-2.06.94zm10 10l.94 2.06.94-2.06 2.06-.94-2.06-.94-.94-2.06-.94 2.06-2.06.94z\"/><path d=\"M17.41 7.96l-1.37-1.37c-.4-.4-.92-.59-1.43-.59-.52 0-1.04.2-1.43.59L10.3 9.45l-7.72 7.72c-.78.78-.78 2.05 0 2.83L4 21.41c.39.39.9.59 1.41.59.51 0 1.02-.2 1.41-.59l7.78-7.78 2.81-2.81c.8-.78.8-2.07 0-2.86zM5.41 20L4 18.59l7.72-7.72 1.47 1.35L5.41 20z\"/>\n",
              "  </svg>\n",
              "      </button>\n",
              "      \n",
              "  <style>\n",
              "    .colab-df-container {\n",
              "      display:flex;\n",
              "      flex-wrap:wrap;\n",
              "      gap: 12px;\n",
              "    }\n",
              "\n",
              "    .colab-df-convert {\n",
              "      background-color: #E8F0FE;\n",
              "      border: none;\n",
              "      border-radius: 50%;\n",
              "      cursor: pointer;\n",
              "      display: none;\n",
              "      fill: #1967D2;\n",
              "      height: 32px;\n",
              "      padding: 0 0 0 0;\n",
              "      width: 32px;\n",
              "    }\n",
              "\n",
              "    .colab-df-convert:hover {\n",
              "      background-color: #E2EBFA;\n",
              "      box-shadow: 0px 1px 2px rgba(60, 64, 67, 0.3), 0px 1px 3px 1px rgba(60, 64, 67, 0.15);\n",
              "      fill: #174EA6;\n",
              "    }\n",
              "\n",
              "    [theme=dark] .colab-df-convert {\n",
              "      background-color: #3B4455;\n",
              "      fill: #D2E3FC;\n",
              "    }\n",
              "\n",
              "    [theme=dark] .colab-df-convert:hover {\n",
              "      background-color: #434B5C;\n",
              "      box-shadow: 0px 1px 3px 1px rgba(0, 0, 0, 0.15);\n",
              "      filter: drop-shadow(0px 1px 2px rgba(0, 0, 0, 0.3));\n",
              "      fill: #FFFFFF;\n",
              "    }\n",
              "  </style>\n",
              "\n",
              "      <script>\n",
              "        const buttonEl =\n",
              "          document.querySelector('#df-7381ed90-9314-4ff4-b252-acc923f19513 button.colab-df-convert');\n",
              "        buttonEl.style.display =\n",
              "          google.colab.kernel.accessAllowed ? 'block' : 'none';\n",
              "\n",
              "        async function convertToInteractive(key) {\n",
              "          const element = document.querySelector('#df-7381ed90-9314-4ff4-b252-acc923f19513');\n",
              "          const dataTable =\n",
              "            await google.colab.kernel.invokeFunction('convertToInteractive',\n",
              "                                                     [key], {});\n",
              "          if (!dataTable) return;\n",
              "\n",
              "          const docLinkHtml = 'Like what you see? Visit the ' +\n",
              "            '<a target=\"_blank\" href=https://colab.research.google.com/notebooks/data_table.ipynb>data table notebook</a>'\n",
              "            + ' to learn more about interactive tables.';\n",
              "          element.innerHTML = '';\n",
              "          dataTable['output_type'] = 'display_data';\n",
              "          await google.colab.output.renderOutput(dataTable, element);\n",
              "          const docLink = document.createElement('div');\n",
              "          docLink.innerHTML = docLinkHtml;\n",
              "          element.appendChild(docLink);\n",
              "        }\n",
              "      </script>\n",
              "    </div>\n",
              "  </div>\n",
              "  "
            ]
          },
          "metadata": {},
          "execution_count": 12
        }
      ]
    },
    {
      "cell_type": "code",
      "source": [
        "res.backtests['Permanent'].stats.drawdown_details.sort_values(by='Length', ascending=False).head(5)"
      ],
      "metadata": {
        "id": "wJ7WChL7dfAx",
        "colab": {
          "base_uri": "https://localhost:8080/",
          "height": 206
        },
        "outputId": "4602beb9-d981-4052-bd91-b9bebda2b289"
      },
      "execution_count": 13,
      "outputs": [
        {
          "output_type": "execute_result",
          "data": {
            "text/plain": [
              "                   Start                  End Length  drawdown\n",
              "5    2008-03-19 00:00:00  2009-09-04 00:00:00    534 -0.144415\n",
              "63   2012-10-05 00:00:00  2014-03-12 00:00:00    523 -0.080292\n",
              "82   2015-01-26 00:00:00  2016-04-07 00:00:00    437 -0.070247\n",
              "94   2016-07-11 00:00:00  2017-08-28 00:00:00    413 -0.079724\n",
              "103  2018-01-29 00:00:00  2019-02-19 00:00:00    386 -0.053962"
            ],
            "text/html": [
              "\n",
              "  <div id=\"df-2fc54462-d3a2-41a7-a3a4-1bbe52aa8586\">\n",
              "    <div class=\"colab-df-container\">\n",
              "      <div>\n",
              "<style scoped>\n",
              "    .dataframe tbody tr th:only-of-type {\n",
              "        vertical-align: middle;\n",
              "    }\n",
              "\n",
              "    .dataframe tbody tr th {\n",
              "        vertical-align: top;\n",
              "    }\n",
              "\n",
              "    .dataframe thead th {\n",
              "        text-align: right;\n",
              "    }\n",
              "</style>\n",
              "<table border=\"1\" class=\"dataframe\">\n",
              "  <thead>\n",
              "    <tr style=\"text-align: right;\">\n",
              "      <th></th>\n",
              "      <th>Start</th>\n",
              "      <th>End</th>\n",
              "      <th>Length</th>\n",
              "      <th>drawdown</th>\n",
              "    </tr>\n",
              "  </thead>\n",
              "  <tbody>\n",
              "    <tr>\n",
              "      <th>5</th>\n",
              "      <td>2008-03-19 00:00:00</td>\n",
              "      <td>2009-09-04 00:00:00</td>\n",
              "      <td>534</td>\n",
              "      <td>-0.144415</td>\n",
              "    </tr>\n",
              "    <tr>\n",
              "      <th>63</th>\n",
              "      <td>2012-10-05 00:00:00</td>\n",
              "      <td>2014-03-12 00:00:00</td>\n",
              "      <td>523</td>\n",
              "      <td>-0.080292</td>\n",
              "    </tr>\n",
              "    <tr>\n",
              "      <th>82</th>\n",
              "      <td>2015-01-26 00:00:00</td>\n",
              "      <td>2016-04-07 00:00:00</td>\n",
              "      <td>437</td>\n",
              "      <td>-0.070247</td>\n",
              "    </tr>\n",
              "    <tr>\n",
              "      <th>94</th>\n",
              "      <td>2016-07-11 00:00:00</td>\n",
              "      <td>2017-08-28 00:00:00</td>\n",
              "      <td>413</td>\n",
              "      <td>-0.079724</td>\n",
              "    </tr>\n",
              "    <tr>\n",
              "      <th>103</th>\n",
              "      <td>2018-01-29 00:00:00</td>\n",
              "      <td>2019-02-19 00:00:00</td>\n",
              "      <td>386</td>\n",
              "      <td>-0.053962</td>\n",
              "    </tr>\n",
              "  </tbody>\n",
              "</table>\n",
              "</div>\n",
              "      <button class=\"colab-df-convert\" onclick=\"convertToInteractive('df-2fc54462-d3a2-41a7-a3a4-1bbe52aa8586')\"\n",
              "              title=\"Convert this dataframe to an interactive table.\"\n",
              "              style=\"display:none;\">\n",
              "        \n",
              "  <svg xmlns=\"http://www.w3.org/2000/svg\" height=\"24px\"viewBox=\"0 0 24 24\"\n",
              "       width=\"24px\">\n",
              "    <path d=\"M0 0h24v24H0V0z\" fill=\"none\"/>\n",
              "    <path d=\"M18.56 5.44l.94 2.06.94-2.06 2.06-.94-2.06-.94-.94-2.06-.94 2.06-2.06.94zm-11 1L8.5 8.5l.94-2.06 2.06-.94-2.06-.94L8.5 2.5l-.94 2.06-2.06.94zm10 10l.94 2.06.94-2.06 2.06-.94-2.06-.94-.94-2.06-.94 2.06-2.06.94z\"/><path d=\"M17.41 7.96l-1.37-1.37c-.4-.4-.92-.59-1.43-.59-.52 0-1.04.2-1.43.59L10.3 9.45l-7.72 7.72c-.78.78-.78 2.05 0 2.83L4 21.41c.39.39.9.59 1.41.59.51 0 1.02-.2 1.41-.59l7.78-7.78 2.81-2.81c.8-.78.8-2.07 0-2.86zM5.41 20L4 18.59l7.72-7.72 1.47 1.35L5.41 20z\"/>\n",
              "  </svg>\n",
              "      </button>\n",
              "      \n",
              "  <style>\n",
              "    .colab-df-container {\n",
              "      display:flex;\n",
              "      flex-wrap:wrap;\n",
              "      gap: 12px;\n",
              "    }\n",
              "\n",
              "    .colab-df-convert {\n",
              "      background-color: #E8F0FE;\n",
              "      border: none;\n",
              "      border-radius: 50%;\n",
              "      cursor: pointer;\n",
              "      display: none;\n",
              "      fill: #1967D2;\n",
              "      height: 32px;\n",
              "      padding: 0 0 0 0;\n",
              "      width: 32px;\n",
              "    }\n",
              "\n",
              "    .colab-df-convert:hover {\n",
              "      background-color: #E2EBFA;\n",
              "      box-shadow: 0px 1px 2px rgba(60, 64, 67, 0.3), 0px 1px 3px 1px rgba(60, 64, 67, 0.15);\n",
              "      fill: #174EA6;\n",
              "    }\n",
              "\n",
              "    [theme=dark] .colab-df-convert {\n",
              "      background-color: #3B4455;\n",
              "      fill: #D2E3FC;\n",
              "    }\n",
              "\n",
              "    [theme=dark] .colab-df-convert:hover {\n",
              "      background-color: #434B5C;\n",
              "      box-shadow: 0px 1px 3px 1px rgba(0, 0, 0, 0.15);\n",
              "      filter: drop-shadow(0px 1px 2px rgba(0, 0, 0, 0.3));\n",
              "      fill: #FFFFFF;\n",
              "    }\n",
              "  </style>\n",
              "\n",
              "      <script>\n",
              "        const buttonEl =\n",
              "          document.querySelector('#df-2fc54462-d3a2-41a7-a3a4-1bbe52aa8586 button.colab-df-convert');\n",
              "        buttonEl.style.display =\n",
              "          google.colab.kernel.accessAllowed ? 'block' : 'none';\n",
              "\n",
              "        async function convertToInteractive(key) {\n",
              "          const element = document.querySelector('#df-2fc54462-d3a2-41a7-a3a4-1bbe52aa8586');\n",
              "          const dataTable =\n",
              "            await google.colab.kernel.invokeFunction('convertToInteractive',\n",
              "                                                     [key], {});\n",
              "          if (!dataTable) return;\n",
              "\n",
              "          const docLinkHtml = 'Like what you see? Visit the ' +\n",
              "            '<a target=\"_blank\" href=https://colab.research.google.com/notebooks/data_table.ipynb>data table notebook</a>'\n",
              "            + ' to learn more about interactive tables.';\n",
              "          element.innerHTML = '';\n",
              "          dataTable['output_type'] = 'display_data';\n",
              "          await google.colab.output.renderOutput(dataTable, element);\n",
              "          const docLink = document.createElement('div');\n",
              "          docLink.innerHTML = docLinkHtml;\n",
              "          element.appendChild(docLink);\n",
              "        }\n",
              "      </script>\n",
              "    </div>\n",
              "  </div>\n",
              "  "
            ]
          },
          "metadata": {},
          "execution_count": 13
        }
      ]
    },
    {
      "cell_type": "code",
      "source": [
        "res.display_monthly_returns()"
      ],
      "metadata": {
        "id": "3-1Q7vPYeuYC",
        "colab": {
          "base_uri": "https://localhost:8080/"
        },
        "outputId": "ca72b83d-0e38-4f8b-e9f5-a079a4f16a42"
      },
      "execution_count": 14,
      "outputs": [
        {
          "output_type": "stream",
          "name": "stdout",
          "text": [
            "  Year    Jan    Feb    Mar    Apr    May    Jun    Jul    Aug    Sep    Oct    Nov    Dec    YTD\n",
            "------  -----  -----  -----  -----  -----  -----  -----  -----  -----  -----  -----  -----  -----\n",
            "  2008   0.86   0.72  -1.29  -0.67  -0.05  -0.17  -0.64  -1.44  -0.63  -8.21   5.74   6.35  -0.18\n",
            "  2009  -3.89  -2.52   2.02  -0.21   3.4   -1.34   2.73   1.51   3.06  -0.06   5.57  -2.84   7.21\n",
            "  2010  -0.55   1.47   0.87   2.67   0.03   0.92  -0.12   2.66   2.51   0.67   0.15   1.36  13.32\n",
            "  2011  -1.78   2.74   0.4    3.55   0.07  -1.63   2.72   4.38  -1.26   2.64   0.92  -1.67  11.36\n",
            "  2012   3.92  -0.32  -0.49   0.87  -1.12   1.17   1.48   1.52   1.22  -1.37   0.31  -0.99   6.24\n",
            "  2013   0.36  -0.63   1.13  -0.13  -2.4   -3.51   2.44  -0.18   0.07   1.68  -0.79  -0.29  -2.37\n",
            "  2014   1.55   2.82  -0.44   0.84   0.56   1.99  -1.1    2.34  -2.44   0.65   1.43   1.15   9.63\n",
            "  2015   3.88  -1.85  -0.66  -0.68  -0.14  -1.9    0     -0.9   -0.59   2.51  -1.75  -0.64  -2.84\n",
            "  2016   1.51   3.62   1.26   1.31  -1.13   4.25   1.97  -1.15  -0.2   -2.36  -3.5   -0.08   5.33\n",
            "  2017   2.02   2.21  -0.24   1.1    0.79  -0.18   0.96   2.03  -0.94   0.44   1.11   1.32  11.1\n",
            "  2018   1.44  -2.18   0.17  -0.6    0.82  -0.56   0.1    0.71  -0.65  -2.09   1.04   0.26  -1.6\n",
            "  2019   2.86   0.41   1.47   0.5    0.34   4.04   0.51   4.32  -1.05   0.97   0.07   0.91  16.31\n",
            "  2020   3.07  -0.32  -1.02   4.73   1.18   1.21   5.45   0.07  -1.87  -1.64   1.46   2.43  15.42\n",
            "  2021  -1.97  -2.25  -0.31   2.87   2     -0.19   2.14   0.76  -2.79   2.94   0.23   1.64   4.97\n",
            "  2022  -2.72   0.42  -0.08  -4.86   0      0      0      0      0      0      0      0     -7.14\n"
          ]
        }
      ]
    }
  ]
}
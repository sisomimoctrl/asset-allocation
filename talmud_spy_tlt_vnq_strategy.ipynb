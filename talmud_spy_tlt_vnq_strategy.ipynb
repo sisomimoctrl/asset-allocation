{
  "nbformat": 4,
  "nbformat_minor": 0,
  "metadata": {
    "colab": {
      "name": "talmud_spy_tlt_vnq_strategy.ipynb",
      "provenance": [],
      "collapsed_sections": [],
      "authorship_tag": "ABX9TyNi+yQadltmbRmnffmFIRSj",
      "include_colab_link": true
    },
    "kernelspec": {
      "name": "python3",
      "display_name": "Python 3"
    },
    "language_info": {
      "name": "python"
    }
  },
  "cells": [
    {
      "cell_type": "markdown",
      "metadata": {
        "id": "view-in-github",
        "colab_type": "text"
      },
      "source": [
        "<a href=\"https://colab.research.google.com/github/sisomimoctrl/asset-allocation/blob/main/talmud_spy_tlt_vnq_strategy.ipynb\" target=\"_parent\"><img src=\"https://colab.research.google.com/assets/colab-badge.svg\" alt=\"Open In Colab\"/></a>"
      ]
    },
    {
      "cell_type": "code",
      "source": [
        "!pip install bt yfinance quantstats"
      ],
      "metadata": {
        "id": "YGM3Gbb54kDI",
        "colab": {
          "base_uri": "https://localhost:8080/"
        },
        "outputId": "f23cc4e8-8ddb-419b-baea-47ce057f9183"
      },
      "execution_count": null,
      "outputs": [
        {
          "output_type": "stream",
          "name": "stdout",
          "text": [
            "Collecting bt\n",
            "  Downloading bt-0.2.9.tar.gz (2.7 MB)\n",
            "\u001b[K     |████████████████████████████████| 2.7 MB 8.4 MB/s \n",
            "\u001b[?25h  Installing build dependencies ... \u001b[?25l\u001b[?25hdone\n",
            "  Getting requirements to build wheel ... \u001b[?25l\u001b[?25hdone\n",
            "    Preparing wheel metadata ... \u001b[?25l\u001b[?25hdone\n",
            "Collecting yfinance\n",
            "  Downloading yfinance-0.1.70-py2.py3-none-any.whl (26 kB)\n",
            "Collecting quantstats\n",
            "  Downloading QuantStats-0.0.56-py2.py3-none-any.whl (41 kB)\n",
            "\u001b[K     |████████████████████████████████| 41 kB 275 kB/s \n",
            "\u001b[?25hCollecting ffn>=0.3.5\n",
            "  Downloading ffn-0.3.6-py2.py3-none-any.whl (25 kB)\n",
            "Collecting pyprind>=2.11\n",
            "  Downloading PyPrind-2.11.3-py2.py3-none-any.whl (8.4 kB)\n",
            "Requirement already satisfied: future>=0.15 in /usr/local/lib/python3.7/dist-packages (from ffn>=0.3.5->bt) (0.16.0)\n",
            "Requirement already satisfied: numpy>=1.5 in /usr/local/lib/python3.7/dist-packages (from ffn>=0.3.5->bt) (1.21.6)\n",
            "Requirement already satisfied: pandas-datareader>=0.2 in /usr/local/lib/python3.7/dist-packages (from ffn>=0.3.5->bt) (0.9.0)\n",
            "Requirement already satisfied: tabulate>=0.7.5 in /usr/local/lib/python3.7/dist-packages (from ffn>=0.3.5->bt) (0.8.9)\n",
            "Requirement already satisfied: scikit-learn>=0.15 in /usr/local/lib/python3.7/dist-packages (from ffn>=0.3.5->bt) (1.0.2)\n",
            "Requirement already satisfied: matplotlib>=1 in /usr/local/lib/python3.7/dist-packages (from ffn>=0.3.5->bt) (3.2.2)\n",
            "Requirement already satisfied: pandas>=0.19 in /usr/local/lib/python3.7/dist-packages (from ffn>=0.3.5->bt) (1.3.5)\n",
            "Requirement already satisfied: decorator>=4 in /usr/local/lib/python3.7/dist-packages (from ffn>=0.3.5->bt) (4.4.2)\n",
            "Requirement already satisfied: scipy>=0.15 in /usr/local/lib/python3.7/dist-packages (from ffn>=0.3.5->bt) (1.4.1)\n",
            "Requirement already satisfied: pyparsing!=2.0.4,!=2.1.2,!=2.1.6,>=2.0.1 in /usr/local/lib/python3.7/dist-packages (from matplotlib>=1->ffn>=0.3.5->bt) (3.0.8)\n",
            "Requirement already satisfied: cycler>=0.10 in /usr/local/lib/python3.7/dist-packages (from matplotlib>=1->ffn>=0.3.5->bt) (0.11.0)\n",
            "Requirement already satisfied: python-dateutil>=2.1 in /usr/local/lib/python3.7/dist-packages (from matplotlib>=1->ffn>=0.3.5->bt) (2.8.2)\n",
            "Requirement already satisfied: kiwisolver>=1.0.1 in /usr/local/lib/python3.7/dist-packages (from matplotlib>=1->ffn>=0.3.5->bt) (1.4.2)\n",
            "Requirement already satisfied: typing-extensions in /usr/local/lib/python3.7/dist-packages (from kiwisolver>=1.0.1->matplotlib>=1->ffn>=0.3.5->bt) (4.2.0)\n",
            "Requirement already satisfied: pytz>=2017.3 in /usr/local/lib/python3.7/dist-packages (from pandas>=0.19->ffn>=0.3.5->bt) (2022.1)\n",
            "Requirement already satisfied: requests>=2.19.0 in /usr/local/lib/python3.7/dist-packages (from pandas-datareader>=0.2->ffn>=0.3.5->bt) (2.23.0)\n",
            "Requirement already satisfied: lxml in /usr/local/lib/python3.7/dist-packages (from pandas-datareader>=0.2->ffn>=0.3.5->bt) (4.2.6)\n",
            "Requirement already satisfied: six>=1.5 in /usr/local/lib/python3.7/dist-packages (from python-dateutil>=2.1->matplotlib>=1->ffn>=0.3.5->bt) (1.15.0)\n",
            "Requirement already satisfied: chardet<4,>=3.0.2 in /usr/local/lib/python3.7/dist-packages (from requests>=2.19.0->pandas-datareader>=0.2->ffn>=0.3.5->bt) (3.0.4)\n",
            "Requirement already satisfied: certifi>=2017.4.17 in /usr/local/lib/python3.7/dist-packages (from requests>=2.19.0->pandas-datareader>=0.2->ffn>=0.3.5->bt) (2021.10.8)\n",
            "Requirement already satisfied: idna<3,>=2.5 in /usr/local/lib/python3.7/dist-packages (from requests>=2.19.0->pandas-datareader>=0.2->ffn>=0.3.5->bt) (2.10)\n",
            "Requirement already satisfied: urllib3!=1.25.0,!=1.25.1,<1.26,>=1.21.1 in /usr/local/lib/python3.7/dist-packages (from requests>=2.19.0->pandas-datareader>=0.2->ffn>=0.3.5->bt) (1.24.3)\n",
            "Requirement already satisfied: joblib>=0.11 in /usr/local/lib/python3.7/dist-packages (from scikit-learn>=0.15->ffn>=0.3.5->bt) (1.1.0)\n",
            "Requirement already satisfied: threadpoolctl>=2.0.0 in /usr/local/lib/python3.7/dist-packages (from scikit-learn>=0.15->ffn>=0.3.5->bt) (3.1.0)\n",
            "Collecting lxml\n",
            "  Downloading lxml-4.8.0-cp37-cp37m-manylinux_2_17_x86_64.manylinux2014_x86_64.manylinux_2_24_x86_64.whl (6.4 MB)\n",
            "\u001b[K     |████████████████████████████████| 6.4 MB 32.8 MB/s \n",
            "\u001b[?25hRequirement already satisfied: multitasking>=0.0.7 in /usr/local/lib/python3.7/dist-packages (from yfinance) (0.0.10)\n",
            "Collecting requests>=2.19.0\n",
            "  Downloading requests-2.27.1-py2.py3-none-any.whl (63 kB)\n",
            "\u001b[K     |████████████████████████████████| 63 kB 1.9 MB/s \n",
            "\u001b[?25hRequirement already satisfied: charset-normalizer~=2.0.0 in /usr/local/lib/python3.7/dist-packages (from requests>=2.19.0->pandas-datareader>=0.2->ffn>=0.3.5->bt) (2.0.12)\n",
            "Requirement already satisfied: seaborn>=0.9.0 in /usr/local/lib/python3.7/dist-packages (from quantstats) (0.11.2)\n",
            "Building wheels for collected packages: bt\n",
            "  Building wheel for bt (PEP 517) ... \u001b[?25l\u001b[?25hdone\n",
            "  Created wheel for bt: filename=bt-0.2.9-cp37-cp37m-linux_x86_64.whl size=765298 sha256=8beb6289c1ec997ad6a5f3e4b775f80fb249699655bdbbe564739c3379b6ceda\n",
            "  Stored in directory: /root/.cache/pip/wheels/c5/1a/3f/b56e6064b766c107f25e200969161c09ca6868cbfe0eaa31e4\n",
            "Successfully built bt\n",
            "Installing collected packages: requests, lxml, yfinance, pyprind, ffn, quantstats, bt\n",
            "  Attempting uninstall: requests\n",
            "    Found existing installation: requests 2.23.0\n",
            "    Uninstalling requests-2.23.0:\n",
            "      Successfully uninstalled requests-2.23.0\n",
            "  Attempting uninstall: lxml\n",
            "    Found existing installation: lxml 4.2.6\n",
            "    Uninstalling lxml-4.2.6:\n",
            "      Successfully uninstalled lxml-4.2.6\n",
            "\u001b[31mERROR: pip's dependency resolver does not currently take into account all the packages that are installed. This behaviour is the source of the following dependency conflicts.\n",
            "google-colab 1.0.0 requires requests~=2.23.0, but you have requests 2.27.1 which is incompatible.\n",
            "datascience 0.10.6 requires folium==0.2.1, but you have folium 0.8.3 which is incompatible.\u001b[0m\n",
            "Successfully installed bt-0.2.9 ffn-0.3.6 lxml-4.8.0 pyprind-2.11.3 quantstats-0.0.56 requests-2.27.1 yfinance-0.1.70\n"
          ]
        }
      ]
    },
    {
      "cell_type": "code",
      "source": [
        "import bt\n",
        "import yfinance as yf\n",
        "import pandas as pd\n",
        "import quantstats as qs\n",
        "import numpy as np\n",
        "import matplotlib.pyplot as plt\n",
        "%matplotlib inline"
      ],
      "metadata": {
        "id": "siqC98Aqdee0"
      },
      "execution_count": null,
      "outputs": []
    },
    {
      "cell_type": "code",
      "source": [
        "tickers = ['spy', 'tlt', 'vnq']\n",
        "df = yf.download(tickers, end='2022-4-30')['Adj Close']\n",
        "\n",
        "df.info()"
      ],
      "metadata": {
        "id": "RBCjyEnY5ExD",
        "colab": {
          "base_uri": "https://localhost:8080/"
        },
        "outputId": "714b49ef-31b2-433d-b0b7-73d2ebe9d064"
      },
      "execution_count": null,
      "outputs": [
        {
          "output_type": "stream",
          "name": "stdout",
          "text": [
            "[*********************100%***********************]  3 of 3 completed\n",
            "<class 'pandas.core.frame.DataFrame'>\n",
            "DatetimeIndex: 7367 entries, 1993-01-29 to 2022-04-29\n",
            "Data columns (total 3 columns):\n",
            " #   Column  Non-Null Count  Dtype  \n",
            "---  ------  --------------  -----  \n",
            " 0   SPY     7367 non-null   float64\n",
            " 1   TLT     4974 non-null   float64\n",
            " 2   VNQ     4428 non-null   float64\n",
            "dtypes: float64(3)\n",
            "memory usage: 230.2 KB\n"
          ]
        }
      ]
    },
    {
      "cell_type": "code",
      "source": [
        "for c in df.columns:\n",
        "    print(c, df[c].first_valid_index(), ',', df[c].last_valid_index())"
      ],
      "metadata": {
        "id": "p41ackisLNjf",
        "colab": {
          "base_uri": "https://localhost:8080/"
        },
        "outputId": "e88b4897-8e00-47e3-c8c0-73138bd6441e"
      },
      "execution_count": null,
      "outputs": [
        {
          "output_type": "stream",
          "name": "stdout",
          "text": [
            "SPY 1993-01-29 00:00:00 , 2022-04-29 00:00:00\n",
            "TLT 2002-07-30 00:00:00 , 2022-04-29 00:00:00\n",
            "VNQ 2004-09-29 00:00:00 , 2022-04-29 00:00:00\n"
          ]
        }
      ]
    },
    {
      "cell_type": "code",
      "source": [
        "start = '2005-1-1'\n",
        "end = '2022-4-30'\n",
        "\n",
        "data = df[start:].copy()"
      ],
      "metadata": {
        "id": "Rw7xpA_xL0N7"
      },
      "execution_count": null,
      "outputs": []
    },
    {
      "cell_type": "code",
      "source": [
        "print(data.corr())\n",
        "print(data.resample('M').last().corr())"
      ],
      "metadata": {
        "id": "Jy1_nFG0LjVZ",
        "colab": {
          "base_uri": "https://localhost:8080/"
        },
        "outputId": "3c7c5aad-a848-4634-c6ee-32a10b27c329"
      },
      "execution_count": null,
      "outputs": [
        {
          "output_type": "stream",
          "name": "stdout",
          "text": [
            "          SPY       TLT       VNQ\n",
            "SPY  1.000000  0.872846  0.962447\n",
            "TLT  0.872846  1.000000  0.886975\n",
            "VNQ  0.962447  0.886975  1.000000\n",
            "          SPY       TLT       VNQ\n",
            "SPY  1.000000  0.872199  0.962818\n",
            "TLT  0.872199  1.000000  0.886490\n",
            "VNQ  0.962818  0.886490  1.000000\n"
          ]
        }
      ]
    },
    {
      "cell_type": "code",
      "source": [
        "def long_only_ew(name, data, tickers, initial_capital=100000000.0):\n",
        "    s = bt.Strategy(\n",
        "        name, \n",
        "        [bt.algos.RunOnce(),\n",
        "         bt.algos.SelectThese(tickers),\n",
        "         bt.algos.WeighEqually(),\n",
        "         bt.algos.Rebalance()])\n",
        "    t = bt.Backtest(s, data, initial_capital=initial_capital)\n",
        "    return t \n",
        "\n",
        "def strategy_talmud(name, data, tickers, initial_capital=100000000.0):\n",
        "    s = bt.Strategy(        \n",
        "        name, \n",
        "        [bt.algos.RunYearly(\n",
        "            run_on_first_date=True, \n",
        "            run_on_end_of_period=True, \n",
        "            run_on_last_date=False),\n",
        "         bt.algos.SelectThese(tickers),\n",
        "         bt.algos.WeighEqually(),\n",
        "         bt.algos.PrintDate(),\n",
        "         bt.algos.PrintTempData(),\n",
        "         bt.algos.Rebalance()])\n",
        "    t = bt.Backtest(s, data, initial_capital=initial_capital)\n",
        "    return t\n",
        "\n",
        "bt_spy = long_only_ew('SPY', data, ['SPY'])\n",
        "bt_talmud = strategy_talmud('Talmud', data, ['SPY', 'TLT','VNQ'])\n",
        "\n",
        "res = bt.run(bt_talmud, bt_spy)"
      ],
      "metadata": {
        "id": "mlrcABbleoPT",
        "colab": {
          "base_uri": "https://localhost:8080/"
        },
        "outputId": "a1f197f9-dd1e-4ef4-ce35-a8298e71f4a7"
      },
      "execution_count": null,
      "outputs": [
        {
          "output_type": "stream",
          "name": "stdout",
          "text": [
            "2005-01-03 00:00:00\n",
            "{'selected': ['SPY', 'TLT', 'VNQ'], 'weights': {'SPY': 0.3333333333333333, 'TLT': 0.3333333333333333, 'VNQ': 0.3333333333333333}}\n",
            "2005-12-30 00:00:00\n",
            "{'selected': ['SPY', 'TLT', 'VNQ'], 'weights': {'SPY': 0.3333333333333333, 'TLT': 0.3333333333333333, 'VNQ': 0.3333333333333333}}\n",
            "2006-12-29 00:00:00\n",
            "{'selected': ['SPY', 'TLT', 'VNQ'], 'weights': {'SPY': 0.3333333333333333, 'TLT': 0.3333333333333333, 'VNQ': 0.3333333333333333}}\n",
            "2007-12-31 00:00:00\n",
            "{'selected': ['SPY', 'TLT', 'VNQ'], 'weights': {'SPY': 0.3333333333333333, 'TLT': 0.3333333333333333, 'VNQ': 0.3333333333333333}}\n",
            "2008-12-31 00:00:00\n",
            "{'selected': ['SPY', 'TLT', 'VNQ'], 'weights': {'SPY': 0.3333333333333333, 'TLT': 0.3333333333333333, 'VNQ': 0.3333333333333333}}\n",
            "2009-12-31 00:00:00\n",
            "{'selected': ['SPY', 'TLT', 'VNQ'], 'weights': {'SPY': 0.3333333333333333, 'TLT': 0.3333333333333333, 'VNQ': 0.3333333333333333}}\n",
            "2010-12-31 00:00:00\n",
            "{'selected': ['SPY', 'TLT', 'VNQ'], 'weights': {'SPY': 0.3333333333333333, 'TLT': 0.3333333333333333, 'VNQ': 0.3333333333333333}}\n",
            "2011-12-30 00:00:00\n",
            "{'selected': ['SPY', 'TLT', 'VNQ'], 'weights': {'SPY': 0.3333333333333333, 'TLT': 0.3333333333333333, 'VNQ': 0.3333333333333333}}\n",
            "2012-12-31 00:00:00\n",
            "{'selected': ['SPY', 'TLT', 'VNQ'], 'weights': {'SPY': 0.3333333333333333, 'TLT': 0.3333333333333333, 'VNQ': 0.3333333333333333}}\n",
            "2013-12-31 00:00:00\n",
            "{'selected': ['SPY', 'TLT', 'VNQ'], 'weights': {'SPY': 0.3333333333333333, 'TLT': 0.3333333333333333, 'VNQ': 0.3333333333333333}}\n",
            "2014-12-31 00:00:00\n",
            "{'selected': ['SPY', 'TLT', 'VNQ'], 'weights': {'SPY': 0.3333333333333333, 'TLT': 0.3333333333333333, 'VNQ': 0.3333333333333333}}\n",
            "2015-12-31 00:00:00\n",
            "{'selected': ['SPY', 'TLT', 'VNQ'], 'weights': {'SPY': 0.3333333333333333, 'TLT': 0.3333333333333333, 'VNQ': 0.3333333333333333}}\n",
            "2016-12-30 00:00:00\n",
            "{'selected': ['SPY', 'TLT', 'VNQ'], 'weights': {'SPY': 0.3333333333333333, 'TLT': 0.3333333333333333, 'VNQ': 0.3333333333333333}}\n",
            "2017-12-29 00:00:00\n",
            "{'selected': ['SPY', 'TLT', 'VNQ'], 'weights': {'SPY': 0.3333333333333333, 'TLT': 0.3333333333333333, 'VNQ': 0.3333333333333333}}\n",
            "2018-12-31 00:00:00\n",
            "{'selected': ['SPY', 'TLT', 'VNQ'], 'weights': {'SPY': 0.3333333333333333, 'TLT': 0.3333333333333333, 'VNQ': 0.3333333333333333}}\n",
            "2019-12-31 00:00:00\n",
            "{'selected': ['SPY', 'TLT', 'VNQ'], 'weights': {'SPY': 0.3333333333333333, 'TLT': 0.3333333333333333, 'VNQ': 0.3333333333333333}}\n",
            "2020-12-31 00:00:00\n",
            "{'selected': ['SPY', 'TLT', 'VNQ'], 'weights': {'SPY': 0.3333333333333333, 'TLT': 0.3333333333333333, 'VNQ': 0.3333333333333333}}\n",
            "2021-12-31 00:00:00\n",
            "{'selected': ['SPY', 'TLT', 'VNQ'], 'weights': {'SPY': 0.3333333333333333, 'TLT': 0.3333333333333333, 'VNQ': 0.3333333333333333}}\n"
          ]
        }
      ]
    },
    {
      "cell_type": "code",
      "source": [
        "res.display()"
      ],
      "metadata": {
        "id": "c_UHp0n8ew86",
        "colab": {
          "base_uri": "https://localhost:8080/"
        },
        "outputId": "429c3e0a-b60c-4778-eb63-85f836a90094"
      },
      "execution_count": null,
      "outputs": [
        {
          "output_type": "stream",
          "name": "stdout",
          "text": [
            "Stat                 Talmud      SPY\n",
            "-------------------  ----------  ----------\n",
            "Start                2005-01-02  2005-01-02\n",
            "End                  2022-04-29  2022-04-29\n",
            "Risk-free rate       0.00%       0.00%\n",
            "\n",
            "Total Return         312.51%     379.05%\n",
            "Daily Sharpe         0.67        0.56\n",
            "Daily Sortino        1.05        0.87\n",
            "CAGR                 8.53%       9.47%\n",
            "Max Drawdown         -39.51%     -55.19%\n",
            "Calmar Ratio         0.22        0.17\n",
            "\n",
            "MTD                  -7.40%      -8.78%\n",
            "3m                   -7.87%      -6.49%\n",
            "6m                   -10.29%     -9.69%\n",
            "YTD                  -13.98%     -12.99%\n",
            "1Y                   -1.24%      -0.63%\n",
            "3Y (ann.)            8.80%       13.77%\n",
            "5Y (ann.)            8.35%       13.52%\n",
            "10Y (ann.)           8.70%       13.55%\n",
            "Since Incep. (ann.)  8.53%       9.47%\n",
            "\n",
            "Daily Sharpe         0.67        0.56\n",
            "Daily Sortino        1.05        0.87\n",
            "Daily Mean (ann.)    9.11%       10.93%\n",
            "Daily Vol (ann.)     13.58%      19.36%\n",
            "Daily Skew           -0.31       -0.07\n",
            "Daily Kurt           8.96        15.90\n",
            "Best Day             6.60%       14.52%\n",
            "Worst Day            -6.56%      -10.94%\n",
            "\n",
            "Monthly Sharpe       0.78        0.70\n",
            "Monthly Sortino      1.26        1.15\n",
            "Monthly Mean (ann.)  9.04%       10.32%\n",
            "Monthly Vol (ann.)   11.61%      14.75%\n",
            "Monthly Skew         -1.08       -0.66\n",
            "Monthly Kurt         4.66        1.62\n",
            "Best Month           10.97%      12.70%\n",
            "Worst Month          -16.58%     -16.52%\n",
            "\n",
            "Yearly Sharpe        0.75        0.62\n",
            "Yearly Sortino       1.93        1.18\n",
            "Yearly Mean          8.77%       10.88%\n",
            "Yearly Vol           11.68%      17.62%\n",
            "Yearly Skew          -0.66       -1.27\n",
            "Yearly Kurt          -0.25       2.13\n",
            "Best Year            24.75%      32.31%\n",
            "Worst Year           -13.98%     -36.79%\n",
            "\n",
            "Avg. Drawdown        -1.48%      -1.74%\n",
            "Avg. Drawdown Days   21.92       21.64\n",
            "Avg. Up Month        2.59%       3.13%\n",
            "Avg. Down Month      -2.55%      -3.77%\n",
            "Win Year %           76.47%      82.35%\n",
            "Win 12m %            85.79%      85.28%\n"
          ]
        }
      ]
    },
    {
      "cell_type": "code",
      "source": [
        "res.plot()\n",
        "plt.title('Talmud strategy portfolio', fontsize=16)\n",
        "plt.legend(ncol=1)\n",
        "plt.show()"
      ],
      "metadata": {
        "id": "J9EvfhL7erzq",
        "colab": {
          "base_uri": "https://localhost:8080/",
          "height": 330
        },
        "outputId": "e97626d9-59d2-4cda-b053-a5472ce064c7"
      },
      "execution_count": null,
      "outputs": [
        {
          "output_type": "display_data",
          "data": {
            "text/plain": [
              "<Figure size 1080x360 with 1 Axes>"
            ],
            "image/png": "[encoded data removed]"
          },
          "metadata": {
            "needs_background": "light"
          }
        }
      ]
    },
    {
      "cell_type": "code",
      "source": [
        "res.backtests['Talmud'].stats.drawdown[:].plot()\n",
        "plt.title('Drawdowns for Talmud strategy')\n",
        "plt.show()"
      ],
      "metadata": {
        "id": "I7psd_9ccDkx",
        "colab": {
          "base_uri": "https://localhost:8080/",
          "height": 279
        },
        "outputId": "daac3389-96a1-4ed1-ead7-92239a90a0b8"
      },
      "execution_count": null,
      "outputs": [
        {
          "output_type": "display_data",
          "data": {
            "text/plain": [
              "<Figure size 432x288 with 1 Axes>"
            ],
            "image/png": "[encoded data removed]"
          },
          "metadata": {
            "needs_background": "light"
          }
        }
      ]
    },
    {
      "cell_type": "code",
      "source": [
        "res.backtests['Talmud'].stats.drawdown_details.sort_values(by='drawdown', ascending=True).head(5)"
      ],
      "metadata": {
        "id": "YvKfhl-GdNeQ",
        "colab": {
          "base_uri": "https://localhost:8080/",
          "height": 206
        },
        "outputId": "bd849d73-db09-4c6b-c8b4-505e224d35b2"
      },
      "execution_count": null,
      "outputs": [
        {
          "output_type": "execute_result",
          "data": {
            "text/plain": [
              "                   Start                  End Length  drawdown\n",
              "44   2007-10-08 00:00:00  2010-04-23 00:00:00    928 -0.395137\n",
              "211  2020-02-24 00:00:00  2020-08-04 00:00:00    162 -0.221436\n",
              "252  2022-01-03 00:00:00  2022-04-29 00:00:00    116 -0.139838\n",
              "149  2015-01-27 00:00:00  2016-03-29 00:00:00    427 -0.104394\n",
              "180  2018-08-30 00:00:00  2019-02-15 00:00:00    169  -0.10427"
            ],
            "text/html": [
              "\n",
              "  <div id=\"df-1a0b799d-86d2-4757-94af-f5ded7846f0e\">\n",
              "    <div class=\"colab-df-container\">\n",
              "      <div>\n",
              "<style scoped>\n",
              "    .dataframe tbody tr th:only-of-type {\n",
              "        vertical-align: middle;\n",
              "    }\n",
              "\n",
              "    .dataframe tbody tr th {\n",
              "        vertical-align: top;\n",
              "    }\n",
              "\n",
              "    .dataframe thead th {\n",
              "        text-align: right;\n",
              "    }\n",
              "</style>\n",
              "<table border=\"1\" class=\"dataframe\">\n",
              "  <thead>\n",
              "    <tr style=\"text-align: right;\">\n",
              "      <th></th>\n",
              "      <th>Start</th>\n",
              "      <th>End</th>\n",
              "      <th>Length</th>\n",
              "      <th>drawdown</th>\n",
              "    </tr>\n",
              "  </thead>\n",
              "  <tbody>\n",
              "    <tr>\n",
              "      <th>44</th>\n",
              "      <td>2007-10-08 00:00:00</td>\n",
              "      <td>2010-04-23 00:00:00</td>\n",
              "      <td>928</td>\n",
              "      <td>-0.395137</td>\n",
              "    </tr>\n",
              "    <tr>\n",
              "      <th>211</th>\n",
              "      <td>2020-02-24 00:00:00</td>\n",
              "      <td>2020-08-04 00:00:00</td>\n",
              "      <td>162</td>\n",
              "      <td>-0.221436</td>\n",
              "    </tr>\n",
              "    <tr>\n",
              "      <th>252</th>\n",
              "      <td>2022-01-03 00:00:00</td>\n",
              "      <td>2022-04-29 00:00:00</td>\n",
              "      <td>116</td>\n",
              "      <td>-0.139838</td>\n",
              "    </tr>\n",
              "    <tr>\n",
              "      <th>149</th>\n",
              "      <td>2015-01-27 00:00:00</td>\n",
              "      <td>2016-03-29 00:00:00</td>\n",
              "      <td>427</td>\n",
              "      <td>-0.104394</td>\n",
              "    </tr>\n",
              "    <tr>\n",
              "      <th>180</th>\n",
              "      <td>2018-08-30 00:00:00</td>\n",
              "      <td>2019-02-15 00:00:00</td>\n",
              "      <td>169</td>\n",
              "      <td>-0.10427</td>\n",
              "    </tr>\n",
              "  </tbody>\n",
              "</table>\n",
              "</div>\n",
              "      <button class=\"colab-df-convert\" onclick=\"convertToInteractive('df-1a0b799d-86d2-4757-94af-f5ded7846f0e')\"\n",
              "              title=\"Convert this dataframe to an interactive table.\"\n",
              "              style=\"display:none;\">\n",
              "        \n",
              "  <svg xmlns=\"http://www.w3.org/2000/svg\" height=\"24px\"viewBox=\"0 0 24 24\"\n",
              "       width=\"24px\">\n",
              "    <path d=\"M0 0h24v24H0V0z\" fill=\"none\"/>\n",
              "    <path d=\"M18.56 5.44l.94 2.06.94-2.06 2.06-.94-2.06-.94-.94-2.06-.94 2.06-2.06.94zm-11 1L8.5 8.5l.94-2.06 2.06-.94-2.06-.94L8.5 2.5l-.94 2.06-2.06.94zm10 10l.94 2.06.94-2.06 2.06-.94-2.06-.94-.94-2.06-.94 2.06-2.06.94z\"/><path d=\"M17.41 7.96l-1.37-1.37c-.4-.4-.92-.59-1.43-.59-.52 0-1.04.2-1.43.59L10.3 9.45l-7.72 7.72c-.78.78-.78 2.05 0 2.83L4 21.41c.39.39.9.59 1.41.59.51 0 1.02-.2 1.41-.59l7.78-7.78 2.81-2.81c.8-.78.8-2.07 0-2.86zM5.41 20L4 18.59l7.72-7.72 1.47 1.35L5.41 20z\"/>\n",
              "  </svg>\n",
              "      </button>\n",
              "      \n",
              "  <style>\n",
              "    .colab-df-container {\n",
              "      display:flex;\n",
              "      flex-wrap:wrap;\n",
              "      gap: 12px;\n",
              "    }\n",
              "\n",
              "    .colab-df-convert {\n",
              "      background-color: #E8F0FE;\n",
              "      border: none;\n",
              "      border-radius: 50%;\n",
              "      cursor: pointer;\n",
              "      display: none;\n",
              "      fill: #1967D2;\n",
              "      height: 32px;\n",
              "      padding: 0 0 0 0;\n",
              "      width: 32px;\n",
              "    }\n",
              "\n",
              "    .colab-df-convert:hover {\n",
              "      background-color: #E2EBFA;\n",
              "      box-shadow: 0px 1px 2px rgba(60, 64, 67, 0.3), 0px 1px 3px 1px rgba(60, 64, 67, 0.15);\n",
              "      fill: #174EA6;\n",
              "    }\n",
              "\n",
              "    [theme=dark] .colab-df-convert {\n",
              "      background-color: #3B4455;\n",
              "      fill: #D2E3FC;\n",
              "    }\n",
              "\n",
              "    [theme=dark] .colab-df-convert:hover {\n",
              "      background-color: #434B5C;\n",
              "      box-shadow: 0px 1px 3px 1px rgba(0, 0, 0, 0.15);\n",
              "      filter: drop-shadow(0px 1px 2px rgba(0, 0, 0, 0.3));\n",
              "      fill: #FFFFFF;\n",
              "    }\n",
              "  </style>\n",
              "\n",
              "      <script>\n",
              "        const buttonEl =\n",
              "          document.querySelector('#df-1a0b799d-86d2-4757-94af-f5ded7846f0e button.colab-df-convert');\n",
              "        buttonEl.style.display =\n",
              "          google.colab.kernel.accessAllowed ? 'block' : 'none';\n",
              "\n",
              "        async function convertToInteractive(key) {\n",
              "          const element = document.querySelector('#df-1a0b799d-86d2-4757-94af-f5ded7846f0e');\n",
              "          const dataTable =\n",
              "            await google.colab.kernel.invokeFunction('convertToInteractive',\n",
              "                                                     [key], {});\n",
              "          if (!dataTable) return;\n",
              "\n",
              "          const docLinkHtml = 'Like what you see? Visit the ' +\n",
              "            '<a target=\"_blank\" href=https://colab.research.google.com/notebooks/data_table.ipynb>data table notebook</a>'\n",
              "            + ' to learn more about interactive tables.';\n",
              "          element.innerHTML = '';\n",
              "          dataTable['output_type'] = 'display_data';\n",
              "          await google.colab.output.renderOutput(dataTable, element);\n",
              "          const docLink = document.createElement('div');\n",
              "          docLink.innerHTML = docLinkHtml;\n",
              "          element.appendChild(docLink);\n",
              "        }\n",
              "      </script>\n",
              "    </div>\n",
              "  </div>\n",
              "  "
            ]
          },
          "metadata": {},
          "execution_count": 11
        }
      ]
    },
    {
      "cell_type": "code",
      "source": [
        "res.backtests['Talmud'].stats.drawdown_details.sort_values(by='Length', ascending=False).head(5)"
      ],
      "metadata": {
        "id": "wJ7WChL7dfAx",
        "colab": {
          "base_uri": "https://localhost:8080/",
          "height": 206
        },
        "outputId": "7bbeeeb9-4521-44e8-8ac1-d354409bbfc5"
      },
      "execution_count": null,
      "outputs": [
        {
          "output_type": "execute_result",
          "data": {
            "text/plain": [
              "                   Start                  End Length  drawdown\n",
              "44   2007-10-08 00:00:00  2010-04-23 00:00:00    928 -0.395137\n",
              "149  2015-01-27 00:00:00  2016-03-29 00:00:00    427 -0.104394\n",
              "161  2016-08-01 00:00:00  2017-06-22 00:00:00    325 -0.094859\n",
              "114  2013-05-22 00:00:00  2014-02-25 00:00:00    279 -0.103555\n",
              "43   2007-02-21 00:00:00  2007-10-05 00:00:00    226 -0.098794"
            ],
            "text/html": [
              "\n",
              "  <div id=\"df-e827700c-f1a3-4d3c-9789-9a5c02078a09\">\n",
              "    <div class=\"colab-df-container\">\n",
              "      <div>\n",
              "<style scoped>\n",
              "    .dataframe tbody tr th:only-of-type {\n",
              "        vertical-align: middle;\n",
              "    }\n",
              "\n",
              "    .dataframe tbody tr th {\n",
              "        vertical-align: top;\n",
              "    }\n",
              "\n",
              "    .dataframe thead th {\n",
              "        text-align: right;\n",
              "    }\n",
              "</style>\n",
              "<table border=\"1\" class=\"dataframe\">\n",
              "  <thead>\n",
              "    <tr style=\"text-align: right;\">\n",
              "      <th></th>\n",
              "      <th>Start</th>\n",
              "      <th>End</th>\n",
              "      <th>Length</th>\n",
              "      <th>drawdown</th>\n",
              "    </tr>\n",
              "  </thead>\n",
              "  <tbody>\n",
              "    <tr>\n",
              "      <th>44</th>\n",
              "      <td>2007-10-08 00:00:00</td>\n",
              "      <td>2010-04-23 00:00:00</td>\n",
              "      <td>928</td>\n",
              "      <td>-0.395137</td>\n",
              "    </tr>\n",
              "    <tr>\n",
              "      <th>149</th>\n",
              "      <td>2015-01-27 00:00:00</td>\n",
              "      <td>2016-03-29 00:00:00</td>\n",
              "      <td>427</td>\n",
              "      <td>-0.104394</td>\n",
              "    </tr>\n",
              "    <tr>\n",
              "      <th>161</th>\n",
              "      <td>2016-08-01 00:00:00</td>\n",
              "      <td>2017-06-22 00:00:00</td>\n",
              "      <td>325</td>\n",
              "      <td>-0.094859</td>\n",
              "    </tr>\n",
              "    <tr>\n",
              "      <th>114</th>\n",
              "      <td>2013-05-22 00:00:00</td>\n",
              "      <td>2014-02-25 00:00:00</td>\n",
              "      <td>279</td>\n",
              "      <td>-0.103555</td>\n",
              "    </tr>\n",
              "    <tr>\n",
              "      <th>43</th>\n",
              "      <td>2007-02-21 00:00:00</td>\n",
              "      <td>2007-10-05 00:00:00</td>\n",
              "      <td>226</td>\n",
              "      <td>-0.098794</td>\n",
              "    </tr>\n",
              "  </tbody>\n",
              "</table>\n",
              "</div>\n",
              "      <button class=\"colab-df-convert\" onclick=\"convertToInteractive('df-e827700c-f1a3-4d3c-9789-9a5c02078a09')\"\n",
              "              title=\"Convert this dataframe to an interactive table.\"\n",
              "              style=\"display:none;\">\n",
              "        \n",
              "  <svg xmlns=\"http://www.w3.org/2000/svg\" height=\"24px\"viewBox=\"0 0 24 24\"\n",
              "       width=\"24px\">\n",
              "    <path d=\"M0 0h24v24H0V0z\" fill=\"none\"/>\n",
              "    <path d=\"M18.56 5.44l.94 2.06.94-2.06 2.06-.94-2.06-.94-.94-2.06-.94 2.06-2.06.94zm-11 1L8.5 8.5l.94-2.06 2.06-.94-2.06-.94L8.5 2.5l-.94 2.06-2.06.94zm10 10l.94 2.06.94-2.06 2.06-.94-2.06-.94-.94-2.06-.94 2.06-2.06.94z\"/><path d=\"M17.41 7.96l-1.37-1.37c-.4-.4-.92-.59-1.43-.59-.52 0-1.04.2-1.43.59L10.3 9.45l-7.72 7.72c-.78.78-.78 2.05 0 2.83L4 21.41c.39.39.9.59 1.41.59.51 0 1.02-.2 1.41-.59l7.78-7.78 2.81-2.81c.8-.78.8-2.07 0-2.86zM5.41 20L4 18.59l7.72-7.72 1.47 1.35L5.41 20z\"/>\n",
              "  </svg>\n",
              "      </button>\n",
              "      \n",
              "  <style>\n",
              "    .colab-df-container {\n",
              "      display:flex;\n",
              "      flex-wrap:wrap;\n",
              "      gap: 12px;\n",
              "    }\n",
              "\n",
              "    .colab-df-convert {\n",
              "      background-color: #E8F0FE;\n",
              "      border: none;\n",
              "      border-radius: 50%;\n",
              "      cursor: pointer;\n",
              "      display: none;\n",
              "      fill: #1967D2;\n",
              "      height: 32px;\n",
              "      padding: 0 0 0 0;\n",
              "      width: 32px;\n",
              "    }\n",
              "\n",
              "    .colab-df-convert:hover {\n",
              "      background-color: #E2EBFA;\n",
              "      box-shadow: 0px 1px 2px rgba(60, 64, 67, 0.3), 0px 1px 3px 1px rgba(60, 64, 67, 0.15);\n",
              "      fill: #174EA6;\n",
              "    }\n",
              "\n",
              "    [theme=dark] .colab-df-convert {\n",
              "      background-color: #3B4455;\n",
              "      fill: #D2E3FC;\n",
              "    }\n",
              "\n",
              "    [theme=dark] .colab-df-convert:hover {\n",
              "      background-color: #434B5C;\n",
              "      box-shadow: 0px 1px 3px 1px rgba(0, 0, 0, 0.15);\n",
              "      filter: drop-shadow(0px 1px 2px rgba(0, 0, 0, 0.3));\n",
              "      fill: #FFFFFF;\n",
              "    }\n",
              "  </style>\n",
              "\n",
              "      <script>\n",
              "        const buttonEl =\n",
              "          document.querySelector('#df-e827700c-f1a3-4d3c-9789-9a5c02078a09 button.colab-df-convert');\n",
              "        buttonEl.style.display =\n",
              "          google.colab.kernel.accessAllowed ? 'block' : 'none';\n",
              "\n",
              "        async function convertToInteractive(key) {\n",
              "          const element = document.querySelector('#df-e827700c-f1a3-4d3c-9789-9a5c02078a09');\n",
              "          const dataTable =\n",
              "            await google.colab.kernel.invokeFunction('convertToInteractive',\n",
              "                                                     [key], {});\n",
              "          if (!dataTable) return;\n",
              "\n",
              "          const docLinkHtml = 'Like what you see? Visit the ' +\n",
              "            '<a target=\"_blank\" href=https://colab.research.google.com/notebooks/data_table.ipynb>data table notebook</a>'\n",
              "            + ' to learn more about interactive tables.';\n",
              "          element.innerHTML = '';\n",
              "          dataTable['output_type'] = 'display_data';\n",
              "          await google.colab.output.renderOutput(dataTable, element);\n",
              "          const docLink = document.createElement('div');\n",
              "          docLink.innerHTML = docLinkHtml;\n",
              "          element.appendChild(docLink);\n",
              "        }\n",
              "      </script>\n",
              "    </div>\n",
              "  </div>\n",
              "  "
            ]
          },
          "metadata": {},
          "execution_count": 12
        }
      ]
    },
    {
      "cell_type": "code",
      "source": [
        "res.display_monthly_returns()"
      ],
      "metadata": {
        "id": "3-1Q7vPYeuYC",
        "colab": {
          "base_uri": "https://localhost:8080/"
        },
        "outputId": "890a0309-f94d-4a1e-a8f3-7a3bbf74ee50"
      },
      "execution_count": null,
      "outputs": [
        {
          "output_type": "stream",
          "name": "stdout",
          "text": [
            "  Year     Jan     Feb    Mar    Apr    May    Jun    Jul    Aug    Sep     Oct    Nov    Dec     YTD\n",
            "------  ------  ------  -----  -----  -----  -----  -----  -----  -----  ------  -----  -----  ------\n",
            "  2005   -1.97    1.18  -1.32   2.55   3.29   2.32   2.43  -0.59  -0.53   -2.5    3.08   0.91    8.98\n",
            "  2006    2.87    1.19   0.74  -1.65  -2.06   2.21   2.22   2.93   2.19    3.53   3.15  -1.07   17.28\n",
            "  2007    3.1    -0.51  -0.9    1.72   0.27  -3.82  -2.62   3.07   2.63    1.74  -2.51  -2.18   -0.35\n",
            "  2008   -1.58   -2.05   2.62   2.79  -0.5   -5.59   0.65   2.25  -2.37  -16.58  -2.4   10.97  -13.28\n",
            "  2009  -12.94  -10.77   5.44   9.55   1.84  -0.87   6.5    6.87   4.36   -3.04   5      1.83   11.56\n",
            "  2010   -2.15    2.7    4.68   4.06  -2.89  -1.44   4.91   1.09   3.16    1.24  -1.22   2.5    17.49\n",
            "  2011    0.83    3.31  -0.54   3.69   1.17  -2.45   1.29  -0.53  -0.89    5.79  -0.59   3.16   14.84\n",
            "  2012    3.56    0.23   1.56   2.18  -0.94   2.65   2.31   0.39  -0.6    -1.09   0.47   0.79   12.01\n",
            "  2013    1.89    1.24   2.15   4.42  -3.38  -2.13   1.52  -3.87   2.54    3.68  -1.36   0.56    7.08\n",
            "  2014    2.35    3.33   0.68   2.06   2.56   0.96  -0.18   3.89  -3.25    5.07   2.56   1.69   23.72\n",
            "  2015    4.57   -1.66   0.42  -2.81  -0.46  -3.57   4.14  -4.39   0.8     4.53  -0.37  -0.08    0.63\n",
            "  2016   -0.95    0.95   5.45  -0.92   1.57   4.79   3.32  -1.6   -1.14   -3.98  -2.16   2.14    7.25\n",
            "  2017    0.8     3.01  -0.98   0.94   0.88   1.2    0.89   1.14  -0.12    0.47   2.18   0.98   11.93\n",
            "  2018   -0.62   -4.74   1.17  -0.26   2.69   1.78   1      2.39  -1.57   -4.37   2.78  -3.97   -4.07\n",
            "  2019    6.75    0.9    3.8    0.71  -0.11   3.13   1.18   4.19   0.39    0.75   0.62   0.25   24.75\n",
            "  2020    2.96   -2.55  -7.45   6.65   1.21   1.38   4.67   0.35  -1.74   -2.98   6.99   1.62   10.62\n",
            "  2021   -1.54    0.22   1.75   5.42   0.53   2.99   3.53   1.74  -4.56    5.79  -0.32   4.64   21.56\n",
            "  2022   -5.87   -2.68   1.4   -7.4    0      0      0      0      0       0      0      0     -13.98\n"
          ]
        }
      ]
    }
  ]
}